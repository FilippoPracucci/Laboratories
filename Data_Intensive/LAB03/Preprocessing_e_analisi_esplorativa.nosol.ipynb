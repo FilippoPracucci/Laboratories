{
 "cells": [
  {
   "cell_type": "markdown",
   "metadata": {
    "slideshow": {
     "slide_type": "slide"
    }
   },
   "source": [
    "# Laboratorio: Preprocessamento dati ed analisi esplorativa con pandas\n",
    "\n",
    "**Programmazione di Applicazioni Data Intensive**  \n",
    "Laurea in Ingegneria e Scienze Informatiche  \n",
    "DISI - Università di Bologna, Cesena\n",
    "\n",
    "Proff. Gianluca Moro, Roberto Pasolini  \n",
    "`nome.cognome@unibo.it`"
   ]
  },
  {
   "cell_type": "code",
   "execution_count": 93,
   "metadata": {},
   "outputs": [],
   "source": [
    "import numpy as np\n",
    "import pandas as pd\n",
    "import matplotlib.pyplot as plt"
   ]
  },
  {
   "cell_type": "markdown",
   "metadata": {},
   "source": [
    "## Dati: vendite Rossmann\n",
    "\n",
    "Rossmann, azienda fondata in Germania, è una delle maggiori catene europee di farmacie.\n",
    "\n",
    "Nel 2015 ha lanciato una [competizione su Kaggle](https://www.kaggle.com/c/rossmann-store-sales), condividendo alcuni dati storici su vendite e negozi con l'obiettivo di creare un modello di predizione delle vendite nei singoli negozi nelle sei settimane successive alla data della predizione.\n",
    "\n",
    "In questo laboratorio utilizzeremo alcuni dati rilasciati da Rossmann per prendere confidenza con le funzioni avanzate di pandas e matplotlib. Più avanti vedremo come creare effettivamente un modello di predizione con questi dati."
   ]
  },
  {
   "cell_type": "markdown",
   "metadata": {},
   "source": [
    "### Caricamento dati\n",
    "\n",
    "Lavoreremo con due file:\n",
    "\n",
    "- il file `rossmann-sales.csv` contenente un estratto del file `train.csv` con i dati sulle vendite usati per l'addestramento dei modelli di predizione, che coprono un insieme di 1.115 negozi e un arco temporale di un mese (luglio 2015),\n",
    "- il file `rossmann-stores.csv`, ovvero il file `store.csv` della competizione, contenente dati generali sui 1.115 negozi oggetto dell'analisi.\n",
    "\n",
    "Iniziamo caricando il file `rossmann-sales.csv` con i dati sulle vendite.\n",
    "\n",
    "CSV (_Comma Separated Values_) è un formato molto comune per i dati tabulari, per questo pandas offre una funzione `read_csv` con molti parametri impostabili per ottenere un `DataFrame` leggendo i dati da un file CSV.\n",
    "\n",
    "Alla funzione `read_csv` (come ad altre funzioni di pandas per leggere file) è possibile passare sia il riferimento ad un file aperto con `open` o simili, sia direttamente il nome o percorso di un file da leggere, sia l'URL di un file da reperire dal Web.\n",
    "\n",
    "Applichiamo quest'ultima possibilità, passando l'URL del file alla funzione `read_csv`."
   ]
  },
  {
   "cell_type": "code",
   "execution_count": 94,
   "metadata": {},
   "outputs": [],
   "source": [
    "sales = pd.read_csv(\"https://github.com/datascienceunibo/dialab2024/raw/main/Preprocessing_con_pandas/rossmann-sales.csv\")"
   ]
  },
  {
   "cell_type": "markdown",
   "metadata": {},
   "source": [
    "Vediamo un estratto del frame caricato scrivendone direttamente il nome. Di default di un frame con molte righe ne vengono visualizzate le prime 5 e le ultime 5."
   ]
  },
  {
   "cell_type": "code",
   "execution_count": 95,
   "metadata": {},
   "outputs": [
    {
     "data": {
      "text/html": [
       "<div>\n",
       "<style scoped>\n",
       "    .dataframe tbody tr th:only-of-type {\n",
       "        vertical-align: middle;\n",
       "    }\n",
       "\n",
       "    .dataframe tbody tr th {\n",
       "        vertical-align: top;\n",
       "    }\n",
       "\n",
       "    .dataframe thead th {\n",
       "        text-align: right;\n",
       "    }\n",
       "</style>\n",
       "<table border=\"1\" class=\"dataframe\">\n",
       "  <thead>\n",
       "    <tr style=\"text-align: right;\">\n",
       "      <th></th>\n",
       "      <th>Store</th>\n",
       "      <th>DayOfWeek</th>\n",
       "      <th>Date</th>\n",
       "      <th>Sales</th>\n",
       "      <th>Customers</th>\n",
       "      <th>Open</th>\n",
       "      <th>Promo</th>\n",
       "      <th>StateHoliday</th>\n",
       "      <th>SchoolHoliday</th>\n",
       "    </tr>\n",
       "  </thead>\n",
       "  <tbody>\n",
       "    <tr>\n",
       "      <th>0</th>\n",
       "      <td>1</td>\n",
       "      <td>5</td>\n",
       "      <td>2015-07-31</td>\n",
       "      <td>5263</td>\n",
       "      <td>555</td>\n",
       "      <td>1</td>\n",
       "      <td>1</td>\n",
       "      <td>0</td>\n",
       "      <td>1</td>\n",
       "    </tr>\n",
       "    <tr>\n",
       "      <th>1</th>\n",
       "      <td>2</td>\n",
       "      <td>5</td>\n",
       "      <td>2015-07-31</td>\n",
       "      <td>6064</td>\n",
       "      <td>625</td>\n",
       "      <td>1</td>\n",
       "      <td>1</td>\n",
       "      <td>0</td>\n",
       "      <td>1</td>\n",
       "    </tr>\n",
       "    <tr>\n",
       "      <th>2</th>\n",
       "      <td>3</td>\n",
       "      <td>5</td>\n",
       "      <td>2015-07-31</td>\n",
       "      <td>8314</td>\n",
       "      <td>821</td>\n",
       "      <td>1</td>\n",
       "      <td>1</td>\n",
       "      <td>0</td>\n",
       "      <td>1</td>\n",
       "    </tr>\n",
       "    <tr>\n",
       "      <th>3</th>\n",
       "      <td>4</td>\n",
       "      <td>5</td>\n",
       "      <td>2015-07-31</td>\n",
       "      <td>13995</td>\n",
       "      <td>1498</td>\n",
       "      <td>1</td>\n",
       "      <td>1</td>\n",
       "      <td>0</td>\n",
       "      <td>1</td>\n",
       "    </tr>\n",
       "    <tr>\n",
       "      <th>4</th>\n",
       "      <td>5</td>\n",
       "      <td>5</td>\n",
       "      <td>2015-07-31</td>\n",
       "      <td>4822</td>\n",
       "      <td>559</td>\n",
       "      <td>1</td>\n",
       "      <td>1</td>\n",
       "      <td>0</td>\n",
       "      <td>1</td>\n",
       "    </tr>\n",
       "    <tr>\n",
       "      <th>...</th>\n",
       "      <td>...</td>\n",
       "      <td>...</td>\n",
       "      <td>...</td>\n",
       "      <td>...</td>\n",
       "      <td>...</td>\n",
       "      <td>...</td>\n",
       "      <td>...</td>\n",
       "      <td>...</td>\n",
       "      <td>...</td>\n",
       "    </tr>\n",
       "    <tr>\n",
       "      <th>34560</th>\n",
       "      <td>1111</td>\n",
       "      <td>3</td>\n",
       "      <td>2015-07-01</td>\n",
       "      <td>3701</td>\n",
       "      <td>351</td>\n",
       "      <td>1</td>\n",
       "      <td>1</td>\n",
       "      <td>0</td>\n",
       "      <td>1</td>\n",
       "    </tr>\n",
       "    <tr>\n",
       "      <th>34561</th>\n",
       "      <td>1112</td>\n",
       "      <td>3</td>\n",
       "      <td>2015-07-01</td>\n",
       "      <td>10620</td>\n",
       "      <td>716</td>\n",
       "      <td>1</td>\n",
       "      <td>1</td>\n",
       "      <td>0</td>\n",
       "      <td>1</td>\n",
       "    </tr>\n",
       "    <tr>\n",
       "      <th>34562</th>\n",
       "      <td>1113</td>\n",
       "      <td>3</td>\n",
       "      <td>2015-07-01</td>\n",
       "      <td>8222</td>\n",
       "      <td>770</td>\n",
       "      <td>1</td>\n",
       "      <td>1</td>\n",
       "      <td>0</td>\n",
       "      <td>0</td>\n",
       "    </tr>\n",
       "    <tr>\n",
       "      <th>34563</th>\n",
       "      <td>1114</td>\n",
       "      <td>3</td>\n",
       "      <td>2015-07-01</td>\n",
       "      <td>27071</td>\n",
       "      <td>3788</td>\n",
       "      <td>1</td>\n",
       "      <td>1</td>\n",
       "      <td>0</td>\n",
       "      <td>0</td>\n",
       "    </tr>\n",
       "    <tr>\n",
       "      <th>34564</th>\n",
       "      <td>1115</td>\n",
       "      <td>3</td>\n",
       "      <td>2015-07-01</td>\n",
       "      <td>7701</td>\n",
       "      <td>447</td>\n",
       "      <td>1</td>\n",
       "      <td>1</td>\n",
       "      <td>0</td>\n",
       "      <td>0</td>\n",
       "    </tr>\n",
       "  </tbody>\n",
       "</table>\n",
       "<p>34565 rows × 9 columns</p>\n",
       "</div>"
      ],
      "text/plain": [
       "       Store  DayOfWeek        Date  Sales  Customers  Open  Promo  \\\n",
       "0          1          5  2015-07-31   5263        555     1      1   \n",
       "1          2          5  2015-07-31   6064        625     1      1   \n",
       "2          3          5  2015-07-31   8314        821     1      1   \n",
       "3          4          5  2015-07-31  13995       1498     1      1   \n",
       "4          5          5  2015-07-31   4822        559     1      1   \n",
       "...      ...        ...         ...    ...        ...   ...    ...   \n",
       "34560   1111          3  2015-07-01   3701        351     1      1   \n",
       "34561   1112          3  2015-07-01  10620        716     1      1   \n",
       "34562   1113          3  2015-07-01   8222        770     1      1   \n",
       "34563   1114          3  2015-07-01  27071       3788     1      1   \n",
       "34564   1115          3  2015-07-01   7701        447     1      1   \n",
       "\n",
       "       StateHoliday  SchoolHoliday  \n",
       "0                 0              1  \n",
       "1                 0              1  \n",
       "2                 0              1  \n",
       "3                 0              1  \n",
       "4                 0              1  \n",
       "...             ...            ...  \n",
       "34560             0              1  \n",
       "34561             0              1  \n",
       "34562             0              0  \n",
       "34563             0              0  \n",
       "34564             0              0  \n",
       "\n",
       "[34565 rows x 9 columns]"
      ]
     },
     "execution_count": 95,
     "metadata": {},
     "output_type": "execute_result"
    }
   ],
   "source": [
    "sales"
   ]
  },
  {
   "cell_type": "markdown",
   "metadata": {},
   "source": [
    "Ciascuna riga del frame contiene i dati relativi ad un singolo negozio in una singola data.\n",
    "\n",
    "Riportiamo sotto il significato delle colonne dalla pagina della competizione.\n",
    "\n",
    "- `Store`: identificatore del negozio, un intero da 1 a 1.115\n",
    "- `DayOfWeek`: giorno della settimana (1 = lunedì, 2 = martedì, ..., 7 = domenica)\n",
    "- `Date`: data a cui si riferiscono i dati, nel formato standard ISO `YYYY-MM-DD`\n",
    "- `Sales`: ricavo totale del negozio nella giornata _(valuta non indicata, assumeremo in Euro)_\n",
    "- `Customers`: numero di clienti del negozio nella giornata\n",
    "- `Open`: indica se il negozio era aperto (1 = aperto, 0 = chiuso)\n",
    "- `Promo`: indica se una promozione era in corso nel negozio (1 = in corso, 0 = non in corso)\n",
    "- `StateHoliday`: indica se nella data c'era una festività e di quale tipo (`a` = festa nazionale, `b` = Pasqua, `c` = Natale, 0 = nessuna festività)\n",
    "- `SchoolHoliday`: indica se nella data le scuole erano chiuse (1 = chiuse, 0 = aperte)"
   ]
  },
  {
   "cell_type": "markdown",
   "metadata": {},
   "source": [
    "Carichiamo ora il file `rossmann-stores.csv` con i dati sui singoli negozi, sempre passando l'URL del file alla funzione `read_csv`."
   ]
  },
  {
   "cell_type": "code",
   "execution_count": 96,
   "metadata": {},
   "outputs": [],
   "source": [
    "stores = pd.read_csv(\"https://github.com/datascienceunibo/dialab2024/raw/main/Preprocessing_con_pandas/rossmann-stores.csv\")"
   ]
  },
  {
   "cell_type": "code",
   "execution_count": 97,
   "metadata": {},
   "outputs": [
    {
     "data": {
      "text/html": [
       "<div>\n",
       "<style scoped>\n",
       "    .dataframe tbody tr th:only-of-type {\n",
       "        vertical-align: middle;\n",
       "    }\n",
       "\n",
       "    .dataframe tbody tr th {\n",
       "        vertical-align: top;\n",
       "    }\n",
       "\n",
       "    .dataframe thead th {\n",
       "        text-align: right;\n",
       "    }\n",
       "</style>\n",
       "<table border=\"1\" class=\"dataframe\">\n",
       "  <thead>\n",
       "    <tr style=\"text-align: right;\">\n",
       "      <th></th>\n",
       "      <th>Store</th>\n",
       "      <th>StoreType</th>\n",
       "      <th>Assortment</th>\n",
       "      <th>CompetitionDistance</th>\n",
       "      <th>CompetitionOpenSinceMonth</th>\n",
       "      <th>CompetitionOpenSinceYear</th>\n",
       "      <th>Promo2</th>\n",
       "      <th>Promo2SinceWeek</th>\n",
       "      <th>Promo2SinceYear</th>\n",
       "      <th>PromoInterval</th>\n",
       "    </tr>\n",
       "  </thead>\n",
       "  <tbody>\n",
       "    <tr>\n",
       "      <th>0</th>\n",
       "      <td>1</td>\n",
       "      <td>c</td>\n",
       "      <td>a</td>\n",
       "      <td>1270.0</td>\n",
       "      <td>9.0</td>\n",
       "      <td>2008.0</td>\n",
       "      <td>0</td>\n",
       "      <td>NaN</td>\n",
       "      <td>NaN</td>\n",
       "      <td>NaN</td>\n",
       "    </tr>\n",
       "    <tr>\n",
       "      <th>1</th>\n",
       "      <td>2</td>\n",
       "      <td>a</td>\n",
       "      <td>a</td>\n",
       "      <td>570.0</td>\n",
       "      <td>11.0</td>\n",
       "      <td>2007.0</td>\n",
       "      <td>1</td>\n",
       "      <td>13.0</td>\n",
       "      <td>2010.0</td>\n",
       "      <td>Jan,Apr,Jul,Oct</td>\n",
       "    </tr>\n",
       "    <tr>\n",
       "      <th>2</th>\n",
       "      <td>3</td>\n",
       "      <td>a</td>\n",
       "      <td>a</td>\n",
       "      <td>14130.0</td>\n",
       "      <td>12.0</td>\n",
       "      <td>2006.0</td>\n",
       "      <td>1</td>\n",
       "      <td>14.0</td>\n",
       "      <td>2011.0</td>\n",
       "      <td>Jan,Apr,Jul,Oct</td>\n",
       "    </tr>\n",
       "    <tr>\n",
       "      <th>3</th>\n",
       "      <td>4</td>\n",
       "      <td>c</td>\n",
       "      <td>c</td>\n",
       "      <td>620.0</td>\n",
       "      <td>9.0</td>\n",
       "      <td>2009.0</td>\n",
       "      <td>0</td>\n",
       "      <td>NaN</td>\n",
       "      <td>NaN</td>\n",
       "      <td>NaN</td>\n",
       "    </tr>\n",
       "    <tr>\n",
       "      <th>4</th>\n",
       "      <td>5</td>\n",
       "      <td>a</td>\n",
       "      <td>a</td>\n",
       "      <td>29910.0</td>\n",
       "      <td>4.0</td>\n",
       "      <td>2015.0</td>\n",
       "      <td>0</td>\n",
       "      <td>NaN</td>\n",
       "      <td>NaN</td>\n",
       "      <td>NaN</td>\n",
       "    </tr>\n",
       "    <tr>\n",
       "      <th>...</th>\n",
       "      <td>...</td>\n",
       "      <td>...</td>\n",
       "      <td>...</td>\n",
       "      <td>...</td>\n",
       "      <td>...</td>\n",
       "      <td>...</td>\n",
       "      <td>...</td>\n",
       "      <td>...</td>\n",
       "      <td>...</td>\n",
       "      <td>...</td>\n",
       "    </tr>\n",
       "    <tr>\n",
       "      <th>1110</th>\n",
       "      <td>1111</td>\n",
       "      <td>a</td>\n",
       "      <td>a</td>\n",
       "      <td>1900.0</td>\n",
       "      <td>6.0</td>\n",
       "      <td>2014.0</td>\n",
       "      <td>1</td>\n",
       "      <td>31.0</td>\n",
       "      <td>2013.0</td>\n",
       "      <td>Jan,Apr,Jul,Oct</td>\n",
       "    </tr>\n",
       "    <tr>\n",
       "      <th>1111</th>\n",
       "      <td>1112</td>\n",
       "      <td>c</td>\n",
       "      <td>c</td>\n",
       "      <td>1880.0</td>\n",
       "      <td>4.0</td>\n",
       "      <td>2006.0</td>\n",
       "      <td>0</td>\n",
       "      <td>NaN</td>\n",
       "      <td>NaN</td>\n",
       "      <td>NaN</td>\n",
       "    </tr>\n",
       "    <tr>\n",
       "      <th>1112</th>\n",
       "      <td>1113</td>\n",
       "      <td>a</td>\n",
       "      <td>c</td>\n",
       "      <td>9260.0</td>\n",
       "      <td>NaN</td>\n",
       "      <td>NaN</td>\n",
       "      <td>0</td>\n",
       "      <td>NaN</td>\n",
       "      <td>NaN</td>\n",
       "      <td>NaN</td>\n",
       "    </tr>\n",
       "    <tr>\n",
       "      <th>1113</th>\n",
       "      <td>1114</td>\n",
       "      <td>a</td>\n",
       "      <td>c</td>\n",
       "      <td>870.0</td>\n",
       "      <td>NaN</td>\n",
       "      <td>NaN</td>\n",
       "      <td>0</td>\n",
       "      <td>NaN</td>\n",
       "      <td>NaN</td>\n",
       "      <td>NaN</td>\n",
       "    </tr>\n",
       "    <tr>\n",
       "      <th>1114</th>\n",
       "      <td>1115</td>\n",
       "      <td>d</td>\n",
       "      <td>c</td>\n",
       "      <td>5350.0</td>\n",
       "      <td>NaN</td>\n",
       "      <td>NaN</td>\n",
       "      <td>1</td>\n",
       "      <td>22.0</td>\n",
       "      <td>2012.0</td>\n",
       "      <td>Mar,Jun,Sept,Dec</td>\n",
       "    </tr>\n",
       "  </tbody>\n",
       "</table>\n",
       "<p>1115 rows × 10 columns</p>\n",
       "</div>"
      ],
      "text/plain": [
       "      Store StoreType Assortment  CompetitionDistance  \\\n",
       "0         1         c          a               1270.0   \n",
       "1         2         a          a                570.0   \n",
       "2         3         a          a              14130.0   \n",
       "3         4         c          c                620.0   \n",
       "4         5         a          a              29910.0   \n",
       "...     ...       ...        ...                  ...   \n",
       "1110   1111         a          a               1900.0   \n",
       "1111   1112         c          c               1880.0   \n",
       "1112   1113         a          c               9260.0   \n",
       "1113   1114         a          c                870.0   \n",
       "1114   1115         d          c               5350.0   \n",
       "\n",
       "      CompetitionOpenSinceMonth  CompetitionOpenSinceYear  Promo2  \\\n",
       "0                           9.0                    2008.0       0   \n",
       "1                          11.0                    2007.0       1   \n",
       "2                          12.0                    2006.0       1   \n",
       "3                           9.0                    2009.0       0   \n",
       "4                           4.0                    2015.0       0   \n",
       "...                         ...                       ...     ...   \n",
       "1110                        6.0                    2014.0       1   \n",
       "1111                        4.0                    2006.0       0   \n",
       "1112                        NaN                       NaN       0   \n",
       "1113                        NaN                       NaN       0   \n",
       "1114                        NaN                       NaN       1   \n",
       "\n",
       "      Promo2SinceWeek  Promo2SinceYear     PromoInterval  \n",
       "0                 NaN              NaN               NaN  \n",
       "1                13.0           2010.0   Jan,Apr,Jul,Oct  \n",
       "2                14.0           2011.0   Jan,Apr,Jul,Oct  \n",
       "3                 NaN              NaN               NaN  \n",
       "4                 NaN              NaN               NaN  \n",
       "...               ...              ...               ...  \n",
       "1110             31.0           2013.0   Jan,Apr,Jul,Oct  \n",
       "1111              NaN              NaN               NaN  \n",
       "1112              NaN              NaN               NaN  \n",
       "1113              NaN              NaN               NaN  \n",
       "1114             22.0           2012.0  Mar,Jun,Sept,Dec  \n",
       "\n",
       "[1115 rows x 10 columns]"
      ]
     },
     "execution_count": 97,
     "metadata": {},
     "output_type": "execute_result"
    }
   ],
   "source": [
    "stores"
   ]
  },
  {
   "cell_type": "markdown",
   "metadata": {},
   "source": [
    "Ciascuna riga corrisponde ad un negozio, di cui sono riportate le informazioni descritte sotto.\n",
    "\n",
    "- `Store`: identificatore del negozio da 1 a 1.115\n",
    "- `StoreType`: lettera che distingue la tipologia di negozio (`a`, `b`, `c` o `d`)\n",
    "- `Assortment`: livello di assortimento dei prodotti nel negozio (`a` = base, `b` = extra, `c` = esteso)\n",
    "- `CompetitionDistance`: distanza in metri dal punto vendita concorrente più vicino\n",
    "- `CompetitionOpenSinceMonth` e `CompetitionOpenSinceYear`: mese e anno in cui il punto vendita concorrente più vicino è stato aperto\n",
    "- `Promo2`: indica se il negozio prende parte a una promozione continuativa (0 = no, 1 = sì)\n",
    "- `Promo2SinceWeek` e `Promo2SinceYear`: numero di settimana e anno a partire dai quali il negozio prende parte alla `Promo2`\n",
    "- `PromoInterval`: mesi dell'anno in cui il negozio avvia la `Promo2`"
   ]
  },
  {
   "cell_type": "markdown",
   "metadata": {},
   "source": [
    "### Indici dei frame\n",
    "\n",
    "Di default `read_csv` intepreta come indice (nomi) delle colonne la prima riga del file, mentre associa come etichetta ad ogni riga un numero progressivo a partire da 0.\n",
    "\n",
    "In questo caso il frame `stores` ha la colonna `Store` che svolge il ruolo di identificatore (o \"chiave primaria\") e che ha quindi senso usare come indice.\n",
    "\n",
    "Usiamo il metodo `set_index` per sostituire il frame con una copia dove la colonna `Store` viene rimossa e usata come indice. _(non usiamo `inplace=True` in quanto sconsigliato e probabilmente assente in future versioni di pandas)_"
   ]
  },
  {
   "cell_type": "code",
   "execution_count": 98,
   "metadata": {},
   "outputs": [],
   "source": [
    "stores = stores.set_index(\"Store\")"
   ]
  },
  {
   "cell_type": "markdown",
   "metadata": {},
   "source": [
    "Stampiamo la prima riga del frame per vedere il cambiamento."
   ]
  },
  {
   "cell_type": "code",
   "execution_count": 99,
   "metadata": {},
   "outputs": [
    {
     "data": {
      "text/html": [
       "<div>\n",
       "<style scoped>\n",
       "    .dataframe tbody tr th:only-of-type {\n",
       "        vertical-align: middle;\n",
       "    }\n",
       "\n",
       "    .dataframe tbody tr th {\n",
       "        vertical-align: top;\n",
       "    }\n",
       "\n",
       "    .dataframe thead th {\n",
       "        text-align: right;\n",
       "    }\n",
       "</style>\n",
       "<table border=\"1\" class=\"dataframe\">\n",
       "  <thead>\n",
       "    <tr style=\"text-align: right;\">\n",
       "      <th></th>\n",
       "      <th>Store</th>\n",
       "      <th>DayOfWeek</th>\n",
       "      <th>Date</th>\n",
       "      <th>Sales</th>\n",
       "      <th>Customers</th>\n",
       "      <th>Open</th>\n",
       "      <th>Promo</th>\n",
       "      <th>StateHoliday</th>\n",
       "      <th>SchoolHoliday</th>\n",
       "    </tr>\n",
       "  </thead>\n",
       "  <tbody>\n",
       "    <tr>\n",
       "      <th>0</th>\n",
       "      <td>1</td>\n",
       "      <td>5</td>\n",
       "      <td>2015-07-31</td>\n",
       "      <td>5263</td>\n",
       "      <td>555</td>\n",
       "      <td>1</td>\n",
       "      <td>1</td>\n",
       "      <td>0</td>\n",
       "      <td>1</td>\n",
       "    </tr>\n",
       "    <tr>\n",
       "      <th>1</th>\n",
       "      <td>2</td>\n",
       "      <td>5</td>\n",
       "      <td>2015-07-31</td>\n",
       "      <td>6064</td>\n",
       "      <td>625</td>\n",
       "      <td>1</td>\n",
       "      <td>1</td>\n",
       "      <td>0</td>\n",
       "      <td>1</td>\n",
       "    </tr>\n",
       "    <tr>\n",
       "      <th>2</th>\n",
       "      <td>3</td>\n",
       "      <td>5</td>\n",
       "      <td>2015-07-31</td>\n",
       "      <td>8314</td>\n",
       "      <td>821</td>\n",
       "      <td>1</td>\n",
       "      <td>1</td>\n",
       "      <td>0</td>\n",
       "      <td>1</td>\n",
       "    </tr>\n",
       "  </tbody>\n",
       "</table>\n",
       "</div>"
      ],
      "text/plain": [
       "   Store  DayOfWeek        Date  Sales  Customers  Open  Promo  StateHoliday  \\\n",
       "0      1          5  2015-07-31   5263        555     1      1             0   \n",
       "1      2          5  2015-07-31   6064        625     1      1             0   \n",
       "2      3          5  2015-07-31   8314        821     1      1             0   \n",
       "\n",
       "   SchoolHoliday  \n",
       "0              1  \n",
       "1              1  \n",
       "2              1  "
      ]
     },
     "execution_count": 99,
     "metadata": {},
     "output_type": "execute_result"
    }
   ],
   "source": [
    "sales.head(3)"
   ]
  },
  {
   "cell_type": "code",
   "execution_count": 100,
   "metadata": {},
   "outputs": [
    {
     "data": {
      "text/html": [
       "<div>\n",
       "<style scoped>\n",
       "    .dataframe tbody tr th:only-of-type {\n",
       "        vertical-align: middle;\n",
       "    }\n",
       "\n",
       "    .dataframe tbody tr th {\n",
       "        vertical-align: top;\n",
       "    }\n",
       "\n",
       "    .dataframe thead th {\n",
       "        text-align: right;\n",
       "    }\n",
       "</style>\n",
       "<table border=\"1\" class=\"dataframe\">\n",
       "  <thead>\n",
       "    <tr style=\"text-align: right;\">\n",
       "      <th></th>\n",
       "      <th>StoreType</th>\n",
       "      <th>Assortment</th>\n",
       "      <th>CompetitionDistance</th>\n",
       "      <th>CompetitionOpenSinceMonth</th>\n",
       "      <th>CompetitionOpenSinceYear</th>\n",
       "      <th>Promo2</th>\n",
       "      <th>Promo2SinceWeek</th>\n",
       "      <th>Promo2SinceYear</th>\n",
       "      <th>PromoInterval</th>\n",
       "    </tr>\n",
       "    <tr>\n",
       "      <th>Store</th>\n",
       "      <th></th>\n",
       "      <th></th>\n",
       "      <th></th>\n",
       "      <th></th>\n",
       "      <th></th>\n",
       "      <th></th>\n",
       "      <th></th>\n",
       "      <th></th>\n",
       "      <th></th>\n",
       "    </tr>\n",
       "  </thead>\n",
       "  <tbody>\n",
       "    <tr>\n",
       "      <th>1</th>\n",
       "      <td>c</td>\n",
       "      <td>a</td>\n",
       "      <td>1270.0</td>\n",
       "      <td>9.0</td>\n",
       "      <td>2008.0</td>\n",
       "      <td>0</td>\n",
       "      <td>NaN</td>\n",
       "      <td>NaN</td>\n",
       "      <td>NaN</td>\n",
       "    </tr>\n",
       "    <tr>\n",
       "      <th>2</th>\n",
       "      <td>a</td>\n",
       "      <td>a</td>\n",
       "      <td>570.0</td>\n",
       "      <td>11.0</td>\n",
       "      <td>2007.0</td>\n",
       "      <td>1</td>\n",
       "      <td>13.0</td>\n",
       "      <td>2010.0</td>\n",
       "      <td>Jan,Apr,Jul,Oct</td>\n",
       "    </tr>\n",
       "    <tr>\n",
       "      <th>3</th>\n",
       "      <td>a</td>\n",
       "      <td>a</td>\n",
       "      <td>14130.0</td>\n",
       "      <td>12.0</td>\n",
       "      <td>2006.0</td>\n",
       "      <td>1</td>\n",
       "      <td>14.0</td>\n",
       "      <td>2011.0</td>\n",
       "      <td>Jan,Apr,Jul,Oct</td>\n",
       "    </tr>\n",
       "  </tbody>\n",
       "</table>\n",
       "</div>"
      ],
      "text/plain": [
       "      StoreType Assortment  CompetitionDistance  CompetitionOpenSinceMonth  \\\n",
       "Store                                                                        \n",
       "1             c          a               1270.0                        9.0   \n",
       "2             a          a                570.0                       11.0   \n",
       "3             a          a              14130.0                       12.0   \n",
       "\n",
       "       CompetitionOpenSinceYear  Promo2  Promo2SinceWeek  Promo2SinceYear  \\\n",
       "Store                                                                       \n",
       "1                        2008.0       0              NaN              NaN   \n",
       "2                        2007.0       1             13.0           2010.0   \n",
       "3                        2006.0       1             14.0           2011.0   \n",
       "\n",
       "         PromoInterval  \n",
       "Store                   \n",
       "1                  NaN  \n",
       "2      Jan,Apr,Jul,Oct  \n",
       "3      Jan,Apr,Jul,Oct  "
      ]
     },
     "execution_count": 100,
     "metadata": {},
     "output_type": "execute_result"
    }
   ],
   "source": [
    "stores.head(3)"
   ]
  },
  {
   "cell_type": "markdown",
   "metadata": {},
   "source": [
    "### Esercizio 1: Ripasso pandas\n",
    "\n",
    "Estrarre le seguenti informazioni dal frame `sales`.\n",
    "\n",
    "- **(1a)** Quante sono le righe in cui il negozio analizzato è chiuso?\n",
    "- **(1b)** Escludendo le righe in cui il negozio analizzato è chiuso, qual è il numero medio di clienti giornaliero?\n",
    "- **(1c)** Qual è il ricavo totale del negozio con ID 123?\n",
    "- **(1d)** Selezionare le 5 righe col ricavo giornaliero più alto"
   ]
  },
  {
   "cell_type": "code",
   "execution_count": 101,
   "metadata": {
    "scrolled": true
   },
   "outputs": [
    {
     "data": {
      "text/plain": [
       "4377"
      ]
     },
     "execution_count": 101,
     "metadata": {},
     "output_type": "execute_result"
    }
   ],
   "source": [
    "#1a\n",
    "(sales[\"Open\"] == 0).sum()"
   ]
  },
  {
   "cell_type": "code",
   "execution_count": 102,
   "metadata": {},
   "outputs": [
    {
     "data": {
      "text/plain": [
       "737.1766264740957"
      ]
     },
     "execution_count": 102,
     "metadata": {},
     "output_type": "execute_result"
    }
   ],
   "source": [
    "#1b\n",
    "#sales[sales[\"Open\"] == 1][\"Customers\"].mean()\n",
    "sales.loc[sales[\"Open\"] == 1, \"Customers\"].mean()"
   ]
  },
  {
   "cell_type": "code",
   "execution_count": 103,
   "metadata": {
    "scrolled": false
   },
   "outputs": [
    {
     "data": {
      "text/plain": [
       "225366"
      ]
     },
     "execution_count": 103,
     "metadata": {},
     "output_type": "execute_result"
    }
   ],
   "source": [
    "#1c\n",
    "#sales[sales[\"Store\"] == 123][\"Sales\"].sum()\n",
    "sales.loc[sales[\"Store\"] == 123, \"Sales\"].sum()"
   ]
  },
  {
   "cell_type": "code",
   "execution_count": 104,
   "metadata": {},
   "outputs": [
    {
     "data": {
      "text/html": [
       "<div>\n",
       "<style scoped>\n",
       "    .dataframe tbody tr th:only-of-type {\n",
       "        vertical-align: middle;\n",
       "    }\n",
       "\n",
       "    .dataframe tbody tr th {\n",
       "        vertical-align: top;\n",
       "    }\n",
       "\n",
       "    .dataframe thead th {\n",
       "        text-align: right;\n",
       "    }\n",
       "</style>\n",
       "<table border=\"1\" class=\"dataframe\">\n",
       "  <thead>\n",
       "    <tr style=\"text-align: right;\">\n",
       "      <th></th>\n",
       "      <th>Store</th>\n",
       "      <th>DayOfWeek</th>\n",
       "      <th>Date</th>\n",
       "      <th>Sales</th>\n",
       "      <th>Customers</th>\n",
       "      <th>Open</th>\n",
       "      <th>Promo</th>\n",
       "      <th>StateHoliday</th>\n",
       "      <th>SchoolHoliday</th>\n",
       "    </tr>\n",
       "  </thead>\n",
       "  <tbody>\n",
       "    <tr>\n",
       "      <th>5836</th>\n",
       "      <td>262</td>\n",
       "      <td>7</td>\n",
       "      <td>2015-07-26</td>\n",
       "      <td>32547</td>\n",
       "      <td>4783</td>\n",
       "      <td>1</td>\n",
       "      <td>0</td>\n",
       "      <td>0</td>\n",
       "      <td>0</td>\n",
       "    </tr>\n",
       "    <tr>\n",
       "      <th>21446</th>\n",
       "      <td>262</td>\n",
       "      <td>7</td>\n",
       "      <td>2015-07-12</td>\n",
       "      <td>32271</td>\n",
       "      <td>4623</td>\n",
       "      <td>1</td>\n",
       "      <td>0</td>\n",
       "      <td>0</td>\n",
       "      <td>0</td>\n",
       "    </tr>\n",
       "    <tr>\n",
       "      <th>13641</th>\n",
       "      <td>262</td>\n",
       "      <td>7</td>\n",
       "      <td>2015-07-19</td>\n",
       "      <td>31665</td>\n",
       "      <td>4691</td>\n",
       "      <td>1</td>\n",
       "      <td>0</td>\n",
       "      <td>0</td>\n",
       "      <td>0</td>\n",
       "    </tr>\n",
       "    <tr>\n",
       "      <th>29251</th>\n",
       "      <td>262</td>\n",
       "      <td>7</td>\n",
       "      <td>2015-07-05</td>\n",
       "      <td>30255</td>\n",
       "      <td>4762</td>\n",
       "      <td>1</td>\n",
       "      <td>0</td>\n",
       "      <td>0</td>\n",
       "      <td>0</td>\n",
       "    </tr>\n",
       "    <tr>\n",
       "      <th>21183</th>\n",
       "      <td>1114</td>\n",
       "      <td>1</td>\n",
       "      <td>2015-07-13</td>\n",
       "      <td>28156</td>\n",
       "      <td>3592</td>\n",
       "      <td>1</td>\n",
       "      <td>1</td>\n",
       "      <td>0</td>\n",
       "      <td>0</td>\n",
       "    </tr>\n",
       "  </tbody>\n",
       "</table>\n",
       "</div>"
      ],
      "text/plain": [
       "       Store  DayOfWeek        Date  Sales  Customers  Open  Promo  \\\n",
       "5836     262          7  2015-07-26  32547       4783     1      0   \n",
       "21446    262          7  2015-07-12  32271       4623     1      0   \n",
       "13641    262          7  2015-07-19  31665       4691     1      0   \n",
       "29251    262          7  2015-07-05  30255       4762     1      0   \n",
       "21183   1114          1  2015-07-13  28156       3592     1      1   \n",
       "\n",
       "       StateHoliday  SchoolHoliday  \n",
       "5836              0              0  \n",
       "21446             0              0  \n",
       "13641             0              0  \n",
       "29251             0              0  \n",
       "21183             0              0  "
      ]
     },
     "execution_count": 104,
     "metadata": {},
     "output_type": "execute_result"
    }
   ],
   "source": [
    "#1d\n",
    "sales.sort_values(\"Sales\", ascending=False).head(5)"
   ]
  },
  {
   "cell_type": "markdown",
   "metadata": {},
   "source": [
    "## Dati mancanti\n",
    "\n",
    "In alcune celle del frame `stores` stampato sopra è riportato `NaN` (_Not a Number_): si tratta di un valore numerico speciale che indica che il dato atteso è assente.\n",
    "\n",
    "Questo può in generale accadere se il dato atteso non è noto (ad es. per errori nella raccolta dei dati) oppure se non esiste. Ad es. nel frame `stores` nelle righe in cui `Promo2` è 0 (ovvero la `Promo2` non è attiva) tutte gli altri attributi della `Promo2` sono `NaN` in quanto la data di inizio e i mesi della promozione _non ci sono_.\n",
    "\n",
    "È di solito importante evitare la presenza di dati mancanti, in quanto non possono essere utilizzati ad es. nell'addestramento di modelli di predizione.\n",
    "\n",
    "Si noti che tutte le operazioni e i confronti con valori `NaN` restituiscono `False`."
   ]
  },
  {
   "cell_type": "code",
   "execution_count": 105,
   "metadata": {},
   "outputs": [
    {
     "data": {
      "text/plain": [
       "nan"
      ]
     },
     "execution_count": 105,
     "metadata": {},
     "output_type": "execute_result"
    }
   ],
   "source": [
    "2 + np.nan"
   ]
  },
  {
   "cell_type": "code",
   "execution_count": 106,
   "metadata": {},
   "outputs": [
    {
     "data": {
      "text/plain": [
       "False"
      ]
     },
     "execution_count": 106,
     "metadata": {},
     "output_type": "execute_result"
    }
   ],
   "source": [
    "np.nan > 0"
   ]
  },
  {
   "cell_type": "markdown",
   "metadata": {},
   "source": [
    "`NaN` non è nemmeno considerato uguale a se stesso!"
   ]
  },
  {
   "cell_type": "code",
   "execution_count": 107,
   "metadata": {},
   "outputs": [
    {
     "data": {
      "text/plain": [
       "False"
      ]
     },
     "execution_count": 107,
     "metadata": {},
     "output_type": "execute_result"
    }
   ],
   "source": [
    "np.nan == np.nan"
   ]
  },
  {
   "cell_type": "markdown",
   "metadata": {},
   "source": [
    "### Rilevazione dati mancanti\n",
    "\n",
    "Per rilevare la presenza di valori `NaN` in una serie o frame si può usare il metodo `isna`, che restituisce una serie o frame booleano con gli stessi indici che indica `True` in corrispondenza dei valori `NaN` e `False` su quelli presenti. Esiste anche il metodo `notna` che restituisce una serie o frame booleano inverso rispetto a `isna` (`True` = presente, `False` = assente)."
   ]
  },
  {
   "cell_type": "code",
   "execution_count": 108,
   "metadata": {},
   "outputs": [
    {
     "data": {
      "text/plain": [
       "0    1.0\n",
       "1    2.0\n",
       "2    NaN\n",
       "3    3.0\n",
       "dtype: float64"
      ]
     },
     "execution_count": 108,
     "metadata": {},
     "output_type": "execute_result"
    }
   ],
   "source": [
    "pd.Series([1, 2, np.nan, 3])"
   ]
  },
  {
   "cell_type": "code",
   "execution_count": 109,
   "metadata": {},
   "outputs": [
    {
     "data": {
      "text/plain": [
       "0    False\n",
       "1    False\n",
       "2     True\n",
       "3    False\n",
       "dtype: bool"
      ]
     },
     "execution_count": 109,
     "metadata": {},
     "output_type": "execute_result"
    }
   ],
   "source": [
    "pd.Series([1, 2, np.nan, 3]).isna()"
   ]
  },
  {
   "cell_type": "code",
   "execution_count": 110,
   "metadata": {},
   "outputs": [
    {
     "data": {
      "text/plain": [
       "0     True\n",
       "1     True\n",
       "2    False\n",
       "3     True\n",
       "dtype: bool"
      ]
     },
     "execution_count": 110,
     "metadata": {},
     "output_type": "execute_result"
    }
   ],
   "source": [
    "pd.Series([1, 2, np.nan, 3]).notna()"
   ]
  },
  {
   "cell_type": "markdown",
   "metadata": {},
   "source": [
    "Possiamo applicare `isna` ad un frame e usare a cascata un metodo di aggregazione per verificare la presenza di valori mancanti nelle singole colonne.\n",
    "\n",
    "Vediamo ad esempio in quali colonne di `stores` è presente almeno un (`any`) valore mancante."
   ]
  },
  {
   "cell_type": "code",
   "execution_count": 111,
   "metadata": {},
   "outputs": [
    {
     "data": {
      "text/plain": [
       "StoreType                    False\n",
       "Assortment                   False\n",
       "CompetitionDistance           True\n",
       "CompetitionOpenSinceMonth     True\n",
       "CompetitionOpenSinceYear      True\n",
       "Promo2                       False\n",
       "Promo2SinceWeek               True\n",
       "Promo2SinceYear               True\n",
       "PromoInterval                 True\n",
       "dtype: bool"
      ]
     },
     "execution_count": 111,
     "metadata": {},
     "output_type": "execute_result"
    }
   ],
   "source": [
    "stores.isna().any()"
   ]
  },
  {
   "cell_type": "markdown",
   "metadata": {},
   "source": [
    "### Trattamento valori mancanti\n",
    "\n",
    "Se sono presenti dati mancanti, esistono principalmente due modi per ottenere un set di dati senza di essi: _rimuovere_ righe o colonne con dati mancanti oppure _sostituire_ i valori `NaN` con altri.\n",
    "\n",
    "Il metodo `dropna` applicato ad una serie restituisce una copia della serie senza i valori mancanti. `S.dropna()` è in pratica equivalente a `S.loc[S.notna()]`."
   ]
  },
  {
   "cell_type": "code",
   "execution_count": 112,
   "metadata": {},
   "outputs": [
    {
     "data": {
      "text/plain": [
       "0    1.0\n",
       "1    2.0\n",
       "3    3.0\n",
       "dtype: float64"
      ]
     },
     "execution_count": 112,
     "metadata": {},
     "output_type": "execute_result"
    }
   ],
   "source": [
    "pd.Series([1, 2, np.nan, 3]).dropna()"
   ]
  },
  {
   "cell_type": "markdown",
   "metadata": {},
   "source": [
    "Se applicato ad un frame, `dropna` di default ne restituisce una copia dove sono rimosse tutte le _righe_ con _almeno un_ valore `NaN`. Questo comportamento può essere modificato con dei parametri, ad esempio con `axis=1` per eliminare invece le _colonne_ con almeno un `NaN` (vedere la [documentazione](https://pandas.pydata.org/docs/reference/api/pandas.DataFrame.dropna.html) per approfondire)."
   ]
  },
  {
   "cell_type": "code",
   "execution_count": 113,
   "metadata": {},
   "outputs": [
    {
     "data": {
      "text/html": [
       "<div>\n",
       "<style scoped>\n",
       "    .dataframe tbody tr th:only-of-type {\n",
       "        vertical-align: middle;\n",
       "    }\n",
       "\n",
       "    .dataframe tbody tr th {\n",
       "        vertical-align: top;\n",
       "    }\n",
       "\n",
       "    .dataframe thead th {\n",
       "        text-align: right;\n",
       "    }\n",
       "</style>\n",
       "<table border=\"1\" class=\"dataframe\">\n",
       "  <thead>\n",
       "    <tr style=\"text-align: right;\">\n",
       "      <th></th>\n",
       "      <th>StoreType</th>\n",
       "      <th>Assortment</th>\n",
       "      <th>CompetitionDistance</th>\n",
       "      <th>CompetitionOpenSinceMonth</th>\n",
       "      <th>CompetitionOpenSinceYear</th>\n",
       "      <th>Promo2</th>\n",
       "      <th>Promo2SinceWeek</th>\n",
       "      <th>Promo2SinceYear</th>\n",
       "      <th>PromoInterval</th>\n",
       "    </tr>\n",
       "    <tr>\n",
       "      <th>Store</th>\n",
       "      <th></th>\n",
       "      <th></th>\n",
       "      <th></th>\n",
       "      <th></th>\n",
       "      <th></th>\n",
       "      <th></th>\n",
       "      <th></th>\n",
       "      <th></th>\n",
       "      <th></th>\n",
       "    </tr>\n",
       "  </thead>\n",
       "  <tbody>\n",
       "    <tr>\n",
       "      <th>2</th>\n",
       "      <td>a</td>\n",
       "      <td>a</td>\n",
       "      <td>570.0</td>\n",
       "      <td>11.0</td>\n",
       "      <td>2007.0</td>\n",
       "      <td>1</td>\n",
       "      <td>13.0</td>\n",
       "      <td>2010.0</td>\n",
       "      <td>Jan,Apr,Jul,Oct</td>\n",
       "    </tr>\n",
       "    <tr>\n",
       "      <th>3</th>\n",
       "      <td>a</td>\n",
       "      <td>a</td>\n",
       "      <td>14130.0</td>\n",
       "      <td>12.0</td>\n",
       "      <td>2006.0</td>\n",
       "      <td>1</td>\n",
       "      <td>14.0</td>\n",
       "      <td>2011.0</td>\n",
       "      <td>Jan,Apr,Jul,Oct</td>\n",
       "    </tr>\n",
       "    <tr>\n",
       "      <th>11</th>\n",
       "      <td>a</td>\n",
       "      <td>c</td>\n",
       "      <td>960.0</td>\n",
       "      <td>11.0</td>\n",
       "      <td>2011.0</td>\n",
       "      <td>1</td>\n",
       "      <td>1.0</td>\n",
       "      <td>2012.0</td>\n",
       "      <td>Jan,Apr,Jul,Oct</td>\n",
       "    </tr>\n",
       "    <tr>\n",
       "      <th>14</th>\n",
       "      <td>a</td>\n",
       "      <td>a</td>\n",
       "      <td>1300.0</td>\n",
       "      <td>3.0</td>\n",
       "      <td>2014.0</td>\n",
       "      <td>1</td>\n",
       "      <td>40.0</td>\n",
       "      <td>2011.0</td>\n",
       "      <td>Jan,Apr,Jul,Oct</td>\n",
       "    </tr>\n",
       "    <tr>\n",
       "      <th>15</th>\n",
       "      <td>d</td>\n",
       "      <td>c</td>\n",
       "      <td>4110.0</td>\n",
       "      <td>3.0</td>\n",
       "      <td>2010.0</td>\n",
       "      <td>1</td>\n",
       "      <td>14.0</td>\n",
       "      <td>2011.0</td>\n",
       "      <td>Jan,Apr,Jul,Oct</td>\n",
       "    </tr>\n",
       "    <tr>\n",
       "      <th>...</th>\n",
       "      <td>...</td>\n",
       "      <td>...</td>\n",
       "      <td>...</td>\n",
       "      <td>...</td>\n",
       "      <td>...</td>\n",
       "      <td>...</td>\n",
       "      <td>...</td>\n",
       "      <td>...</td>\n",
       "      <td>...</td>\n",
       "    </tr>\n",
       "    <tr>\n",
       "      <th>1105</th>\n",
       "      <td>c</td>\n",
       "      <td>c</td>\n",
       "      <td>330.0</td>\n",
       "      <td>11.0</td>\n",
       "      <td>2008.0</td>\n",
       "      <td>1</td>\n",
       "      <td>5.0</td>\n",
       "      <td>2013.0</td>\n",
       "      <td>Feb,May,Aug,Nov</td>\n",
       "    </tr>\n",
       "    <tr>\n",
       "      <th>1106</th>\n",
       "      <td>a</td>\n",
       "      <td>c</td>\n",
       "      <td>5330.0</td>\n",
       "      <td>9.0</td>\n",
       "      <td>2011.0</td>\n",
       "      <td>1</td>\n",
       "      <td>31.0</td>\n",
       "      <td>2013.0</td>\n",
       "      <td>Jan,Apr,Jul,Oct</td>\n",
       "    </tr>\n",
       "    <tr>\n",
       "      <th>1107</th>\n",
       "      <td>a</td>\n",
       "      <td>a</td>\n",
       "      <td>1400.0</td>\n",
       "      <td>6.0</td>\n",
       "      <td>2012.0</td>\n",
       "      <td>1</td>\n",
       "      <td>13.0</td>\n",
       "      <td>2010.0</td>\n",
       "      <td>Jan,Apr,Jul,Oct</td>\n",
       "    </tr>\n",
       "    <tr>\n",
       "      <th>1109</th>\n",
       "      <td>c</td>\n",
       "      <td>a</td>\n",
       "      <td>3490.0</td>\n",
       "      <td>4.0</td>\n",
       "      <td>2011.0</td>\n",
       "      <td>1</td>\n",
       "      <td>22.0</td>\n",
       "      <td>2012.0</td>\n",
       "      <td>Jan,Apr,Jul,Oct</td>\n",
       "    </tr>\n",
       "    <tr>\n",
       "      <th>1111</th>\n",
       "      <td>a</td>\n",
       "      <td>a</td>\n",
       "      <td>1900.0</td>\n",
       "      <td>6.0</td>\n",
       "      <td>2014.0</td>\n",
       "      <td>1</td>\n",
       "      <td>31.0</td>\n",
       "      <td>2013.0</td>\n",
       "      <td>Jan,Apr,Jul,Oct</td>\n",
       "    </tr>\n",
       "  </tbody>\n",
       "</table>\n",
       "<p>365 rows × 9 columns</p>\n",
       "</div>"
      ],
      "text/plain": [
       "      StoreType Assortment  CompetitionDistance  CompetitionOpenSinceMonth  \\\n",
       "Store                                                                        \n",
       "2             a          a                570.0                       11.0   \n",
       "3             a          a              14130.0                       12.0   \n",
       "11            a          c                960.0                       11.0   \n",
       "14            a          a               1300.0                        3.0   \n",
       "15            d          c               4110.0                        3.0   \n",
       "...         ...        ...                  ...                        ...   \n",
       "1105          c          c                330.0                       11.0   \n",
       "1106          a          c               5330.0                        9.0   \n",
       "1107          a          a               1400.0                        6.0   \n",
       "1109          c          a               3490.0                        4.0   \n",
       "1111          a          a               1900.0                        6.0   \n",
       "\n",
       "       CompetitionOpenSinceYear  Promo2  Promo2SinceWeek  Promo2SinceYear  \\\n",
       "Store                                                                       \n",
       "2                        2007.0       1             13.0           2010.0   \n",
       "3                        2006.0       1             14.0           2011.0   \n",
       "11                       2011.0       1              1.0           2012.0   \n",
       "14                       2014.0       1             40.0           2011.0   \n",
       "15                       2010.0       1             14.0           2011.0   \n",
       "...                         ...     ...              ...              ...   \n",
       "1105                     2008.0       1              5.0           2013.0   \n",
       "1106                     2011.0       1             31.0           2013.0   \n",
       "1107                     2012.0       1             13.0           2010.0   \n",
       "1109                     2011.0       1             22.0           2012.0   \n",
       "1111                     2014.0       1             31.0           2013.0   \n",
       "\n",
       "         PromoInterval  \n",
       "Store                   \n",
       "2      Jan,Apr,Jul,Oct  \n",
       "3      Jan,Apr,Jul,Oct  \n",
       "11     Jan,Apr,Jul,Oct  \n",
       "14     Jan,Apr,Jul,Oct  \n",
       "15     Jan,Apr,Jul,Oct  \n",
       "...                ...  \n",
       "1105   Feb,May,Aug,Nov  \n",
       "1106   Jan,Apr,Jul,Oct  \n",
       "1107   Jan,Apr,Jul,Oct  \n",
       "1109   Jan,Apr,Jul,Oct  \n",
       "1111   Jan,Apr,Jul,Oct  \n",
       "\n",
       "[365 rows x 9 columns]"
      ]
     },
     "execution_count": 113,
     "metadata": {},
     "output_type": "execute_result"
    }
   ],
   "source": [
    "stores.dropna()"
   ]
  },
  {
   "cell_type": "markdown",
   "metadata": {},
   "source": [
    "Il metodo `fillna` restituisce invece una copia di serie o frame dove i valori `NaN` sono sostituiti con un valore dato."
   ]
  },
  {
   "cell_type": "code",
   "execution_count": 114,
   "metadata": {},
   "outputs": [
    {
     "data": {
      "text/plain": [
       "0    1.0\n",
       "1    2.0\n",
       "2    0.0\n",
       "3    3.0\n",
       "dtype: float64"
      ]
     },
     "execution_count": 114,
     "metadata": {},
     "output_type": "execute_result"
    }
   ],
   "source": [
    "pd.Series([1, 2, np.nan, 3]).fillna(0)"
   ]
  },
  {
   "cell_type": "markdown",
   "metadata": {},
   "source": [
    "Di solito i valori mancanti sono rimpiazzati con la media per i valori numerici o la moda per quelli categorici. A questo proposito si noti che quando si applica un metodo di riduzione di pandas (`sum`, `mean`, ...) i valori `NaN` di default sono ignorati (se fossero considerati, il risultato sarebbe anch'esso `NaN`)."
   ]
  },
  {
   "cell_type": "code",
   "execution_count": 115,
   "metadata": {},
   "outputs": [
    {
     "data": {
      "text/plain": [
       "6.0"
      ]
     },
     "execution_count": 115,
     "metadata": {},
     "output_type": "execute_result"
    }
   ],
   "source": [
    "pd.Series([1, 2, np.nan, 3]).sum()"
   ]
  },
  {
   "cell_type": "markdown",
   "metadata": {},
   "source": [
    "Esistono altri metodi più avanzati per sostituire i valori mancanti in base a quelli vicini nella serie, si vedano ad es. `ffill`, `bfill` e `interpolate`."
   ]
  },
  {
   "cell_type": "markdown",
   "metadata": {},
   "source": [
    "### Esercizio 2: Valori mancanti\n",
    "\n",
    "- **(2a)** Ottenere _il numero_ di valori mancanti in ciascuna colonna del frame `stores`\n",
    "- **(2b)** Selezionare dal frame `stores` le righe dove il valore di `CompetitionDistance` è mancante\n",
    "- **(2c)** Calcolare la media di `CompetitionDistance` assumendo di sostituire i valori mancanti col valore 1.000"
   ]
  },
  {
   "cell_type": "code",
   "execution_count": 116,
   "metadata": {},
   "outputs": [
    {
     "data": {
      "text/plain": [
       "StoreType                      0\n",
       "Assortment                     0\n",
       "CompetitionDistance            3\n",
       "CompetitionOpenSinceMonth    354\n",
       "CompetitionOpenSinceYear     354\n",
       "Promo2                         0\n",
       "Promo2SinceWeek              544\n",
       "Promo2SinceYear              544\n",
       "PromoInterval                544\n",
       "dtype: int64"
      ]
     },
     "execution_count": 116,
     "metadata": {},
     "output_type": "execute_result"
    }
   ],
   "source": [
    "#2a\n",
    "stores.isna().sum()"
   ]
  },
  {
   "cell_type": "code",
   "execution_count": 117,
   "metadata": {},
   "outputs": [
    {
     "data": {
      "text/html": [
       "<div>\n",
       "<style scoped>\n",
       "    .dataframe tbody tr th:only-of-type {\n",
       "        vertical-align: middle;\n",
       "    }\n",
       "\n",
       "    .dataframe tbody tr th {\n",
       "        vertical-align: top;\n",
       "    }\n",
       "\n",
       "    .dataframe thead th {\n",
       "        text-align: right;\n",
       "    }\n",
       "</style>\n",
       "<table border=\"1\" class=\"dataframe\">\n",
       "  <thead>\n",
       "    <tr style=\"text-align: right;\">\n",
       "      <th></th>\n",
       "      <th>StoreType</th>\n",
       "      <th>Assortment</th>\n",
       "      <th>CompetitionDistance</th>\n",
       "      <th>CompetitionOpenSinceMonth</th>\n",
       "      <th>CompetitionOpenSinceYear</th>\n",
       "      <th>Promo2</th>\n",
       "      <th>Promo2SinceWeek</th>\n",
       "      <th>Promo2SinceYear</th>\n",
       "      <th>PromoInterval</th>\n",
       "    </tr>\n",
       "    <tr>\n",
       "      <th>Store</th>\n",
       "      <th></th>\n",
       "      <th></th>\n",
       "      <th></th>\n",
       "      <th></th>\n",
       "      <th></th>\n",
       "      <th></th>\n",
       "      <th></th>\n",
       "      <th></th>\n",
       "      <th></th>\n",
       "    </tr>\n",
       "  </thead>\n",
       "  <tbody>\n",
       "    <tr>\n",
       "      <th>291</th>\n",
       "      <td>d</td>\n",
       "      <td>a</td>\n",
       "      <td>NaN</td>\n",
       "      <td>NaN</td>\n",
       "      <td>NaN</td>\n",
       "      <td>0</td>\n",
       "      <td>NaN</td>\n",
       "      <td>NaN</td>\n",
       "      <td>NaN</td>\n",
       "    </tr>\n",
       "    <tr>\n",
       "      <th>622</th>\n",
       "      <td>a</td>\n",
       "      <td>c</td>\n",
       "      <td>NaN</td>\n",
       "      <td>NaN</td>\n",
       "      <td>NaN</td>\n",
       "      <td>0</td>\n",
       "      <td>NaN</td>\n",
       "      <td>NaN</td>\n",
       "      <td>NaN</td>\n",
       "    </tr>\n",
       "    <tr>\n",
       "      <th>879</th>\n",
       "      <td>d</td>\n",
       "      <td>a</td>\n",
       "      <td>NaN</td>\n",
       "      <td>NaN</td>\n",
       "      <td>NaN</td>\n",
       "      <td>1</td>\n",
       "      <td>5.0</td>\n",
       "      <td>2013.0</td>\n",
       "      <td>Feb,May,Aug,Nov</td>\n",
       "    </tr>\n",
       "  </tbody>\n",
       "</table>\n",
       "</div>"
      ],
      "text/plain": [
       "      StoreType Assortment  CompetitionDistance  CompetitionOpenSinceMonth  \\\n",
       "Store                                                                        \n",
       "291           d          a                  NaN                        NaN   \n",
       "622           a          c                  NaN                        NaN   \n",
       "879           d          a                  NaN                        NaN   \n",
       "\n",
       "       CompetitionOpenSinceYear  Promo2  Promo2SinceWeek  Promo2SinceYear  \\\n",
       "Store                                                                       \n",
       "291                         NaN       0              NaN              NaN   \n",
       "622                         NaN       0              NaN              NaN   \n",
       "879                         NaN       1              5.0           2013.0   \n",
       "\n",
       "         PromoInterval  \n",
       "Store                   \n",
       "291                NaN  \n",
       "622                NaN  \n",
       "879    Feb,May,Aug,Nov  "
      ]
     },
     "execution_count": 117,
     "metadata": {},
     "output_type": "execute_result"
    }
   ],
   "source": [
    "#2b\n",
    "stores.loc[stores[\"CompetitionDistance\"].isna()]"
   ]
  },
  {
   "cell_type": "code",
   "execution_count": 118,
   "metadata": {},
   "outputs": [
    {
     "data": {
      "text/plain": [
       "5393.04932735426"
      ]
     },
     "execution_count": 118,
     "metadata": {},
     "output_type": "execute_result"
    }
   ],
   "source": [
    "#2c\n",
    "stores[\"CompetitionDistance\"].fillna(1_000).mean()"
   ]
  },
  {
   "cell_type": "markdown",
   "metadata": {},
   "source": [
    "---"
   ]
  },
  {
   "cell_type": "markdown",
   "metadata": {},
   "source": [
    "## Tipi di dato\n",
    "\n",
    "`read_csv` dove possibile deduce in automatico i tipi delle colonne. Usiamo il metodo `info` per ottenere informazioni sui tipi di colonne e sul peso in memoria del frame caricato."
   ]
  },
  {
   "cell_type": "code",
   "execution_count": 119,
   "metadata": {},
   "outputs": [
    {
     "name": "stdout",
     "output_type": "stream",
     "text": [
      "<class 'pandas.core.frame.DataFrame'>\n",
      "RangeIndex: 34565 entries, 0 to 34564\n",
      "Data columns (total 9 columns):\n",
      " #   Column         Non-Null Count  Dtype \n",
      "---  ------         --------------  ----- \n",
      " 0   Store          34565 non-null  int64 \n",
      " 1   DayOfWeek      34565 non-null  int64 \n",
      " 2   Date           34565 non-null  object\n",
      " 3   Sales          34565 non-null  int64 \n",
      " 4   Customers      34565 non-null  int64 \n",
      " 5   Open           34565 non-null  int64 \n",
      " 6   Promo          34565 non-null  int64 \n",
      " 7   StateHoliday   34565 non-null  int64 \n",
      " 8   SchoolHoliday  34565 non-null  int64 \n",
      "dtypes: int64(8), object(1)\n",
      "memory usage: 4.3 MB\n"
     ]
    }
   ],
   "source": [
    "sales.info(memory_usage=\"deep\")"
   ]
  },
  {
   "cell_type": "code",
   "execution_count": 120,
   "metadata": {},
   "outputs": [
    {
     "name": "stdout",
     "output_type": "stream",
     "text": [
      "<class 'pandas.core.frame.DataFrame'>\n",
      "Index: 1115 entries, 1 to 1115\n",
      "Data columns (total 9 columns):\n",
      " #   Column                     Non-Null Count  Dtype  \n",
      "---  ------                     --------------  -----  \n",
      " 0   StoreType                  1115 non-null   object \n",
      " 1   Assortment                 1115 non-null   object \n",
      " 2   CompetitionDistance        1112 non-null   float64\n",
      " 3   CompetitionOpenSinceMonth  761 non-null    float64\n",
      " 4   CompetitionOpenSinceYear   761 non-null    float64\n",
      " 5   Promo2                     1115 non-null   int64  \n",
      " 6   Promo2SinceWeek            571 non-null    float64\n",
      " 7   Promo2SinceYear            571 non-null    float64\n",
      " 8   PromoInterval              571 non-null    object \n",
      "dtypes: float64(5), int64(1), object(3)\n",
      "memory usage: 244.5 KB\n"
     ]
    }
   ],
   "source": [
    "stores.info(memory_usage=\"deep\")"
   ]
  },
  {
   "cell_type": "markdown",
   "metadata": {},
   "source": [
    "pandas ha usato tipi numerici (`int64`, `float64`) dove ha trovato dati numerici e il tipo generico `object` in corrispondenza di dati testuali.\n",
    "\n",
    "Sappiamo che le colonne `Open`, `Promo` e `SchoolHoliday` di `sales` e `Promo2` di `stores` sono binarie, ovvero hanno solo valori 0 e 1. Possiamo sostituire queste colonne con le loro conversioni in serie booleane usando il metodo `astype`."
   ]
  },
  {
   "cell_type": "code",
   "execution_count": 121,
   "metadata": {},
   "outputs": [],
   "source": [
    "sales[\"Open\"] = sales[\"Open\"].astype(bool)\n",
    "sales[\"Promo\"] = sales[\"Promo\"].astype(bool)\n",
    "sales[\"SchoolHoliday\"] = sales[\"SchoolHoliday\"].astype(bool)\n",
    "stores[\"Promo2\"] = stores[\"Promo2\"].astype(bool)"
   ]
  },
  {
   "cell_type": "markdown",
   "metadata": {},
   "source": [
    "Sappiamo inoltre che le colonne `StateHoliday` di `sales` e `StoreType` e `Assortment` di `stores` sono di tipo categorico: per queste è possibile usare il tipo di dato `category` che memorizza in modo efficiente colonne di questo tipo e fornisce operazioni specifiche. Possiamo convertirle sempre con `astype`."
   ]
  },
  {
   "cell_type": "code",
   "execution_count": 122,
   "metadata": {},
   "outputs": [],
   "source": [
    "sales[\"StateHoliday\"] = sales[\"StateHoliday\"].astype(\"category\")\n",
    "stores[\"StoreType\"] = stores[\"StoreType\"].astype(\"category\")\n",
    "stores[\"Assortment\"] = stores[\"Assortment\"].astype(\"category\")"
   ]
  },
  {
   "cell_type": "markdown",
   "metadata": {},
   "source": [
    "Infine, sapendo che la colonna `Date` di `sales` contiene delle date, possiamo convertirle nell'apposito tipo `datetime` di pandas che permette di compiere operazioni specifiche per le date. Usiamo la funzione `to_datetime` che effettua il parsing delle date inizialmente in forma di stringhe. Le date in questo dataset usano il formato `YYYY-MM-DD` secondo lo standard ISO 8601 per date e orari, che è riconosciuto automaticamente da `to_datetime` (è possibile interpretare formati diversi indicando opportuni parametri)."
   ]
  },
  {
   "cell_type": "code",
   "execution_count": 123,
   "metadata": {},
   "outputs": [],
   "source": [
    "sales[\"Date\"] = pd.to_datetime(sales[\"Date\"])"
   ]
  },
  {
   "cell_type": "markdown",
   "metadata": {},
   "source": [
    "Queste conversioni aiutano a ridurre il peso in memoria dei dataset, il che può essere fondamentale quando si trattano dataset molto grandi."
   ]
  },
  {
   "cell_type": "code",
   "execution_count": 124,
   "metadata": {},
   "outputs": [
    {
     "name": "stdout",
     "output_type": "stream",
     "text": [
      "<class 'pandas.core.frame.DataFrame'>\n",
      "RangeIndex: 34565 entries, 0 to 34564\n",
      "Data columns (total 9 columns):\n",
      " #   Column         Non-Null Count  Dtype         \n",
      "---  ------         --------------  -----         \n",
      " 0   Store          34565 non-null  int64         \n",
      " 1   DayOfWeek      34565 non-null  int64         \n",
      " 2   Date           34565 non-null  datetime64[ns]\n",
      " 3   Sales          34565 non-null  int64         \n",
      " 4   Customers      34565 non-null  int64         \n",
      " 5   Open           34565 non-null  bool          \n",
      " 6   Promo          34565 non-null  bool          \n",
      " 7   StateHoliday   34565 non-null  category      \n",
      " 8   SchoolHoliday  34565 non-null  bool          \n",
      "dtypes: bool(3), category(1), datetime64[ns](1), int64(4)\n",
      "memory usage: 1.5 MB\n"
     ]
    }
   ],
   "source": [
    "sales.info(memory_usage=\"deep\")"
   ]
  },
  {
   "cell_type": "code",
   "execution_count": 125,
   "metadata": {},
   "outputs": [
    {
     "name": "stdout",
     "output_type": "stream",
     "text": [
      "<class 'pandas.core.frame.DataFrame'>\n",
      "Index: 1115 entries, 1 to 1115\n",
      "Data columns (total 9 columns):\n",
      " #   Column                     Non-Null Count  Dtype   \n",
      "---  ------                     --------------  -----   \n",
      " 0   StoreType                  1115 non-null   category\n",
      " 1   Assortment                 1115 non-null   category\n",
      " 2   CompetitionDistance        1112 non-null   float64 \n",
      " 3   CompetitionOpenSinceMonth  761 non-null    float64 \n",
      " 4   CompetitionOpenSinceYear   761 non-null    float64 \n",
      " 5   Promo2                     1115 non-null   bool    \n",
      " 6   Promo2SinceWeek            571 non-null    float64 \n",
      " 7   Promo2SinceYear            571 non-null    float64 \n",
      " 8   PromoInterval              571 non-null    object  \n",
      "dtypes: bool(1), category(2), float64(5), object(1)\n",
      "memory usage: 113.5 KB\n"
     ]
    }
   ],
   "source": [
    "stores.info(memory_usage=\"deep\")"
   ]
  },
  {
   "cell_type": "markdown",
   "metadata": {},
   "source": [
    "Vedremo in seguito come effettuare tutte le conversioni effettuate finora direttamente in fase di caricamento dei dati, impostando opportunamente i parametri di `read_csv`."
   ]
  },
  {
   "cell_type": "markdown",
   "metadata": {},
   "source": [
    "Ora che il frame `sales` è stato portato ad un formato stabile, vogliamo crearne una selezione `sales_open` da cui escludere le righe relative ai casi in cui il negozio considerato era chiuso nella data considerata."
   ]
  },
  {
   "cell_type": "code",
   "execution_count": 126,
   "metadata": {},
   "outputs": [],
   "source": [
    "sales_open = sales.loc[sales[\"Open\"]]"
   ]
  },
  {
   "cell_type": "markdown",
   "metadata": {},
   "source": [
    "In questo frame la colonna `Open` è sempre `True` ed è quindi non necessaria. Possiamo usare il metodo `drop` per creare una nuova versione del frame scartando questa colonna."
   ]
  },
  {
   "cell_type": "code",
   "execution_count": 127,
   "metadata": {},
   "outputs": [],
   "source": [
    "sales_open = sales_open.drop(columns=[\"Open\"])"
   ]
  },
  {
   "cell_type": "markdown",
   "metadata": {},
   "source": [
    "### Dati categorici\n",
    "\n",
    "Le serie categoriche presentano attributi e metodi specifici per il loro processamento, contenute all'interno del loro attributo `cat`. Ad esempio con `cat.categories` possiamo ottenere tutte le categorie presenti nella serie. Sono presenti inoltre metodi per rinominare e rimuovere le categorie."
   ]
  },
  {
   "cell_type": "code",
   "execution_count": 128,
   "metadata": {},
   "outputs": [
    {
     "data": {
      "text/plain": [
       "Index(['a', 'b', 'c', 'd'], dtype='object')"
      ]
     },
     "execution_count": 128,
     "metadata": {},
     "output_type": "execute_result"
    }
   ],
   "source": [
    "stores[\"StoreType\"].cat.categories"
   ]
  },
  {
   "cell_type": "markdown",
   "metadata": {},
   "source": [
    "### Date\n",
    "\n",
    "In modo simile, l'attributo `dt` fornisce attributi e metodi specifici per lavorare con le serie di tipo data/ora. È possibile ad esempio estrarre i singoli componenti delle date con attributi quali `day` per il giorno, `month` per il mese, ecc."
   ]
  },
  {
   "cell_type": "code",
   "execution_count": 129,
   "metadata": {},
   "outputs": [
    {
     "data": {
      "text/plain": [
       "0       2015-07-31\n",
       "1       2015-07-31\n",
       "2       2015-07-31\n",
       "3       2015-07-31\n",
       "4       2015-07-31\n",
       "           ...    \n",
       "34560   2015-07-01\n",
       "34561   2015-07-01\n",
       "34562   2015-07-01\n",
       "34563   2015-07-01\n",
       "34564   2015-07-01\n",
       "Name: Date, Length: 30188, dtype: datetime64[ns]"
      ]
     },
     "execution_count": 129,
     "metadata": {},
     "output_type": "execute_result"
    }
   ],
   "source": [
    "sales_open[\"Date\"]"
   ]
  },
  {
   "cell_type": "code",
   "execution_count": 130,
   "metadata": {},
   "outputs": [
    {
     "data": {
      "text/plain": [
       "0        31\n",
       "1        31\n",
       "2        31\n",
       "3        31\n",
       "4        31\n",
       "         ..\n",
       "34560     1\n",
       "34561     1\n",
       "34562     1\n",
       "34563     1\n",
       "34564     1\n",
       "Name: Date, Length: 30188, dtype: int32"
      ]
     },
     "execution_count": 130,
     "metadata": {},
     "output_type": "execute_result"
    }
   ],
   "source": [
    "sales_open[\"Date\"].dt.day"
   ]
  },
  {
   "cell_type": "markdown",
   "metadata": {},
   "source": [
    "### Esercizio 3: Date\n",
    "\n",
    "- **(3a)** Tutte le righe del dataset `sales` si riferiscono al mese (`dt.month`) di luglio dell'anno (`dt.year`) 2015: scrivere un'espressione booleana che verifichi che questo sia vero\n",
    "- **(3b)** L'attributo `dt.weekday` estrae i giorni della settimana con la codifica 0 = lunedì, 1 = martedì, ..., 6 = domenica; usarlo per verificare che tutti i valori della colonna `DayOfWeek` in `sales` (dove 1 = lunedì, ... 7 = domenica) siano corretti\n",
    "  - per verificare se due serie `A` e `B` sono identiche si può usare `A.equals(B)`"
   ]
  },
  {
   "cell_type": "code",
   "execution_count": 131,
   "metadata": {},
   "outputs": [
    {
     "data": {
      "text/plain": [
       "True"
      ]
     },
     "execution_count": 131,
     "metadata": {},
     "output_type": "execute_result"
    }
   ],
   "source": [
    "#3a\n",
    "(sales[\"Date\"].dt.month == 7).all() and (sales[\"Date\"].dt.year == 2015).all()"
   ]
  },
  {
   "cell_type": "code",
   "execution_count": 132,
   "metadata": {},
   "outputs": [
    {
     "data": {
      "text/plain": [
       "True"
      ]
     },
     "execution_count": 132,
     "metadata": {},
     "output_type": "execute_result"
    }
   ],
   "source": [
    "#3b\n",
    "(sales[\"Date\"].dt.weekday == sales[\"DayOfWeek\"] - 1).all()"
   ]
  },
  {
   "cell_type": "markdown",
   "metadata": {},
   "source": [
    "## Analisi esplorativa\n",
    "\n",
    "Vediamo alcuni metodi utili per analizzare la distribuzione dei valori all'interno delle diverse colonne dei frame.\n",
    "\n",
    "Abbiamo già visto i metodi per ottenere singole statistiche (`sum`, `mean`, ...) e il metodo `describe` per ottenere un frame che le riassuma tutte."
   ]
  },
  {
   "cell_type": "code",
   "execution_count": 133,
   "metadata": {},
   "outputs": [
    {
     "data": {
      "text/html": [
       "<div>\n",
       "<style scoped>\n",
       "    .dataframe tbody tr th:only-of-type {\n",
       "        vertical-align: middle;\n",
       "    }\n",
       "\n",
       "    .dataframe tbody tr th {\n",
       "        vertical-align: top;\n",
       "    }\n",
       "\n",
       "    .dataframe thead th {\n",
       "        text-align: right;\n",
       "    }\n",
       "</style>\n",
       "<table border=\"1\" class=\"dataframe\">\n",
       "  <thead>\n",
       "    <tr style=\"text-align: right;\">\n",
       "      <th></th>\n",
       "      <th>Store</th>\n",
       "      <th>DayOfWeek</th>\n",
       "      <th>Date</th>\n",
       "      <th>Sales</th>\n",
       "      <th>Customers</th>\n",
       "    </tr>\n",
       "  </thead>\n",
       "  <tbody>\n",
       "    <tr>\n",
       "      <th>count</th>\n",
       "      <td>30188.000000</td>\n",
       "      <td>30188.000000</td>\n",
       "      <td>30188</td>\n",
       "      <td>30188.000000</td>\n",
       "      <td>30188.000000</td>\n",
       "    </tr>\n",
       "    <tr>\n",
       "      <th>mean</th>\n",
       "      <td>557.949549</td>\n",
       "      <td>3.570227</td>\n",
       "      <td>2015-07-16 01:37:21.473433088</td>\n",
       "      <td>7033.344905</td>\n",
       "      <td>737.176626</td>\n",
       "    </tr>\n",
       "    <tr>\n",
       "      <th>min</th>\n",
       "      <td>1.000000</td>\n",
       "      <td>1.000000</td>\n",
       "      <td>2015-07-01 00:00:00</td>\n",
       "      <td>708.000000</td>\n",
       "      <td>103.000000</td>\n",
       "    </tr>\n",
       "    <tr>\n",
       "      <th>25%</th>\n",
       "      <td>279.000000</td>\n",
       "      <td>2.000000</td>\n",
       "      <td>2015-07-08 00:00:00</td>\n",
       "      <td>5060.000000</td>\n",
       "      <td>512.000000</td>\n",
       "    </tr>\n",
       "    <tr>\n",
       "      <th>50%</th>\n",
       "      <td>558.000000</td>\n",
       "      <td>4.000000</td>\n",
       "      <td>2015-07-16 00:00:00</td>\n",
       "      <td>6523.000000</td>\n",
       "      <td>653.000000</td>\n",
       "    </tr>\n",
       "    <tr>\n",
       "      <th>75%</th>\n",
       "      <td>836.000000</td>\n",
       "      <td>5.000000</td>\n",
       "      <td>2015-07-24 00:00:00</td>\n",
       "      <td>8410.000000</td>\n",
       "      <td>850.000000</td>\n",
       "    </tr>\n",
       "    <tr>\n",
       "      <th>max</th>\n",
       "      <td>1115.000000</td>\n",
       "      <td>7.000000</td>\n",
       "      <td>2015-07-31 00:00:00</td>\n",
       "      <td>32547.000000</td>\n",
       "      <td>4783.000000</td>\n",
       "    </tr>\n",
       "    <tr>\n",
       "      <th>std</th>\n",
       "      <td>321.784839</td>\n",
       "      <td>1.652367</td>\n",
       "      <td>NaN</td>\n",
       "      <td>2937.213296</td>\n",
       "      <td>384.774903</td>\n",
       "    </tr>\n",
       "  </tbody>\n",
       "</table>\n",
       "</div>"
      ],
      "text/plain": [
       "              Store     DayOfWeek                           Date  \\\n",
       "count  30188.000000  30188.000000                          30188   \n",
       "mean     557.949549      3.570227  2015-07-16 01:37:21.473433088   \n",
       "min        1.000000      1.000000            2015-07-01 00:00:00   \n",
       "25%      279.000000      2.000000            2015-07-08 00:00:00   \n",
       "50%      558.000000      4.000000            2015-07-16 00:00:00   \n",
       "75%      836.000000      5.000000            2015-07-24 00:00:00   \n",
       "max     1115.000000      7.000000            2015-07-31 00:00:00   \n",
       "std      321.784839      1.652367                            NaN   \n",
       "\n",
       "              Sales     Customers  \n",
       "count  30188.000000  30188.000000  \n",
       "mean    7033.344905    737.176626  \n",
       "min      708.000000    103.000000  \n",
       "25%     5060.000000    512.000000  \n",
       "50%     6523.000000    653.000000  \n",
       "75%     8410.000000    850.000000  \n",
       "max    32547.000000   4783.000000  \n",
       "std     2937.213296    384.774903  "
      ]
     },
     "execution_count": 133,
     "metadata": {},
     "output_type": "execute_result"
    }
   ],
   "source": [
    "sales_open.describe()"
   ]
  },
  {
   "cell_type": "markdown",
   "metadata": {},
   "source": [
    "Notare che `describe` include solamente le colonne di tipo numerico e che anche tra queste alcune statistiche possono non essere significative. Ad es. essendo i valori di `Store` e `DayOfWeek` degli identificatori, statistiche quali la media non sono utili."
   ]
  },
  {
   "cell_type": "markdown",
   "metadata": {},
   "source": [
    "### Valori distinti e conteggio\n",
    "\n",
    "Può essere utile vedere quali sono i valori distinti di una colonna, ad es. per colonne categoriche o assimilabili a tali. Il metodo `unique` applicato ad una serie restituisce un vettore NumPy con i valori distinti presenti in essa, in ordine di apparizione."
   ]
  },
  {
   "cell_type": "code",
   "execution_count": 134,
   "metadata": {},
   "outputs": [
    {
     "data": {
      "text/plain": [
       "array([5, 4, 3, 2, 1, 7, 6], dtype=int64)"
      ]
     },
     "execution_count": 134,
     "metadata": {},
     "output_type": "execute_result"
    }
   ],
   "source": [
    "sales_open[\"DayOfWeek\"].unique()"
   ]
  },
  {
   "cell_type": "markdown",
   "metadata": {},
   "source": [
    "Se interessa solo _il numero_ di valori distinti, possiamo usare il metodo `nunique`."
   ]
  },
  {
   "cell_type": "code",
   "execution_count": 135,
   "metadata": {},
   "outputs": [
    {
     "data": {
      "text/plain": [
       "7"
      ]
     },
     "execution_count": 135,
     "metadata": {},
     "output_type": "execute_result"
    }
   ],
   "source": [
    "sales_open[\"DayOfWeek\"].nunique()"
   ]
  },
  {
   "cell_type": "markdown",
   "metadata": {},
   "source": [
    "Se vogliamo sapere quante volte appare ciascun valore distinto in una serie è possibile usare il metodo `value_counts`: questo restituisce una serie dove le etichette sono i valori distinti della serie originale dal più al meno frequente e i valori sono il numero di presenze di ciascuno."
   ]
  },
  {
   "cell_type": "code",
   "execution_count": 136,
   "metadata": {},
   "outputs": [
    {
     "data": {
      "text/plain": [
       "11    3\n",
       "81    2\n",
       "42    1\n",
       "Name: count, dtype: int64"
      ]
     },
     "execution_count": 136,
     "metadata": {},
     "output_type": "execute_result"
    }
   ],
   "source": [
    "pd.Series([11, 11, 42, 11, 81, 81]).value_counts()"
   ]
  },
  {
   "cell_type": "code",
   "execution_count": 137,
   "metadata": {},
   "outputs": [
    {
     "data": {
      "text/plain": [
       "StoreType\n",
       "a    602\n",
       "d    348\n",
       "c    148\n",
       "b     17\n",
       "Name: count, dtype: int64"
      ]
     },
     "execution_count": 137,
     "metadata": {},
     "output_type": "execute_result"
    }
   ],
   "source": [
    "stores[\"StoreType\"].value_counts()"
   ]
  },
  {
   "cell_type": "markdown",
   "metadata": {},
   "source": [
    "È possibile indicare `normalize=True` per restituire delle frequenze relative invece dei conteggi."
   ]
  },
  {
   "cell_type": "code",
   "execution_count": 138,
   "metadata": {},
   "outputs": [
    {
     "data": {
      "text/plain": [
       "StoreType\n",
       "a    0.539910\n",
       "d    0.312108\n",
       "c    0.132735\n",
       "b    0.015247\n",
       "Name: proportion, dtype: float64"
      ]
     },
     "execution_count": 138,
     "metadata": {},
     "output_type": "execute_result"
    }
   ],
   "source": [
    "stores[\"StoreType\"].value_counts(normalize=True)"
   ]
  },
  {
   "cell_type": "markdown",
   "metadata": {},
   "source": [
    "Questo ci permette di vedere facilmente ad es. che il 54% dei negozi è di tipologia `a`."
   ]
  },
  {
   "cell_type": "markdown",
   "metadata": {},
   "source": [
    "Di default i valori mancanti non sono considerati, è possibile includerli specificando `dropna=False`."
   ]
  },
  {
   "cell_type": "code",
   "execution_count": 139,
   "metadata": {},
   "outputs": [
    {
     "data": {
      "text/plain": [
       "CompetitionOpenSinceMonth\n",
       "NaN     354\n",
       "9.0     125\n",
       "4.0      94\n",
       "11.0     92\n",
       "3.0      70\n",
       "7.0      67\n",
       "12.0     64\n",
       "10.0     61\n",
       "6.0      50\n",
       "5.0      44\n",
       "2.0      41\n",
       "8.0      39\n",
       "1.0      14\n",
       "Name: count, dtype: int64"
      ]
     },
     "execution_count": 139,
     "metadata": {},
     "output_type": "execute_result"
    }
   ],
   "source": [
    "stores[\"CompetitionOpenSinceMonth\"].value_counts(dropna=False)"
   ]
  },
  {
   "cell_type": "markdown",
   "metadata": {},
   "source": [
    "### Discretizzazione\n",
    "\n",
    "Per svolgere un'analisi simile su colonne numeriche continue, possiamo eseguirne il _binning_ o _discretizzazione_.\n",
    "\n",
    "L'intero intervallo di valori possibili di una serie è suddiviso in fasce (_bin_) e ogni valore è sostituito con la fascia in cui ricade\n",
    "\n",
    "- La funzione `cut` crea un dato numero di fasce di **uguale ampiezza** o definite manualmente.\n",
    "- La funzione `qcut` crea invece un dato numero di fasce suddividendo i campioni in **parti uguali**.\n",
    "\n",
    "In tutti i casi si ottiene una serie categorica, dove i valori originali sono sostituiti con le rispettive fasce in cui ricadono.\n",
    "\n",
    "Dividendo ad esempio il ricavo giornaliero con `cut(..., 4)`, otteniamo una serie categorica con 4 valori possibili, corrispondenti a 4 fasce di uguale ampiezza."
   ]
  },
  {
   "cell_type": "code",
   "execution_count": 140,
   "metadata": {},
   "outputs": [
    {
     "data": {
      "text/plain": [
       "0         (676.161, 8667.75]\n",
       "1         (676.161, 8667.75]\n",
       "2         (676.161, 8667.75]\n",
       "3         (8667.75, 16627.5]\n",
       "4         (676.161, 8667.75]\n",
       "                ...         \n",
       "34560     (676.161, 8667.75]\n",
       "34561     (8667.75, 16627.5]\n",
       "34562     (676.161, 8667.75]\n",
       "34563    (24587.25, 32547.0]\n",
       "34564     (676.161, 8667.75]\n",
       "Name: Sales, Length: 30188, dtype: category\n",
       "Categories (4, interval[float64, right]): [(676.161, 8667.75] < (8667.75, 16627.5] < (16627.5, 24587.25] < (24587.25, 32547.0]]"
      ]
     },
     "execution_count": 140,
     "metadata": {},
     "output_type": "execute_result"
    }
   ],
   "source": [
    "pd.cut(sales_open[\"Sales\"], 4)"
   ]
  },
  {
   "cell_type": "markdown",
   "metadata": {},
   "source": [
    "Applicando `value_counts`, possiamo vedere il numero di casi in ciascuna delle 4 fasce."
   ]
  },
  {
   "cell_type": "code",
   "execution_count": 141,
   "metadata": {},
   "outputs": [
    {
     "data": {
      "text/plain": [
       "Sales\n",
       "(676.161, 8667.75]     23374\n",
       "(8667.75, 16627.5]      6455\n",
       "(16627.5, 24587.25]      339\n",
       "(24587.25, 32547.0]       20\n",
       "Name: count, dtype: int64"
      ]
     },
     "execution_count": 141,
     "metadata": {},
     "output_type": "execute_result"
    }
   ],
   "source": [
    "pd.cut(sales_open[\"Sales\"], 4).value_counts()"
   ]
  },
  {
   "cell_type": "markdown",
   "metadata": {},
   "source": [
    "Si nota ad es. che il ricavo giornaliero è arrivato a superare i 24.000 €, ma solo in poche decine di casi.\n",
    "\n",
    "Per definire manualmente delle fasce, indichiamo una lista di valori corrispondenti ai limiti tra una fascia e l'altra. Agli estremi di questa lista è possibile usare `np.inf` e `-np.inf` come \"infinito\". Se questi non sono usati e un valore ricade fuori da qualsiasi fascia, questo corrisponderà ad un `NaN` nella serie risultante."
   ]
  },
  {
   "cell_type": "code",
   "execution_count": 142,
   "metadata": {},
   "outputs": [
    {
     "data": {
      "text/plain": [
       "0            (0.0, 10000.0]\n",
       "1            (0.0, 10000.0]\n",
       "2            (0.0, 10000.0]\n",
       "3        (10000.0, 20000.0]\n",
       "4            (0.0, 10000.0]\n",
       "                ...        \n",
       "34560        (0.0, 10000.0]\n",
       "34561    (10000.0, 20000.0]\n",
       "34562        (0.0, 10000.0]\n",
       "34563        (20000.0, inf]\n",
       "34564        (0.0, 10000.0]\n",
       "Name: Sales, Length: 30188, dtype: category\n",
       "Categories (3, interval[float64, right]): [(0.0, 10000.0] < (10000.0, 20000.0] < (20000.0, inf]]"
      ]
     },
     "execution_count": 142,
     "metadata": {},
     "output_type": "execute_result"
    }
   ],
   "source": [
    "pd.cut(sales_open[\"Sales\"], [0, 10000, 20000, np.inf])"
   ]
  },
  {
   "cell_type": "code",
   "execution_count": 143,
   "metadata": {},
   "outputs": [
    {
     "data": {
      "text/plain": [
       "Sales\n",
       "(0.0, 10000.0]        26272\n",
       "(10000.0, 20000.0]     3793\n",
       "(20000.0, inf]          123\n",
       "Name: count, dtype: int64"
      ]
     },
     "execution_count": 143,
     "metadata": {},
     "output_type": "execute_result"
    }
   ],
   "source": [
    "pd.cut(sales_open[\"Sales\"], [0, 10000, 20000, np.inf]).value_counts()"
   ]
  },
  {
   "cell_type": "markdown",
   "metadata": {},
   "source": [
    "### Esercizio 4: Analisi esplorativa\n",
    "\n",
    "- **(4a)** Estrarre da `sales_open` una serie `per_customer_avg` con il ricavo medio per cliente\n",
    "- **(4b)** Estrarre le statistiche di base (`describe`) sul ricavo medio per cliente\n",
    "- **(4c)** Suddividere il ricavo medio per cliente in 5 fasce di uguale ampiezza ed estrarre il numero di casi per ciascuna"
   ]
  },
  {
   "cell_type": "code",
   "execution_count": 144,
   "metadata": {},
   "outputs": [
    {
     "data": {
      "text/html": [
       "<div>\n",
       "<style scoped>\n",
       "    .dataframe tbody tr th:only-of-type {\n",
       "        vertical-align: middle;\n",
       "    }\n",
       "\n",
       "    .dataframe tbody tr th {\n",
       "        vertical-align: top;\n",
       "    }\n",
       "\n",
       "    .dataframe thead th {\n",
       "        text-align: right;\n",
       "    }\n",
       "</style>\n",
       "<table border=\"1\" class=\"dataframe\">\n",
       "  <thead>\n",
       "    <tr style=\"text-align: right;\">\n",
       "      <th></th>\n",
       "      <th>Store</th>\n",
       "      <th>DayOfWeek</th>\n",
       "      <th>Date</th>\n",
       "      <th>Sales</th>\n",
       "      <th>Customers</th>\n",
       "      <th>Promo</th>\n",
       "      <th>StateHoliday</th>\n",
       "      <th>SchoolHoliday</th>\n",
       "    </tr>\n",
       "  </thead>\n",
       "  <tbody>\n",
       "    <tr>\n",
       "      <th>0</th>\n",
       "      <td>1</td>\n",
       "      <td>5</td>\n",
       "      <td>2015-07-31</td>\n",
       "      <td>5263</td>\n",
       "      <td>555</td>\n",
       "      <td>True</td>\n",
       "      <td>0</td>\n",
       "      <td>True</td>\n",
       "    </tr>\n",
       "    <tr>\n",
       "      <th>1</th>\n",
       "      <td>2</td>\n",
       "      <td>5</td>\n",
       "      <td>2015-07-31</td>\n",
       "      <td>6064</td>\n",
       "      <td>625</td>\n",
       "      <td>True</td>\n",
       "      <td>0</td>\n",
       "      <td>True</td>\n",
       "    </tr>\n",
       "    <tr>\n",
       "      <th>2</th>\n",
       "      <td>3</td>\n",
       "      <td>5</td>\n",
       "      <td>2015-07-31</td>\n",
       "      <td>8314</td>\n",
       "      <td>821</td>\n",
       "      <td>True</td>\n",
       "      <td>0</td>\n",
       "      <td>True</td>\n",
       "    </tr>\n",
       "    <tr>\n",
       "      <th>3</th>\n",
       "      <td>4</td>\n",
       "      <td>5</td>\n",
       "      <td>2015-07-31</td>\n",
       "      <td>13995</td>\n",
       "      <td>1498</td>\n",
       "      <td>True</td>\n",
       "      <td>0</td>\n",
       "      <td>True</td>\n",
       "    </tr>\n",
       "    <tr>\n",
       "      <th>4</th>\n",
       "      <td>5</td>\n",
       "      <td>5</td>\n",
       "      <td>2015-07-31</td>\n",
       "      <td>4822</td>\n",
       "      <td>559</td>\n",
       "      <td>True</td>\n",
       "      <td>0</td>\n",
       "      <td>True</td>\n",
       "    </tr>\n",
       "    <tr>\n",
       "      <th>...</th>\n",
       "      <td>...</td>\n",
       "      <td>...</td>\n",
       "      <td>...</td>\n",
       "      <td>...</td>\n",
       "      <td>...</td>\n",
       "      <td>...</td>\n",
       "      <td>...</td>\n",
       "      <td>...</td>\n",
       "    </tr>\n",
       "    <tr>\n",
       "      <th>34560</th>\n",
       "      <td>1111</td>\n",
       "      <td>3</td>\n",
       "      <td>2015-07-01</td>\n",
       "      <td>3701</td>\n",
       "      <td>351</td>\n",
       "      <td>True</td>\n",
       "      <td>0</td>\n",
       "      <td>True</td>\n",
       "    </tr>\n",
       "    <tr>\n",
       "      <th>34561</th>\n",
       "      <td>1112</td>\n",
       "      <td>3</td>\n",
       "      <td>2015-07-01</td>\n",
       "      <td>10620</td>\n",
       "      <td>716</td>\n",
       "      <td>True</td>\n",
       "      <td>0</td>\n",
       "      <td>True</td>\n",
       "    </tr>\n",
       "    <tr>\n",
       "      <th>34562</th>\n",
       "      <td>1113</td>\n",
       "      <td>3</td>\n",
       "      <td>2015-07-01</td>\n",
       "      <td>8222</td>\n",
       "      <td>770</td>\n",
       "      <td>True</td>\n",
       "      <td>0</td>\n",
       "      <td>False</td>\n",
       "    </tr>\n",
       "    <tr>\n",
       "      <th>34563</th>\n",
       "      <td>1114</td>\n",
       "      <td>3</td>\n",
       "      <td>2015-07-01</td>\n",
       "      <td>27071</td>\n",
       "      <td>3788</td>\n",
       "      <td>True</td>\n",
       "      <td>0</td>\n",
       "      <td>False</td>\n",
       "    </tr>\n",
       "    <tr>\n",
       "      <th>34564</th>\n",
       "      <td>1115</td>\n",
       "      <td>3</td>\n",
       "      <td>2015-07-01</td>\n",
       "      <td>7701</td>\n",
       "      <td>447</td>\n",
       "      <td>True</td>\n",
       "      <td>0</td>\n",
       "      <td>False</td>\n",
       "    </tr>\n",
       "  </tbody>\n",
       "</table>\n",
       "<p>30188 rows × 8 columns</p>\n",
       "</div>"
      ],
      "text/plain": [
       "       Store  DayOfWeek       Date  Sales  Customers  Promo StateHoliday  \\\n",
       "0          1          5 2015-07-31   5263        555   True            0   \n",
       "1          2          5 2015-07-31   6064        625   True            0   \n",
       "2          3          5 2015-07-31   8314        821   True            0   \n",
       "3          4          5 2015-07-31  13995       1498   True            0   \n",
       "4          5          5 2015-07-31   4822        559   True            0   \n",
       "...      ...        ...        ...    ...        ...    ...          ...   \n",
       "34560   1111          3 2015-07-01   3701        351   True            0   \n",
       "34561   1112          3 2015-07-01  10620        716   True            0   \n",
       "34562   1113          3 2015-07-01   8222        770   True            0   \n",
       "34563   1114          3 2015-07-01  27071       3788   True            0   \n",
       "34564   1115          3 2015-07-01   7701        447   True            0   \n",
       "\n",
       "       SchoolHoliday  \n",
       "0               True  \n",
       "1               True  \n",
       "2               True  \n",
       "3               True  \n",
       "4               True  \n",
       "...              ...  \n",
       "34560           True  \n",
       "34561           True  \n",
       "34562          False  \n",
       "34563          False  \n",
       "34564          False  \n",
       "\n",
       "[30188 rows x 8 columns]"
      ]
     },
     "execution_count": 144,
     "metadata": {},
     "output_type": "execute_result"
    }
   ],
   "source": [
    "sales_open"
   ]
  },
  {
   "cell_type": "code",
   "execution_count": 145,
   "metadata": {},
   "outputs": [
    {
     "data": {
      "text/plain": [
       "0         9.482883\n",
       "1         9.702400\n",
       "2        10.126675\n",
       "3         9.342457\n",
       "4         8.626118\n",
       "           ...    \n",
       "34560    10.544160\n",
       "34561    14.832402\n",
       "34562    10.677922\n",
       "34563     7.146515\n",
       "34564    17.228188\n",
       "Length: 30188, dtype: float64"
      ]
     },
     "execution_count": 145,
     "metadata": {},
     "output_type": "execute_result"
    }
   ],
   "source": [
    "#4a\n",
    "per_customer_avg = sales_open[\"Sales\"] / sales_open[\"Customers\"]\n",
    "per_customer_avg"
   ]
  },
  {
   "cell_type": "code",
   "execution_count": 146,
   "metadata": {},
   "outputs": [
    {
     "data": {
      "text/plain": [
       "count    30188.000000\n",
       "mean         9.967429\n",
       "std          2.293514\n",
       "min          3.016683\n",
       "25%          8.293721\n",
       "50%          9.762293\n",
       "75%         11.457700\n",
       "max         24.901205\n",
       "dtype: float64"
      ]
     },
     "execution_count": 146,
     "metadata": {},
     "output_type": "execute_result"
    }
   ],
   "source": [
    "#4b\n",
    "per_customer_avg.describe()"
   ]
  },
  {
   "cell_type": "code",
   "execution_count": 147,
   "metadata": {},
   "outputs": [
    {
     "data": {
      "text/plain": [
       "(7.394, 11.77]      20186\n",
       "(11.77, 16.147]      6248\n",
       "(2.995, 7.394]       3564\n",
       "(16.147, 20.524]      188\n",
       "(20.524, 24.901]        2\n",
       "Name: count, dtype: int64"
      ]
     },
     "execution_count": 147,
     "metadata": {},
     "output_type": "execute_result"
    }
   ],
   "source": [
    "#4c\n",
    "pd.cut(per_customer_avg, 5).value_counts()"
   ]
  },
  {
   "cell_type": "markdown",
   "metadata": {},
   "source": [
    "## Unione (join) di DataFrame\n",
    "\n",
    "È comune che un insieme di dati da analizzare non sia rappresentato da più tabelle piuttosto che da una sola. Questo accade ad esempio nei database relazionali, dove ogni tabella corrisponde ad un'entità specifica, di solito collegata ad altre tramite chiavi esterne.\n",
    "\n",
    "Nei database relazionali è comune usare l'operazione di _join_ tra tabelle, con cui due tabelle vengono unite in una sola utilizzando le rispettive chiavi primarie ed esterne.\n",
    "\n",
    "La funzione _merge_ di pandas crea un unico DataFrame dall'unione di altri due secondo la stessa logica."
   ]
  },
  {
   "cell_type": "markdown",
   "metadata": {},
   "source": [
    "Nel nostro caso ad esempio il frame `sales` non contiene tutte le informazioni di ciascun negozio analizzato, ma solo il suo numero identificativo. Le informazioni dettagliate su ciascun negozio si trovano nel frame `stores`, in cui i numeri identificativi dei negozi costituiscono l'indice."
   ]
  },
  {
   "cell_type": "code",
   "execution_count": 148,
   "metadata": {},
   "outputs": [
    {
     "data": {
      "text/html": [
       "<div>\n",
       "<style scoped>\n",
       "    .dataframe tbody tr th:only-of-type {\n",
       "        vertical-align: middle;\n",
       "    }\n",
       "\n",
       "    .dataframe tbody tr th {\n",
       "        vertical-align: top;\n",
       "    }\n",
       "\n",
       "    .dataframe thead th {\n",
       "        text-align: right;\n",
       "    }\n",
       "</style>\n",
       "<table border=\"1\" class=\"dataframe\">\n",
       "  <thead>\n",
       "    <tr style=\"text-align: right;\">\n",
       "      <th></th>\n",
       "      <th>Store</th>\n",
       "      <th>DayOfWeek</th>\n",
       "      <th>Date</th>\n",
       "      <th>Sales</th>\n",
       "      <th>Customers</th>\n",
       "      <th>Open</th>\n",
       "      <th>Promo</th>\n",
       "      <th>StateHoliday</th>\n",
       "      <th>SchoolHoliday</th>\n",
       "    </tr>\n",
       "  </thead>\n",
       "  <tbody>\n",
       "    <tr>\n",
       "      <th>0</th>\n",
       "      <td>1</td>\n",
       "      <td>5</td>\n",
       "      <td>2015-07-31</td>\n",
       "      <td>5263</td>\n",
       "      <td>555</td>\n",
       "      <td>True</td>\n",
       "      <td>True</td>\n",
       "      <td>0</td>\n",
       "      <td>True</td>\n",
       "    </tr>\n",
       "    <tr>\n",
       "      <th>1</th>\n",
       "      <td>2</td>\n",
       "      <td>5</td>\n",
       "      <td>2015-07-31</td>\n",
       "      <td>6064</td>\n",
       "      <td>625</td>\n",
       "      <td>True</td>\n",
       "      <td>True</td>\n",
       "      <td>0</td>\n",
       "      <td>True</td>\n",
       "    </tr>\n",
       "    <tr>\n",
       "      <th>2</th>\n",
       "      <td>3</td>\n",
       "      <td>5</td>\n",
       "      <td>2015-07-31</td>\n",
       "      <td>8314</td>\n",
       "      <td>821</td>\n",
       "      <td>True</td>\n",
       "      <td>True</td>\n",
       "      <td>0</td>\n",
       "      <td>True</td>\n",
       "    </tr>\n",
       "  </tbody>\n",
       "</table>\n",
       "</div>"
      ],
      "text/plain": [
       "   Store  DayOfWeek       Date  Sales  Customers  Open  Promo StateHoliday  \\\n",
       "0      1          5 2015-07-31   5263        555  True   True            0   \n",
       "1      2          5 2015-07-31   6064        625  True   True            0   \n",
       "2      3          5 2015-07-31   8314        821  True   True            0   \n",
       "\n",
       "   SchoolHoliday  \n",
       "0           True  \n",
       "1           True  \n",
       "2           True  "
      ]
     },
     "execution_count": 148,
     "metadata": {},
     "output_type": "execute_result"
    }
   ],
   "source": [
    "sales.head(3)"
   ]
  },
  {
   "cell_type": "code",
   "execution_count": 149,
   "metadata": {},
   "outputs": [
    {
     "data": {
      "text/html": [
       "<div>\n",
       "<style scoped>\n",
       "    .dataframe tbody tr th:only-of-type {\n",
       "        vertical-align: middle;\n",
       "    }\n",
       "\n",
       "    .dataframe tbody tr th {\n",
       "        vertical-align: top;\n",
       "    }\n",
       "\n",
       "    .dataframe thead th {\n",
       "        text-align: right;\n",
       "    }\n",
       "</style>\n",
       "<table border=\"1\" class=\"dataframe\">\n",
       "  <thead>\n",
       "    <tr style=\"text-align: right;\">\n",
       "      <th></th>\n",
       "      <th>StoreType</th>\n",
       "      <th>Assortment</th>\n",
       "      <th>CompetitionDistance</th>\n",
       "      <th>CompetitionOpenSinceMonth</th>\n",
       "      <th>CompetitionOpenSinceYear</th>\n",
       "      <th>Promo2</th>\n",
       "      <th>Promo2SinceWeek</th>\n",
       "      <th>Promo2SinceYear</th>\n",
       "      <th>PromoInterval</th>\n",
       "    </tr>\n",
       "    <tr>\n",
       "      <th>Store</th>\n",
       "      <th></th>\n",
       "      <th></th>\n",
       "      <th></th>\n",
       "      <th></th>\n",
       "      <th></th>\n",
       "      <th></th>\n",
       "      <th></th>\n",
       "      <th></th>\n",
       "      <th></th>\n",
       "    </tr>\n",
       "  </thead>\n",
       "  <tbody>\n",
       "    <tr>\n",
       "      <th>1</th>\n",
       "      <td>c</td>\n",
       "      <td>a</td>\n",
       "      <td>1270.0</td>\n",
       "      <td>9.0</td>\n",
       "      <td>2008.0</td>\n",
       "      <td>False</td>\n",
       "      <td>NaN</td>\n",
       "      <td>NaN</td>\n",
       "      <td>NaN</td>\n",
       "    </tr>\n",
       "    <tr>\n",
       "      <th>2</th>\n",
       "      <td>a</td>\n",
       "      <td>a</td>\n",
       "      <td>570.0</td>\n",
       "      <td>11.0</td>\n",
       "      <td>2007.0</td>\n",
       "      <td>True</td>\n",
       "      <td>13.0</td>\n",
       "      <td>2010.0</td>\n",
       "      <td>Jan,Apr,Jul,Oct</td>\n",
       "    </tr>\n",
       "    <tr>\n",
       "      <th>3</th>\n",
       "      <td>a</td>\n",
       "      <td>a</td>\n",
       "      <td>14130.0</td>\n",
       "      <td>12.0</td>\n",
       "      <td>2006.0</td>\n",
       "      <td>True</td>\n",
       "      <td>14.0</td>\n",
       "      <td>2011.0</td>\n",
       "      <td>Jan,Apr,Jul,Oct</td>\n",
       "    </tr>\n",
       "  </tbody>\n",
       "</table>\n",
       "</div>"
      ],
      "text/plain": [
       "      StoreType Assortment  CompetitionDistance  CompetitionOpenSinceMonth  \\\n",
       "Store                                                                        \n",
       "1             c          a               1270.0                        9.0   \n",
       "2             a          a                570.0                       11.0   \n",
       "3             a          a              14130.0                       12.0   \n",
       "\n",
       "       CompetitionOpenSinceYear  Promo2  Promo2SinceWeek  Promo2SinceYear  \\\n",
       "Store                                                                       \n",
       "1                        2008.0   False              NaN              NaN   \n",
       "2                        2007.0    True             13.0           2010.0   \n",
       "3                        2006.0    True             14.0           2011.0   \n",
       "\n",
       "         PromoInterval  \n",
       "Store                   \n",
       "1                  NaN  \n",
       "2      Jan,Apr,Jul,Oct  \n",
       "3      Jan,Apr,Jul,Oct  "
      ]
     },
     "execution_count": 149,
     "metadata": {},
     "output_type": "execute_result"
    }
   ],
   "source": [
    "stores.head(3)"
   ]
  },
  {
   "cell_type": "markdown",
   "metadata": {},
   "source": [
    "Può essere tuttavia utile avere un unico frame che contenga sia le colonne di `sales` che quelle di `stores`, affiancando ad ogni riga esistente di `sales` la riga di `stores` corrispondente all'identificatore del negozio indicato nella colonna `Store`. In questo modo potremmo ad es. filtrare i dati sulle vendite in base a caratteristiche dei negozi (tipologia, distanza dalla concorrenza, ecc.).\n",
    "\n",
    "In termini di SQL, vorremmo eseguire una query simile:\n",
    "\n",
    "```sql\n",
    "SELECT sales.*, stores.*\n",
    "FROM sales, stores\n",
    "WHERE sales.Store = stores.Store\n",
    "```\n",
    "\n",
    "Per farlo usiamo la funzione `merge`, indicando come primi due argomenti i due frame da unire (referenziati come _left_ e _right_) e a seguire degli argomenti che indichino i valori da usare per l'unione da una parte e dall'altra:\n",
    "\n",
    "- con `left_on=...` e/o `right_on=...` si indica il nome di una _colonna_ (o più) del frame left/right da usare per l'unione;\n",
    "- con `left_index=True` e/o `right_index=True` si indica che del frame left/right va usato l'_indice delle righe_ per eseguire l'unione.\n",
    "\n",
    "Nel nostro caso l'unione va effettuata tra i numeri identificativi dei negozi, che si trovano:\n",
    "\n",
    "- nella colonna `Store` del frame `sales`\n",
    "- nell'indice del frame `stores`\n",
    "\n",
    "Per ottenere il frame unito, che chiamiamo `sales_joined`, scriviamo quindi:"
   ]
  },
  {
   "cell_type": "code",
   "execution_count": 150,
   "metadata": {
    "scrolled": false
   },
   "outputs": [
    {
     "data": {
      "text/html": [
       "<div>\n",
       "<style scoped>\n",
       "    .dataframe tbody tr th:only-of-type {\n",
       "        vertical-align: middle;\n",
       "    }\n",
       "\n",
       "    .dataframe tbody tr th {\n",
       "        vertical-align: top;\n",
       "    }\n",
       "\n",
       "    .dataframe thead th {\n",
       "        text-align: right;\n",
       "    }\n",
       "</style>\n",
       "<table border=\"1\" class=\"dataframe\">\n",
       "  <thead>\n",
       "    <tr style=\"text-align: right;\">\n",
       "      <th></th>\n",
       "      <th>Store</th>\n",
       "      <th>DayOfWeek</th>\n",
       "      <th>Date</th>\n",
       "      <th>Sales</th>\n",
       "      <th>Customers</th>\n",
       "      <th>Open</th>\n",
       "      <th>Promo</th>\n",
       "      <th>StateHoliday</th>\n",
       "      <th>SchoolHoliday</th>\n",
       "      <th>StoreType</th>\n",
       "      <th>Assortment</th>\n",
       "      <th>CompetitionDistance</th>\n",
       "      <th>CompetitionOpenSinceMonth</th>\n",
       "      <th>CompetitionOpenSinceYear</th>\n",
       "      <th>Promo2</th>\n",
       "      <th>Promo2SinceWeek</th>\n",
       "      <th>Promo2SinceYear</th>\n",
       "      <th>PromoInterval</th>\n",
       "    </tr>\n",
       "  </thead>\n",
       "  <tbody>\n",
       "    <tr>\n",
       "      <th>0</th>\n",
       "      <td>1</td>\n",
       "      <td>5</td>\n",
       "      <td>2015-07-31</td>\n",
       "      <td>5263</td>\n",
       "      <td>555</td>\n",
       "      <td>True</td>\n",
       "      <td>True</td>\n",
       "      <td>0</td>\n",
       "      <td>True</td>\n",
       "      <td>c</td>\n",
       "      <td>a</td>\n",
       "      <td>1270.0</td>\n",
       "      <td>9.0</td>\n",
       "      <td>2008.0</td>\n",
       "      <td>False</td>\n",
       "      <td>NaN</td>\n",
       "      <td>NaN</td>\n",
       "      <td>NaN</td>\n",
       "    </tr>\n",
       "    <tr>\n",
       "      <th>1115</th>\n",
       "      <td>1</td>\n",
       "      <td>4</td>\n",
       "      <td>2015-07-30</td>\n",
       "      <td>5020</td>\n",
       "      <td>546</td>\n",
       "      <td>True</td>\n",
       "      <td>True</td>\n",
       "      <td>0</td>\n",
       "      <td>True</td>\n",
       "      <td>c</td>\n",
       "      <td>a</td>\n",
       "      <td>1270.0</td>\n",
       "      <td>9.0</td>\n",
       "      <td>2008.0</td>\n",
       "      <td>False</td>\n",
       "      <td>NaN</td>\n",
       "      <td>NaN</td>\n",
       "      <td>NaN</td>\n",
       "    </tr>\n",
       "    <tr>\n",
       "      <th>2230</th>\n",
       "      <td>1</td>\n",
       "      <td>3</td>\n",
       "      <td>2015-07-29</td>\n",
       "      <td>4782</td>\n",
       "      <td>523</td>\n",
       "      <td>True</td>\n",
       "      <td>True</td>\n",
       "      <td>0</td>\n",
       "      <td>True</td>\n",
       "      <td>c</td>\n",
       "      <td>a</td>\n",
       "      <td>1270.0</td>\n",
       "      <td>9.0</td>\n",
       "      <td>2008.0</td>\n",
       "      <td>False</td>\n",
       "      <td>NaN</td>\n",
       "      <td>NaN</td>\n",
       "      <td>NaN</td>\n",
       "    </tr>\n",
       "    <tr>\n",
       "      <th>3345</th>\n",
       "      <td>1</td>\n",
       "      <td>2</td>\n",
       "      <td>2015-07-28</td>\n",
       "      <td>5011</td>\n",
       "      <td>560</td>\n",
       "      <td>True</td>\n",
       "      <td>True</td>\n",
       "      <td>0</td>\n",
       "      <td>True</td>\n",
       "      <td>c</td>\n",
       "      <td>a</td>\n",
       "      <td>1270.0</td>\n",
       "      <td>9.0</td>\n",
       "      <td>2008.0</td>\n",
       "      <td>False</td>\n",
       "      <td>NaN</td>\n",
       "      <td>NaN</td>\n",
       "      <td>NaN</td>\n",
       "    </tr>\n",
       "    <tr>\n",
       "      <th>4460</th>\n",
       "      <td>1</td>\n",
       "      <td>1</td>\n",
       "      <td>2015-07-27</td>\n",
       "      <td>6102</td>\n",
       "      <td>612</td>\n",
       "      <td>True</td>\n",
       "      <td>True</td>\n",
       "      <td>0</td>\n",
       "      <td>True</td>\n",
       "      <td>c</td>\n",
       "      <td>a</td>\n",
       "      <td>1270.0</td>\n",
       "      <td>9.0</td>\n",
       "      <td>2008.0</td>\n",
       "      <td>False</td>\n",
       "      <td>NaN</td>\n",
       "      <td>NaN</td>\n",
       "      <td>NaN</td>\n",
       "    </tr>\n",
       "    <tr>\n",
       "      <th>...</th>\n",
       "      <td>...</td>\n",
       "      <td>...</td>\n",
       "      <td>...</td>\n",
       "      <td>...</td>\n",
       "      <td>...</td>\n",
       "      <td>...</td>\n",
       "      <td>...</td>\n",
       "      <td>...</td>\n",
       "      <td>...</td>\n",
       "      <td>...</td>\n",
       "      <td>...</td>\n",
       "      <td>...</td>\n",
       "      <td>...</td>\n",
       "      <td>...</td>\n",
       "      <td>...</td>\n",
       "      <td>...</td>\n",
       "      <td>...</td>\n",
       "      <td>...</td>\n",
       "    </tr>\n",
       "    <tr>\n",
       "      <th>30104</th>\n",
       "      <td>1115</td>\n",
       "      <td>7</td>\n",
       "      <td>2015-07-05</td>\n",
       "      <td>0</td>\n",
       "      <td>0</td>\n",
       "      <td>False</td>\n",
       "      <td>False</td>\n",
       "      <td>0</td>\n",
       "      <td>False</td>\n",
       "      <td>d</td>\n",
       "      <td>c</td>\n",
       "      <td>5350.0</td>\n",
       "      <td>NaN</td>\n",
       "      <td>NaN</td>\n",
       "      <td>True</td>\n",
       "      <td>22.0</td>\n",
       "      <td>2012.0</td>\n",
       "      <td>Mar,Jun,Sept,Dec</td>\n",
       "    </tr>\n",
       "    <tr>\n",
       "      <th>31219</th>\n",
       "      <td>1115</td>\n",
       "      <td>6</td>\n",
       "      <td>2015-07-04</td>\n",
       "      <td>6543</td>\n",
       "      <td>466</td>\n",
       "      <td>True</td>\n",
       "      <td>False</td>\n",
       "      <td>0</td>\n",
       "      <td>False</td>\n",
       "      <td>d</td>\n",
       "      <td>c</td>\n",
       "      <td>5350.0</td>\n",
       "      <td>NaN</td>\n",
       "      <td>NaN</td>\n",
       "      <td>True</td>\n",
       "      <td>22.0</td>\n",
       "      <td>2012.0</td>\n",
       "      <td>Mar,Jun,Sept,Dec</td>\n",
       "    </tr>\n",
       "    <tr>\n",
       "      <th>32334</th>\n",
       "      <td>1115</td>\n",
       "      <td>5</td>\n",
       "      <td>2015-07-03</td>\n",
       "      <td>7412</td>\n",
       "      <td>478</td>\n",
       "      <td>True</td>\n",
       "      <td>True</td>\n",
       "      <td>0</td>\n",
       "      <td>False</td>\n",
       "      <td>d</td>\n",
       "      <td>c</td>\n",
       "      <td>5350.0</td>\n",
       "      <td>NaN</td>\n",
       "      <td>NaN</td>\n",
       "      <td>True</td>\n",
       "      <td>22.0</td>\n",
       "      <td>2012.0</td>\n",
       "      <td>Mar,Jun,Sept,Dec</td>\n",
       "    </tr>\n",
       "    <tr>\n",
       "      <th>33449</th>\n",
       "      <td>1115</td>\n",
       "      <td>4</td>\n",
       "      <td>2015-07-02</td>\n",
       "      <td>6858</td>\n",
       "      <td>452</td>\n",
       "      <td>True</td>\n",
       "      <td>True</td>\n",
       "      <td>0</td>\n",
       "      <td>False</td>\n",
       "      <td>d</td>\n",
       "      <td>c</td>\n",
       "      <td>5350.0</td>\n",
       "      <td>NaN</td>\n",
       "      <td>NaN</td>\n",
       "      <td>True</td>\n",
       "      <td>22.0</td>\n",
       "      <td>2012.0</td>\n",
       "      <td>Mar,Jun,Sept,Dec</td>\n",
       "    </tr>\n",
       "    <tr>\n",
       "      <th>34564</th>\n",
       "      <td>1115</td>\n",
       "      <td>3</td>\n",
       "      <td>2015-07-01</td>\n",
       "      <td>7701</td>\n",
       "      <td>447</td>\n",
       "      <td>True</td>\n",
       "      <td>True</td>\n",
       "      <td>0</td>\n",
       "      <td>False</td>\n",
       "      <td>d</td>\n",
       "      <td>c</td>\n",
       "      <td>5350.0</td>\n",
       "      <td>NaN</td>\n",
       "      <td>NaN</td>\n",
       "      <td>True</td>\n",
       "      <td>22.0</td>\n",
       "      <td>2012.0</td>\n",
       "      <td>Mar,Jun,Sept,Dec</td>\n",
       "    </tr>\n",
       "  </tbody>\n",
       "</table>\n",
       "<p>34565 rows × 18 columns</p>\n",
       "</div>"
      ],
      "text/plain": [
       "       Store  DayOfWeek       Date  Sales  Customers   Open  Promo  \\\n",
       "0          1          5 2015-07-31   5263        555   True   True   \n",
       "1115       1          4 2015-07-30   5020        546   True   True   \n",
       "2230       1          3 2015-07-29   4782        523   True   True   \n",
       "3345       1          2 2015-07-28   5011        560   True   True   \n",
       "4460       1          1 2015-07-27   6102        612   True   True   \n",
       "...      ...        ...        ...    ...        ...    ...    ...   \n",
       "30104   1115          7 2015-07-05      0          0  False  False   \n",
       "31219   1115          6 2015-07-04   6543        466   True  False   \n",
       "32334   1115          5 2015-07-03   7412        478   True   True   \n",
       "33449   1115          4 2015-07-02   6858        452   True   True   \n",
       "34564   1115          3 2015-07-01   7701        447   True   True   \n",
       "\n",
       "      StateHoliday  SchoolHoliday StoreType Assortment  CompetitionDistance  \\\n",
       "0                0           True         c          a               1270.0   \n",
       "1115             0           True         c          a               1270.0   \n",
       "2230             0           True         c          a               1270.0   \n",
       "3345             0           True         c          a               1270.0   \n",
       "4460             0           True         c          a               1270.0   \n",
       "...            ...            ...       ...        ...                  ...   \n",
       "30104            0          False         d          c               5350.0   \n",
       "31219            0          False         d          c               5350.0   \n",
       "32334            0          False         d          c               5350.0   \n",
       "33449            0          False         d          c               5350.0   \n",
       "34564            0          False         d          c               5350.0   \n",
       "\n",
       "       CompetitionOpenSinceMonth  CompetitionOpenSinceYear  Promo2  \\\n",
       "0                            9.0                    2008.0   False   \n",
       "1115                         9.0                    2008.0   False   \n",
       "2230                         9.0                    2008.0   False   \n",
       "3345                         9.0                    2008.0   False   \n",
       "4460                         9.0                    2008.0   False   \n",
       "...                          ...                       ...     ...   \n",
       "30104                        NaN                       NaN    True   \n",
       "31219                        NaN                       NaN    True   \n",
       "32334                        NaN                       NaN    True   \n",
       "33449                        NaN                       NaN    True   \n",
       "34564                        NaN                       NaN    True   \n",
       "\n",
       "       Promo2SinceWeek  Promo2SinceYear     PromoInterval  \n",
       "0                  NaN              NaN               NaN  \n",
       "1115               NaN              NaN               NaN  \n",
       "2230               NaN              NaN               NaN  \n",
       "3345               NaN              NaN               NaN  \n",
       "4460               NaN              NaN               NaN  \n",
       "...                ...              ...               ...  \n",
       "30104             22.0           2012.0  Mar,Jun,Sept,Dec  \n",
       "31219             22.0           2012.0  Mar,Jun,Sept,Dec  \n",
       "32334             22.0           2012.0  Mar,Jun,Sept,Dec  \n",
       "33449             22.0           2012.0  Mar,Jun,Sept,Dec  \n",
       "34564             22.0           2012.0  Mar,Jun,Sept,Dec  \n",
       "\n",
       "[34565 rows x 18 columns]"
      ]
     },
     "execution_count": 150,
     "metadata": {},
     "output_type": "execute_result"
    }
   ],
   "source": [
    "sales_joined = pd.merge(\n",
    "    sales,\n",
    "    stores,\n",
    "    left_on=\"Store\",\n",
    "    right_index=True,\n",
    ")\n",
    "sales_joined"
   ]
  },
  {
   "cell_type": "markdown",
   "metadata": {},
   "source": [
    "Ricreiamo `sales_open` a partire da questo nuovo frame, in modo da poter usare facilmente le caratteristiche dei negozi nelle analisi successive."
   ]
  },
  {
   "cell_type": "code",
   "execution_count": 151,
   "metadata": {},
   "outputs": [],
   "source": [
    "sales_open = sales_joined.loc[sales_joined[\"Open\"]].drop(columns=\"Open\")"
   ]
  },
  {
   "cell_type": "markdown",
   "metadata": {
    "slideshow": {
     "slide_type": "slide"
    }
   },
   "source": [
    "## Analisi esplorativa tramite grafici\n",
    "\n",
    "I grafici sono utili per indicare visivamente come sono distribuiti i valori in una serie di dati.\n",
    "\n",
    "Abbiamo introdotto nello scorso lab **matplotlib**, una libreria Python diffusa per creare grafici di svariati tipi.\n",
    "\n",
    "Abbiamo visto i grafici a barre e i boxplot e come applicare alcune personalizzazioni di base.\n",
    "\n",
    "Vediamo altri tipi di grafici disponibili e altre opzioni per personalizzarli.\n",
    "\n",
    "Iniziamo importando l'interfaccia \"pyplot\" e impostando il rendering nel file Jupyter."
   ]
  },
  {
   "cell_type": "code",
   "execution_count": 152,
   "metadata": {},
   "outputs": [],
   "source": [
    "import matplotlib.pyplot as plt\n",
    "%matplotlib inline"
   ]
  },
  {
   "cell_type": "markdown",
   "metadata": {
    "slideshow": {
     "slide_type": "slide"
    }
   },
   "source": [
    "### Grafico a torta\n",
    "\n",
    "Un grafico a torta raffigura un cerchio diviso in settori (spicchi) di diverse dimensioni.\n",
    "\n",
    "Si può creare con la funzione `pie`, passando un vettore che definisce le proporzioni tra gli spicchi. Con l'attributo `labels` è possibile assegnare etichette a ciascun settore."
   ]
  },
  {
   "cell_type": "code",
   "execution_count": 153,
   "metadata": {},
   "outputs": [
    {
     "data": {
      "image/png": "[encoded data removed]",
      "text/plain": [
       "<Figure size 640x480 with 1 Axes>"
      ]
     },
     "metadata": {},
     "output_type": "display_data"
    }
   ],
   "source": [
    "plt.pie([1, 2, 3], labels=[\"one\", \"two\", \"three\"]);"
   ]
  },
  {
   "cell_type": "markdown",
   "metadata": {
    "slideshow": {
     "slide_type": "slide"
    }
   },
   "source": [
    "Di default i colori del grafico sono scelti automaticamente, ma si può impostare manualmente una lista di colori con l'attributo `colors`.\n",
    "\n",
    "I colori possono essere specificati [in vari modi](https://matplotlib.org/stable/tutorials/colors/colors.html), ad es. per nome, in notazione HTML/CSS o come tupla di valori RGB."
   ]
  },
  {
   "cell_type": "code",
   "execution_count": 154,
   "metadata": {},
   "outputs": [
    {
     "data": {
      "image/png": "[encoded data removed]",
      "text/plain": [
       "<Figure size 640x480 with 1 Axes>"
      ]
     },
     "metadata": {},
     "output_type": "display_data"
    }
   ],
   "source": [
    "plt.pie(       [ 0.8,   1.0,       1.2           ],\n",
    "        labels=[ \"red\", \"yellow\",  \"blue\"        ],\n",
    "        colors=[ \"red\", \"#ffff00\", (0.0,0.0,1.0) ]);"
   ]
  },
  {
   "cell_type": "markdown",
   "metadata": {},
   "source": [
    "I grafici a torta sono utilizzati comunemente per visualizzare la distribuzione di valori categorici.\n",
    "\n",
    "Riprendiamo ad esempio il conteggio dei negozi di ciascun tipo (`StoreType`)."
   ]
  },
  {
   "cell_type": "code",
   "execution_count": 155,
   "metadata": {},
   "outputs": [
    {
     "data": {
      "text/plain": [
       "StoreType\n",
       "a    602\n",
       "d    348\n",
       "c    148\n",
       "b     17\n",
       "Name: count, dtype: int64"
      ]
     },
     "execution_count": 155,
     "metadata": {},
     "output_type": "execute_result"
    }
   ],
   "source": [
    "stores_by_type = stores[\"StoreType\"].value_counts()\n",
    "stores_by_type"
   ]
  },
  {
   "cell_type": "markdown",
   "metadata": {},
   "source": [
    "Possiamo usare la funzione `pie` per visualizzare tale distribuzione in un grafico a torta..."
   ]
  },
  {
   "cell_type": "code",
   "execution_count": 156,
   "metadata": {},
   "outputs": [
    {
     "data": {
      "image/png": "[encoded data removed]",
      "text/plain": [
       "<Figure size 640x480 with 1 Axes>"
      ]
     },
     "metadata": {},
     "output_type": "display_data"
    }
   ],
   "source": [
    "plt.pie(\n",
    "    stores_by_type,\n",
    "    labels=stores_by_type.index,\n",
    ");"
   ]
  },
  {
   "cell_type": "markdown",
   "metadata": {},
   "source": [
    "...o usare direttamente il metodo `plot.pie` della serie."
   ]
  },
  {
   "cell_type": "code",
   "execution_count": 157,
   "metadata": {},
   "outputs": [
    {
     "data": {
      "image/png": "[encoded data removed]",
      "text/plain": [
       "<Figure size 640x480 with 1 Axes>"
      ]
     },
     "metadata": {},
     "output_type": "display_data"
    }
   ],
   "source": [
    "stores_by_type.plot.pie();"
   ]
  },
  {
   "cell_type": "markdown",
   "metadata": {},
   "source": [
    "Per personalizzare i colori, possiamo definire un dizionario che associa ad ogni classe un colore da utilizzare..."
   ]
  },
  {
   "cell_type": "code",
   "execution_count": 158,
   "metadata": {},
   "outputs": [],
   "source": [
    "store_type_colors = {\"a\": \"blue\", \"b\": \"red\", \"c\": \"green\", \"d\": \"yellow\"}"
   ]
  },
  {
   "cell_type": "markdown",
   "metadata": {},
   "source": [
    "...e utilizzare il metodo `map` per convertire ciascun valore nel suo colore"
   ]
  },
  {
   "cell_type": "code",
   "execution_count": 159,
   "metadata": {},
   "outputs": [
    {
     "data": {
      "image/png": "[encoded data removed]",
      "text/plain": [
       "<Figure size 640x480 with 1 Axes>"
      ]
     },
     "metadata": {},
     "output_type": "display_data"
    }
   ],
   "source": [
    "stores_by_type.plot.pie(colors=stores_by_type.index.map(store_type_colors));"
   ]
  },
  {
   "cell_type": "markdown",
   "metadata": {
    "slideshow": {
     "slide_type": "slide"
    }
   },
   "source": [
    "Possiamo visualizzare un grafico a torta anche di una serie numerica continua, discretizzandone i valori con `cut`.\n",
    "\n",
    "Riprendiamo ad esempio il grafico la distribuzione delle vendite in 4 fasce e visualizziamola in un grafico."
   ]
  },
  {
   "cell_type": "code",
   "execution_count": 160,
   "metadata": {},
   "outputs": [
    {
     "data": {
      "image/png": "[encoded data removed]",
      "text/plain": [
       "<Figure size 640x480 with 1 Axes>"
      ]
     },
     "metadata": {},
     "output_type": "display_data"
    }
   ],
   "source": [
    "pd.cut(sales_open[\"Sales\"], 4, right=False).value_counts().plot.pie();"
   ]
  },
  {
   "cell_type": "markdown",
   "metadata": {},
   "source": [
    "Un grafico a torta può essere personalizzato passando parametri alla funzione o al metodo `pie`\n",
    "\n",
    "Ad es. `autopct=X` visualizza su ogni sezione le percentuali corrispondenti con un formato specificato (`%.2f` = percentuale con 2 cifre decimali, `%%` = simbolo \"%\")"
   ]
  },
  {
   "cell_type": "code",
   "execution_count": 161,
   "metadata": {},
   "outputs": [
    {
     "data": {
      "image/png": "[encoded data removed]",
      "text/plain": [
       "<Figure size 640x480 with 1 Axes>"
      ]
     },
     "metadata": {},
     "output_type": "display_data"
    }
   ],
   "source": [
    "stores[\"StoreType\"].value_counts().plot.pie(autopct=\"%.2f%%\");"
   ]
  },
  {
   "cell_type": "markdown",
   "metadata": {
    "slideshow": {
     "slide_type": "slide"
    },
    "tags": []
   },
   "source": [
    "### Grafico a barre\n",
    "\n",
    "Abbiamo visto nel laboratorio precedente come usare un grafico a barre per confrontare tra loro singoli valori.\n",
    "\n",
    "Possiamo usarlo anche per visualizzare la distribuzione di valori categorici, come alternativa ad un grafico a torta.\n",
    "\n",
    "Applichiamo il metodo `plot.bar` al conteggio dei valori della colonna `StoreType`."
   ]
  },
  {
   "cell_type": "code",
   "execution_count": 162,
   "metadata": {},
   "outputs": [
    {
     "data": {
      "image/png": "[encoded data removed]",
      "text/plain": [
       "<Figure size 640x480 with 1 Axes>"
      ]
     },
     "metadata": {},
     "output_type": "display_data"
    }
   ],
   "source": [
    "stores[\"StoreType\"].value_counts().plot.bar();"
   ]
  },
  {
   "cell_type": "markdown",
   "metadata": {
    "slideshow": {
     "slide_type": "slide"
    },
    "tags": []
   },
   "source": [
    "### Istogramma\n",
    "\n",
    "Un istogramma visualizza in un diagramma a barre la distribuzione di valori in una serie numerica.\n",
    "\n",
    "Possiamo crearlo suddividendo i valori in intervalli di pari ampiezza (come per `pd.cut`) e indicando il numero di valori in ciascun intervallo in un grafico a barre."
   ]
  },
  {
   "cell_type": "code",
   "execution_count": 163,
   "metadata": {},
   "outputs": [
    {
     "data": {
      "image/png": "[encoded data removed]",
      "text/plain": [
       "<Figure size 640x480 with 1 Axes>"
      ]
     },
     "metadata": {},
     "output_type": "display_data"
    }
   ],
   "source": [
    "(\n",
    "    pd.cut(sales_open[\"Sales\"], bins=20)  # discretizzo i valori\n",
    "    .value_counts()               # estraggo i conteggi\n",
    "    .sort_index()                 # devo ordinare i valori per etichetta!\n",
    "    .plot.bar()\n",
    ");"
   ]
  },
  {
   "cell_type": "markdown",
   "metadata": {},
   "source": [
    "È però più conveniente usare la funzione `hist`, a cui passare direttamente i dati e il numero di fasce da creare `bins` (default 10)..."
   ]
  },
  {
   "cell_type": "code",
   "execution_count": 164,
   "metadata": {},
   "outputs": [
    {
     "data": {
      "image/png": "[encoded data removed]",
      "text/plain": [
       "<Figure size 640x480 with 1 Axes>"
      ]
     },
     "metadata": {},
     "output_type": "display_data"
    }
   ],
   "source": [
    "plt.hist(sales_open[\"Sales\"], bins=20);"
   ]
  },
  {
   "cell_type": "markdown",
   "metadata": {},
   "source": [
    "...oppure il metodo equivalente `plot.hist`"
   ]
  },
  {
   "cell_type": "code",
   "execution_count": 165,
   "metadata": {},
   "outputs": [
    {
     "data": {
      "image/png": "[encoded data removed]",
      "text/plain": [
       "<Figure size 640x480 with 1 Axes>"
      ]
     },
     "metadata": {},
     "output_type": "display_data"
    }
   ],
   "source": [
    "sales_open[\"Sales\"].plot.hist(bins=20);"
   ]
  },
  {
   "cell_type": "markdown",
   "metadata": {},
   "source": [
    "Dall'istogramma abbiamo una conferma \"visiva\" di quanto visto nelle analisi precedenti: nella maggior parte dei casi il ricavo giornaliero è di solito entro i 10.000 €, ma in casi rari può raggiungere i 30.000 €"
   ]
  },
  {
   "cell_type": "markdown",
   "metadata": {
    "slideshow": {
     "slide_type": "slide"
    }
   },
   "source": [
    "### Box plot\n",
    "\n",
    "Abbiamo visto nello scorso lab il _box plot_ come metodo per visualizzare le statistiche essenziali di una serie di valori."
   ]
  },
  {
   "cell_type": "code",
   "execution_count": 166,
   "metadata": {
    "slideshow": {
     "slide_type": "-"
    }
   },
   "outputs": [
    {
     "data": {
      "image/png": "[encoded data removed]",
      "text/plain": [
       "<Figure size 640x480 with 1 Axes>"
      ]
     },
     "metadata": {},
     "output_type": "display_data"
    }
   ],
   "source": [
    "sales_open[\"Sales\"].plot.box(showmeans=True);"
   ]
  },
  {
   "cell_type": "code",
   "execution_count": 167,
   "metadata": {},
   "outputs": [
    {
     "data": {
      "text/plain": [
       "count    30188.000000\n",
       "mean      7033.344905\n",
       "std       2937.213296\n",
       "min        708.000000\n",
       "25%       5060.000000\n",
       "50%       6523.000000\n",
       "75%       8410.000000\n",
       "max      32547.000000\n",
       "Name: Sales, dtype: float64"
      ]
     },
     "execution_count": 167,
     "metadata": {},
     "output_type": "execute_result"
    }
   ],
   "source": [
    "sales_open[\"Sales\"].describe()"
   ]
  },
  {
   "cell_type": "markdown",
   "metadata": {},
   "source": [
    "- Il rettangolo evidenzia che il 50\\% \"centrale\" dei ricavi è tra 5.000 € e 8.400 € circa\n",
    "- Il triangolo (7.000 €) e la linea centrale (6.500 €) indicano rispettivamente **media** e **mediana (50%)**\n",
    "- I \"baffi\" indicano il **minimo** (700 €) e il **massimo** (13.000 €) dei dati \"ordinari\"\n",
    "- I valori molto fuori dalla norma (_outlier_) sono mostrati come cerchi esterni ai baffi"
   ]
  },
  {
   "cell_type": "markdown",
   "metadata": {
    "slideshow": {
     "slide_type": "slide"
    }
   },
   "source": [
    "Possiamo invocare `plot.box` su un frame per visualizzare i box di tutte le colonne numeriche in un solo grafico.\n",
    "\n",
    "Tuttavia, se i valori sono su scale diverse come in questo caso, alcuni box plot risultano schiacciati."
   ]
  },
  {
   "cell_type": "code",
   "execution_count": 168,
   "metadata": {
    "slideshow": {
     "slide_type": "-"
    }
   },
   "outputs": [
    {
     "data": {
      "image/png": "[encoded data removed]",
      "text/plain": [
       "<Figure size 640x480 with 1 Axes>"
      ]
     },
     "metadata": {},
     "output_type": "display_data"
    }
   ],
   "source": [
    "sales_open.plot.box(showmeans=True);"
   ]
  },
  {
   "cell_type": "markdown",
   "metadata": {
    "slideshow": {
     "slide_type": "slide"
    }
   },
   "source": [
    "I frame forniscono anche il metodo `boxplot` con alcune funzioni aggiuntive\n",
    "  - con `column` si specifica di quale colonna mostrare il grafico\n",
    "  - con `by` si partizionano i dati secondo il valore di un'altra colonna e si mostra il box plot per gruppi\n",
    "\n",
    "Vediamo ad esempio la distribuzione dei ricavi differenziata per giorno della settimana"
   ]
  },
  {
   "cell_type": "code",
   "execution_count": 169,
   "metadata": {},
   "outputs": [
    {
     "data": {
      "image/png": "[encoded data removed]",
      "text/plain": [
       "<Figure size 640x480 with 1 Axes>"
      ]
     },
     "metadata": {},
     "output_type": "display_data"
    }
   ],
   "source": [
    "sales_open.boxplot(column=\"Sales\", by=\"DayOfWeek\", showmeans=True);"
   ]
  },
  {
   "cell_type": "markdown",
   "metadata": {
    "slideshow": {
     "slide_type": "slide"
    }
   },
   "source": [
    "### Grafico a dispersione\n",
    "\n",
    "Un grafico a dispersione (_scatter plot_) visualizza dei punti in un piano.\n",
    "\n",
    "Si crea con la funzione `scatter`, passando due vettori di pari lunghezza con rispettivamente i valori per le coordinate X e Y di ciascun punto."
   ]
  },
  {
   "cell_type": "code",
   "execution_count": 170,
   "metadata": {},
   "outputs": [
    {
     "data": {
      "image/png": "[encoded data removed]",
      "text/plain": [
       "<Figure size 640x480 with 1 Axes>"
      ]
     },
     "metadata": {},
     "output_type": "display_data"
    }
   ],
   "source": [
    "plt.scatter(\n",
    "    [1,    2, 3.14, 4, 5],   # X\n",
    "    [1.73, 3, 1,    3, 2],   # Y\n",
    ");"
   ]
  },
  {
   "cell_type": "markdown",
   "metadata": {
    "slideshow": {
     "slide_type": "slide"
    }
   },
   "source": [
    "Un grafico a dispersione può essere usato per visualizzare la distribuzione di due variabili in modo congiunto.\n",
    "\n",
    "In questo modo è possibile **valutare se esiste una correlazione** tra tali due variabili.\n",
    "\n",
    "Vediamo ad esempio la correlazione tra il numero dei clienti (asse X) e il ricavo totale (asse Y)."
   ]
  },
  {
   "cell_type": "code",
   "execution_count": 171,
   "metadata": {},
   "outputs": [
    {
     "data": {
      "image/png": "[encoded data removed]",
      "text/plain": [
       "<Figure size 640x480 with 1 Axes>"
      ]
     },
     "metadata": {},
     "output_type": "display_data"
    }
   ],
   "source": [
    "plt.scatter(\n",
    "    sales_open[\"Customers\"],  # X\n",
    "    sales_open[\"Sales\"],      # Y\n",
    ");"
   ]
  },
  {
   "cell_type": "markdown",
   "metadata": {},
   "source": [
    "Possiamo ottenere lo stesso grafico col metodo `plot.scatter` sul frame, specificando i nomi delle colonne da usare come X e Y."
   ]
  },
  {
   "cell_type": "code",
   "execution_count": 172,
   "metadata": {},
   "outputs": [
    {
     "data": {
      "image/png": "[encoded data removed]",
      "text/plain": [
       "<Figure size 640x480 with 1 Axes>"
      ]
     },
     "metadata": {},
     "output_type": "display_data"
    }
   ],
   "source": [
    "sales_open.plot.scatter(\"Customers\", \"Sales\");"
   ]
  },
  {
   "cell_type": "markdown",
   "metadata": {},
   "source": [
    "Il grafico evidenzia visivamente che in tendenza il ricavo giornaliero è (come prevedibile) tanto più alto quanto più sono i clienti."
   ]
  },
  {
   "cell_type": "markdown",
   "metadata": {
    "slideshow": {
     "slide_type": "slide"
    }
   },
   "source": [
    "I parametri `s` (size) e `c` (col) di `scatter` permettono di decidere dimensione e colore dei punti.\n",
    "\n",
    "Qui assegniamo la stessa dimensione e colore a tutti i punti, ma vedremo che si possono anche differenziare in base ai dati."
   ]
  },
  {
   "cell_type": "code",
   "execution_count": 173,
   "metadata": {},
   "outputs": [
    {
     "data": {
      "image/png": "[encoded data removed]",
      "text/plain": [
       "<Figure size 640x480 with 1 Axes>"
      ]
     },
     "metadata": {},
     "output_type": "display_data"
    }
   ],
   "source": [
    "sales_open.plot.scatter(\"Customers\", \"Sales\", s=7, c=\"red\");"
   ]
  },
  {
   "cell_type": "markdown",
   "metadata": {
    "slideshow": {
     "slide_type": "slide"
    }
   },
   "source": [
    "### Esercizio 5: Grafici\n",
    "\n",
    "Creare i seguenti grafici dai frame `sales_open` e `stores`:\n",
    "\n",
    "- **(5a)** un grafico a torta con la distribuzione del numero di clienti in tre fasce di uguale ampiezza\n",
    "- **(5b)** un grafico a torta con la distribuzione dei tipi di assortimento (`Assortment`) dei soli negozi di tipologia (`StoreType`) `a`\n",
    "- **(5c)** un'istogramma con la distribuzione del ricavo giornaliero medio per cliente\n",
    "- **(5d)** un box plot con la stessa distribuzione (5c)\n",
    "- **(5e)** un grafico a dispersione con la correlazione tra distanza dal punto vendita concorrente più vicino e ricavo\n",
    "- **(5f)** una serie di box plot con la distribuzione del numero medio di clienti giornalieri per ciascuna tipologia (`StoreType`) di negozio"
   ]
  },
  {
   "cell_type": "code",
   "execution_count": 190,
   "metadata": {},
   "outputs": [
    {
     "data": {
      "image/png": "[encoded data removed]",
      "text/plain": [
       "<Figure size 640x480 with 1 Axes>"
      ]
     },
     "metadata": {},
     "output_type": "display_data"
    }
   ],
   "source": [
    "#5a\n",
    "pd.cut(sales_open[\"Customers\"], 3).value_counts().plot.pie();"
   ]
  },
  {
   "cell_type": "code",
   "execution_count": 194,
   "metadata": {
    "scrolled": false
   },
   "outputs": [
    {
     "data": {
      "image/png": "[encoded data removed]",
      "text/plain": [
       "<Figure size 640x480 with 1 Axes>"
      ]
     },
     "metadata": {},
     "output_type": "display_data"
    }
   ],
   "source": [
    "#5b\n",
    "stores.loc[stores[\"StoreType\"] == 'a', \"Assortment\"].value_counts().plot.pie();"
   ]
  },
  {
   "cell_type": "code",
   "execution_count": 196,
   "metadata": {},
   "outputs": [
    {
     "data": {
      "image/png": "[encoded data removed]",
      "text/plain": [
       "<Figure size 640x480 with 1 Axes>"
      ]
     },
     "metadata": {},
     "output_type": "display_data"
    }
   ],
   "source": [
    "#5c\n",
    "(sales_open[\"Sales\"] / sales_open[\"Customers\"]).plot.hist();"
   ]
  },
  {
   "cell_type": "code",
   "execution_count": 198,
   "metadata": {},
   "outputs": [
    {
     "data": {
      "image/png": "[encoded data removed]",
      "text/plain": [
       "<Figure size 640x480 with 1 Axes>"
      ]
     },
     "metadata": {},
     "output_type": "display_data"
    }
   ],
   "source": [
    "#5d\n",
    "(sales_open[\"Sales\"] / sales_open[\"Customers\"]).plot.box(showmeans=True);"
   ]
  },
  {
   "cell_type": "code",
   "execution_count": 199,
   "metadata": {},
   "outputs": [
    {
     "data": {
      "image/png": "[encoded data removed]",
      "text/plain": [
       "<Figure size 640x480 with 1 Axes>"
      ]
     },
     "metadata": {},
     "output_type": "display_data"
    }
   ],
   "source": [
    "#5e\n",
    "sales_open.plot.scatter(\"CompetitionDistance\", \"Sales\");"
   ]
  },
  {
   "cell_type": "code",
   "execution_count": 200,
   "metadata": {},
   "outputs": [
    {
     "data": {
      "image/png": "[encoded data removed]",
      "text/plain": [
       "<Figure size 640x480 with 1 Axes>"
      ]
     },
     "metadata": {},
     "output_type": "display_data"
    }
   ],
   "source": [
    "#5f\n",
    "sales_open.boxplot(column=\"Customers\", by=\"StoreType\", showmeans=True);"
   ]
  }
 ],
 "metadata": {
  "kernelspec": {
   "display_name": "Python 3 (ipykernel)",
   "language": "python",
   "name": "python3"
  },
  "language_info": {
   "codemirror_mode": {
    "name": "ipython",
    "version": 3
   },
   "file_extension": ".py",
   "mimetype": "text/x-python",
   "name": "python",
   "nbconvert_exporter": "python",
   "pygments_lexer": "ipython3",
   "version": "3.11.3"
  }
 },
 "nbformat": 4,
 "nbformat_minor": 4
}
