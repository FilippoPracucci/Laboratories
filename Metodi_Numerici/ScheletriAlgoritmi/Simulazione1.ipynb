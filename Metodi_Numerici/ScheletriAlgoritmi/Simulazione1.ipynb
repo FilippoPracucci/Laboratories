{
 "cells": [
  {
   "cell_type": "markdown",
   "id": "66293608-503e-4bfe-976c-7929766fdfee",
   "metadata": {},
   "source": [
    "## Esercizo 1\n",
    "Si consideri il sistema lineare Ax=b, con A matrice e b termine noto memorizzati nel file ``Dati0.mat``.  Risolvere il sistema utilizzando il metodo più adatto al problema proposto e commentare i risultati ottenuti  giustificandoli alla luce della teoria. \n",
    "\n",
    "Per la lettura dei dati procedere nel seguente modo:\n",
    "\n",
    "``from scipy.io import loadmat``\n",
    "\n",
    "``import numpy as np``\n",
    "\n",
    "``dati = loadmat('Dati0.mat')``\n",
    "\n",
    "``A=dati[\"A\"] ``\n",
    "\n",
    "`` b=dati[\"b\"] ``"
   ]
  },
  {
   "cell_type": "code",
   "execution_count": 10,
   "id": "edd8e450-c140-4859-8e6d-bab6f25b39db",
   "metadata": {},
   "outputs": [],
   "source": [
    "import numpy as np\n",
    "import scipy.linalg as spLin\n",
    "from scipy.io import loadmat\n",
    "import matplotlib.pyplot as plt\n",
    "import RisolviSis\n",
    "\n",
    "dati = loadmat('Dati0.mat')\n",
    "A = dati[\"A\"]\n",
    "b = dati[\"b\"]"
   ]
  },
  {
   "cell_type": "code",
   "execution_count": 34,
   "id": "767fc8a9-eeb6-46ed-a5b7-04460f7503c2",
   "metadata": {},
   "outputs": [
    {
     "name": "stdout",
     "output_type": "stream",
     "text": [
      "Matrice di grandi dimensioni\n",
      "Density:  1.2\n",
      "Matrice sparsa\n",
      "raggio spettrale Gauss-Seidel  0.9777864028930714\n",
      "it =  645\n",
      "Matrice A simmetrica\n",
      "Autovalori tutti positivi\n",
      "Matrice A simmetrica definita positiva\n",
      "it =  38\n"
     ]
    },
    {
     "data": {
      "image/png": "[encoded data removed]",
      "text/plain": [
       "<Figure size 640x480 with 1 Axes>"
      ]
     },
     "metadata": {},
     "output_type": "display_data"
    }
   ],
   "source": [
    "n, m = A.shape\n",
    "flag = 0\n",
    "if m != n:\n",
    "    print(\"Matrice non quadrtata\")\n",
    "    flag = 1\n",
    "elif m >= 100 or n >= 100:\n",
    "    print(\"Matrice di grandi dimensioni\")\n",
    "density = (np.count_nonzero(A) / m**2) * 100\n",
    "print(\"Density: \", density)\n",
    "if density > 33:\n",
    "    print(\"Matrice densa\")\n",
    "else:\n",
    "    print(\"Matrice sparsa\")\n",
    "x0 = np.zeros((n, 1))\n",
    "toll = 1e-8\n",
    "it_max = 1000\n",
    "x, it, er_vet = gauss_seidel(A, b, x0, toll, it_max)\n",
    "print(\"it = \", it)\n",
    "plt.semilogy(np.arange(it), er_vet)\n",
    "if np.array_equal(A, A.T):\n",
    "    print(\"Matrice A simmetrica\")\n",
    "    if np.all(np.linalg.eigvals(A)) > 0:\n",
    "        print(\"Autovalori tutti positivi\")\n",
    "        print(\"Matrice A simmetrica definita positiva\")\n",
    "        x_CG, it_CG, sol_vet_CG, er_vet_CG = conjugate_gradient(A, b, x0, it_max, toll)\n",
    "        print(\"it = \", it_CG)\n",
    "        plt.semilogy(np.arange(it_CG + 1), er_vet_CG)"
   ]
  },
  {
   "cell_type": "code",
   "execution_count": null,
   "id": "f5292808-97ae-40c9-91e2-f309d9023a70",
   "metadata": {},
   "outputs": [],
   "source": [
    "def gauss_seidel(A,b,x0,toll,it_max):\n",
    "    errore=1000\n",
    "    d = np.diag(A) \n",
    "    D = np.diag(d)\n",
    "    E = np.tril(A, -1) \n",
    "    F = np.triu(A, 1)\n",
    "    M = D + E\n",
    "    N = -F\n",
    "    T=np.dot(np.linalg.inv(M), N)\n",
    "    autovalori = np.linalg.eigvals(T)\n",
    "    raggiospettrale = np.max(np.abs(autovalori))\n",
    "    print(\"raggio spettrale Gauss-Seidel \", raggiospettrale)\n",
    "    it = 0\n",
    "    er_vet = []\n",
    "    while it <= it_max and errore >= toll: \n",
    "        temp = b + np.dot(N, x0)\n",
    "        x, flag = RisolviSis.Lsolve(M, temp)\n",
    "        errore = np.linalg.norm(x - x0) / np.linalg.norm(x) \n",
    "        er_vet.append(errore)\n",
    "        x0 = x.copy()\n",
    "        it = it + 1\n",
    "    return x,it,er_vet"
   ]
  },
  {
   "cell_type": "code",
   "execution_count": 33,
   "id": "de55f4e3-9cf3-4fa5-8f4b-9cb73d42bd8a",
   "metadata": {},
   "outputs": [],
   "source": [
    "def conjugate_gradient(A,b,x0,itmax,tol):\n",
    "    \n",
    "#Metodo del gradiente coniugato per la soluzione di un sistema lineare con matrice dei coefficienti simmetrica e definita positiva\n",
    "    n,m=A.shape\n",
    "    if n!=m:\n",
    "        print(\"Matrice non quadrata\")\n",
    "        return [],[]\n",
    "    \n",
    "    \n",
    "   # inizializzare le variabili necessarie\n",
    "    x = x0\n",
    "    r = A.dot(x) - b \n",
    "    p = -r \n",
    "    it = 0\n",
    "    nb = np.linalg.norm(b) \n",
    "    errore = np.linalg.norm(r) / nb\n",
    "    vec_sol=[]\n",
    "    vec_sol.append(x)\n",
    "    vet_err=[]\n",
    "    vet_err.append(errore)\n",
    "# utilizzare il metodo del gradiente coniugato per trovare la soluzione\n",
    "    while errore >= tol and it < it_max: \n",
    "        it = it + 1\n",
    "        Ap = A.dot(p)\n",
    "        rtr = np.dot(r.T, r) \n",
    "        alpha = rtr / np.dot(p.T, Ap) \n",
    "        x = x + (alpha * p)\n",
    "        vec_sol.append(x)\n",
    "        r = r + (alpha * Ap) \n",
    "        gamma = np.dot(r.T, r) / rtr\n",
    "        errore = np.linalg.norm(r) / nb\n",
    "        vet_err.append(errore)\n",
    "        p = -r + (gamma * p)\n",
    "   \n",
    "    \n",
    "    return x, it, vec_sol, vet_err"
   ]
  },
  {
   "cell_type": "raw",
   "id": "9aa00e60-1f03-45f7-93be-44c3dcda2136",
   "metadata": {},
   "source": [
    "La matrice dei coefficienti A è una matrice quadrata di grandi dimensioni, in quanto le sue dimensioni sono nell'ordine delle centinaia (nello specifico 400x400) e sparsa, perché i valori diversi da 0 sono meno del 33%, nello specifico sono 1,2%. Alla luce di queste considerazioni posso utilizzare per risolvere questo sistema lineare un metodo iterativo come Gauss-Seidel oppure per esempio il metodo del Gradiente Coniugato che è più efficiente, in quanto impiega molte meno iterazioni per arrivare al risultato."
   ]
  },
  {
   "cell_type": "code",
   "execution_count": 36,
   "id": "7c023911-74f2-4dd9-a687-091a1767fe08",
   "metadata": {},
   "outputs": [],
   "source": [
    "dati = loadmat('Dati1.mat')\n",
    "A = dati[\"A\"]\n",
    "b = dati[\"b\"]"
   ]
  },
  {
   "cell_type": "code",
   "execution_count": 50,
   "id": "fc3c2531-afcc-4716-84d1-c2ded8b28c8d",
   "metadata": {},
   "outputs": [
    {
     "name": "stdout",
     "output_type": "stream",
     "text": [
      "(20, 20)\n",
      "Matrice di piccole dimensioni\n",
      "x =  [[1. 1. 1. 1. 1. 1. 1. 1. 1. 1. 1. 1. 1. 1. 1. 1. 1. 1. 1. 1.]\n",
      " [1. 1. 1. 1. 1. 1. 1. 1. 1. 1. 1. 1. 1. 1. 1. 1. 1. 1. 1. 1.]\n",
      " [1. 1. 1. 1. 1. 1. 1. 1. 1. 1. 1. 1. 1. 1. 1. 1. 1. 1. 1. 1.]\n",
      " [1. 1. 1. 1. 1. 1. 1. 1. 1. 1. 1. 1. 1. 1. 1. 1. 1. 1. 1. 1.]\n",
      " [1. 1. 1. 1. 1. 1. 1. 1. 1. 1. 1. 1. 1. 1. 1. 1. 1. 1. 1. 1.]\n",
      " [1. 1. 1. 1. 1. 1. 1. 1. 1. 1. 1. 1. 1. 1. 1. 1. 1. 1. 1. 1.]\n",
      " [1. 1. 1. 1. 1. 1. 1. 1. 1. 1. 1. 1. 1. 1. 1. 1. 1. 1. 1. 1.]\n",
      " [1. 1. 1. 1. 1. 1. 1. 1. 1. 1. 1. 1. 1. 1. 1. 1. 1. 1. 1. 1.]\n",
      " [1. 1. 1. 1. 1. 1. 1. 1. 1. 1. 1. 1. 1. 1. 1. 1. 1. 1. 1. 1.]\n",
      " [1. 1. 1. 1. 1. 1. 1. 1. 1. 1. 1. 1. 1. 1. 1. 1. 1. 1. 1. 1.]\n",
      " [1. 1. 1. 1. 1. 1. 1. 1. 1. 1. 1. 1. 1. 1. 1. 1. 1. 1. 1. 1.]\n",
      " [1. 1. 1. 1. 1. 1. 1. 1. 1. 1. 1. 1. 1. 1. 1. 1. 1. 1. 1. 1.]\n",
      " [1. 1. 1. 1. 1. 1. 1. 1. 1. 1. 1. 1. 1. 1. 1. 1. 1. 1. 1. 1.]\n",
      " [1. 1. 1. 1. 1. 1. 1. 1. 1. 1. 1. 1. 1. 1. 1. 1. 1. 1. 1. 1.]\n",
      " [1. 1. 1. 1. 1. 1. 1. 1. 1. 1. 1. 1. 1. 1. 1. 1. 1. 1. 1. 1.]\n",
      " [1. 1. 1. 1. 1. 1. 1. 1. 1. 1. 1. 1. 1. 1. 1. 1. 1. 1. 1. 1.]\n",
      " [1. 1. 1. 1. 1. 1. 1. 1. 1. 1. 1. 1. 1. 1. 1. 1. 1. 1. 1. 1.]\n",
      " [1. 1. 1. 1. 1. 1. 1. 1. 1. 1. 1. 1. 1. 1. 1. 1. 1. 1. 1. 1.]\n",
      " [1. 1. 1. 1. 1. 1. 1. 1. 1. 1. 1. 1. 1. 1. 1. 1. 1. 1. 1. 1.]\n",
      " [1. 1. 1. 1. 1. 1. 1. 1. 1. 1. 1. 1. 1. 1. 1. 1. 1. 1. 1. 1.]]\n"
     ]
    }
   ],
   "source": [
    "m, n = A.shape\n",
    "flag = 0\n",
    "print(A.shape)\n",
    "if m != n:\n",
    "    print(\"Matrice non quadrata\")\n",
    "    flag = 1\n",
    "if flag == 0:\n",
    "    if m >= 100 or n >= 100:\n",
    "        print(\"Matrice di grandi dimensioni\")\n",
    "        density = np.count_nonzero(A) / m**2\n",
    "        print(\"Densita': \", density)\n",
    "        if density * 100 < 33:\n",
    "            print(\"Matrice sparsa\")\n",
    "        else:\n",
    "            print(\"Matrice densa\")\n",
    "    else:\n",
    "        print(\"Matrice di piccole dimensioni\")\n",
    "        x = LUsolve(A, b)\n",
    "        print(\"x = \", x)\n",
    "else:\n",
    "    print(\"Sistema sovradeterminato\")"
   ]
  },
  {
   "cell_type": "code",
   "execution_count": 49,
   "id": "bc785fb5-c783-41dc-bd50-6c198942d468",
   "metadata": {},
   "outputs": [],
   "source": [
    "def LUsolve(A, b):\n",
    "    m, n = A.shape\n",
    "    X = np.zeros((n, n))\n",
    "    flag = 0\n",
    "    if np.all(np.diag(A)) != True:\n",
    "        flag = 1\n",
    "    \n",
    "    PT, L, U = spLin.lu(A)\n",
    "    P = PT.T.copy()\n",
    "    if flag == 0:\n",
    "        for i in range (n):\n",
    "            y, flag = RisolviSis.Lsolve(L, P@b)\n",
    "            x, flag = RisolviSis.Usolve(U, y)\n",
    "            X[:, i] = x.reshape(n,)\n",
    "    else:\n",
    "        print(\"Elemento diagonale nullo\")\n",
    "        X = []\n",
    "    return X"
   ]
  },
  {
   "cell_type": "raw",
   "id": "06135e2b-fc55-4efa-8f5a-cb04dd7a4cda",
   "metadata": {},
   "source": [
    "In questo caso la matrice dei coefficienti era una matrice quadrata di piccole dimensioni (20x20) quindi si poteva utilizzare uno dei tre metodi diretti imparati. Ho scelto di utilizzare il metodo di Gauss che utilizza la fattorizzazione LU, dove L è una matrice triangolare inferiore e U una matrice triangolare superiore"
   ]
  }
 ],
 "metadata": {
  "kernelspec": {
   "display_name": "Python 3 (ipykernel)",
   "language": "python",
   "name": "python3"
  },
  "language_info": {
   "codemirror_mode": {
    "name": "ipython",
    "version": 3
   },
   "file_extension": ".py",
   "mimetype": "text/x-python",
   "name": "python",
   "nbconvert_exporter": "python",
   "pygments_lexer": "ipython3",
   "version": "3.9.13"
  }
 },
 "nbformat": 4,
 "nbformat_minor": 5
}
