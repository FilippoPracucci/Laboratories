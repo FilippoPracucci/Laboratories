{
 "cells": [
  {
   "cell_type": "markdown",
   "id": "a2ef8934-47fe-45cb-a9e9-822ef5f005e5",
   "metadata": {},
   "source": [
    "-   Valutare in aritmetica floating point l'espressione\n",
    "$$f(x)=\\frac{1}{x}-\\frac{1}{(x+0.04)}$$  nel vettore   $x=[10^0, 10^1,... ,10^{20}]$ contenente potenze successive  di $10$. \n",
    "\n",
    "                                                [1 punto]\n",
    "- Calcolare l'indice di condizionamente del problema di valutare la funzione $f(x)$ al variare x e dedurre a partire da quale valore di x esso  assume valori molto elevati. Dire cosa rappresenta l'indice di condizionamento di un problema e dire cosa misura. \n",
    "\n",
    "                                                [5 punti]\n",
    "\n",
    "- Calcolare $f(x)$ per il valore di x precedente  a quello individuato dal punto precedente. perturbare questo x del 10% ed indicarlo con xp. Calcolare l'errore relativo di xp rispetto ad x. Cosa si ottiene\n",
    "\n",
    "                                                [1 punto]\n",
    "    \n",
    "- Determinare se la funzione $f(x)$ è numericamente stabile? E nel caso non lo sia individuare la causa della sua instabilità.\n",
    "\n",
    "                                                [2 punti]\n",
    " \n",
    "- Fornire una formula alternativa $g(x)$ algebricamente equivalente ma numericamente più stabile. \n",
    "\n",
    "                                                 [2 punti]\n",
    "- Calcolare l'errore relativo della funzione $f(x)$ rispetto alla funzione $g(x)$ e visuarlo graficamente in scla logaritmica sia sulle ascisse che sulle ordinate\n",
    "\n",
    "                                                [1 punto]"
   ]
  },
  {
   "cell_type": "code",
   "execution_count": 24,
   "id": "944c3fe2-fc24-4a39-aa47-42ebbc744b95",
   "metadata": {},
   "outputs": [],
   "source": [
    "import numpy as np\n",
    "import matplotlib.pyplot as plt\n",
    "import scipy.linalg as spLin\n",
    "import sympy as sym\n",
    "from sympy.utilities.lambdify import lambdify"
   ]
  },
  {
   "cell_type": "code",
   "execution_count": 25,
   "id": "c5f7edd5-2305-449a-b6f3-10064e8a373d",
   "metadata": {},
   "outputs": [],
   "source": [
    "x = 10.0 ** np.arange(0, 21)\n",
    "f = lambda x: (1/x) - (1 / (x+0.04))\n",
    "fx = f(x)"
   ]
  },
  {
   "cell_type": "code",
   "execution_count": 31,
   "id": "d66d91af-fe56-4c68-b592-3d3bf908f0f8",
   "metadata": {},
   "outputs": [
    {
     "name": "stdout",
     "output_type": "stream",
     "text": [
      "Derivata di f:  (s + 0.04)**(-2) - 1/s**2\n",
      "Indice di condizionamento K = \n",
      " [1.96153846 1.99601594 1.99960016 1.99996    1.999996   1.9999996\n",
      " 1.99999996 2.00000006 1.99999999 2.00000257 2.00000086 2.00052087\n",
      " 2.00731911 1.98035137 2.13162821        inf        inf        inf\n",
      "        nan        nan        nan]\n",
      "Spacing = \n",
      " [2.22044605e-16 1.77635684e-15 1.42108547e-14 1.13686838e-13\n",
      " 1.81898940e-12 1.45519152e-11 1.16415322e-10 1.86264515e-09\n",
      " 1.49011612e-08 1.19209290e-07 1.90734863e-06 1.52587891e-05\n",
      " 1.22070312e-04 1.95312500e-03 1.56250000e-02 1.25000000e-01\n",
      " 2.00000000e+00 1.60000000e+01 1.28000000e+02 2.04800000e+03\n",
      " 1.63840000e+04]\n"
     ]
    },
    {
     "name": "stderr",
     "output_type": "stream",
     "text": [
      "C:\\Users\\Utente\\AppData\\Local\\Temp\\ipykernel_13948\\1793266959.py:10: RuntimeWarning: divide by zero encountered in true_divide\n",
      "  k = np.abs((df_num(x) * x) / f_num(x))\n",
      "C:\\Users\\Utente\\AppData\\Local\\Temp\\ipykernel_13948\\1793266959.py:10: RuntimeWarning: invalid value encountered in true_divide\n",
      "  k = np.abs((df_num(x) * x) / f_num(x))\n"
     ]
    }
   ],
   "source": [
    "s = sym.symbols('s')\n",
    "fs = (1/s) - (1 / (s+0.04))\n",
    "\n",
    "dfs = sym.diff(fs, s, 1)\n",
    "print(\"Derivata di f: \", format(dfs))\n",
    "\n",
    "f_num = lambdify(s, fs, np)\n",
    "df_num = lambdify(s, dfs, np)\n",
    "\n",
    "k = np.abs((df_num(x) * x) / f_num(x))\n",
    "print(\"Indice di condizionamento K = \\n\", k)\n",
    "spacing = np.spacing(x)\n",
    "print(\"Spacing = \\n\", spacing)\n",
    "#In x = 10**15 si vede che lo spacing è uguale a 0.125 quindi più grande di 0.04, per questo quando lo sommo a\n",
    "#x non modifico il valore di quest'ultimo, quindi il valore di f è nullo."
   ]
  },
  {
   "cell_type": "code",
   "execution_count": 32,
   "id": "467a6c22-8374-4397-bab4-569422a27919",
   "metadata": {},
   "outputs": [
    {
     "name": "stdout",
     "output_type": "stream",
     "text": [
      "Errore sui dati =  0.1\n",
      "Errore sui risultati =  0.3333333333333333\n"
     ]
    }
   ],
   "source": [
    "xx = 1e14\n",
    "fxx = f(xx)\n",
    "xxp = xx + (0.1*xx)\n",
    "err_d = abs(xx - xxp) / abs(xx)\n",
    "fxxp = f(xxp)\n",
    "err_f = abs(fxx - fxxp) / abs(fxx)\n",
    "print(\"Errore sui dati = \", err_d)\n",
    "print(\"Errore sui risultati = \", err_f)"
   ]
  },
  {
   "cell_type": "markdown",
   "id": "49874e9a-a207-434c-a883-d899cadc3c20",
   "metadata": {},
   "source": [
    "## Esercizo 2\n",
    "Si consideri il sistema lineare Ax=b, con A matrice e b termine noto memorizzati nel file ``testC.mat.mat``.  Risolvere il sistema utilizzando il metodo più adatto al problema proposto. Argomentare dal punto di vista teorico la scelta fatta e commentare i risultati ottenuti  giustificandoli alla luce della teoria. \n",
    "\n",
    "\n",
    "La soluzione esatta del sistema lineare è il vettore x=[1,1,1,1...1 1].\n",
    "\n",
    "Per la lettura dei dati procedere nel seguente modo:\n",
    "\n",
    "``from scipy.io import loadmat``\n",
    "\n",
    "``import numpy as np``\n",
    "\n",
    "``dati = loadmat('testC.mat')``\n",
    "\n",
    "``A=dati[\"A\"] ``\n",
    "\n",
    "`` b=dati[\"b\"] ``\n",
    "\n",
    "\n",
    "                                                    [13 punti]"
   ]
  },
  {
   "cell_type": "code",
   "execution_count": 44,
   "id": "e629e4be-4813-477f-8d89-cc2eb4a41a05",
   "metadata": {},
   "outputs": [],
   "source": [
    "import RisolviSis as rs\n",
    "from scipy.io import loadmat\n",
    "dati = loadmat('testC.mat')\n",
    "A = dati[\"A\"]\n",
    "b = dati[\"b\"]"
   ]
  },
  {
   "cell_type": "code",
   "execution_count": 45,
   "id": "a4038f68-829a-492b-a6fa-68e8f5f48314",
   "metadata": {},
   "outputs": [
    {
     "name": "stdout",
     "output_type": "stream",
     "text": [
      "(34, 34)\n",
      "Matrice di piccole dimensioni\n",
      "Density =  100.0\n",
      "Matrice densa\n",
      "Matrice simmetrica\n",
      "240857724114.8698\n"
     ]
    }
   ],
   "source": [
    "m, n = A. shape\n",
    "print(A.shape)\n",
    "if m != n:\n",
    "    print(\"Matrice non quadrata\")\n",
    "else:\n",
    "    if m >= 100 or n >= 100:\n",
    "        print(\"Matrice di grandi dimensioni\")\n",
    "    else:\n",
    "        print(\"Matrice di piccole dimensioni\")\n",
    "        density = (np.count_nonzero(A) / (m*n)) * 100\n",
    "        print(\"Density = \", density)\n",
    "        if density > 33:\n",
    "            print(\"Matrice densa\")\n",
    "        else:\n",
    "            print(\"Matrice sparsa\")\n",
    "if np.all(A.T == A):\n",
    "    print(\"Matrice simmetrica\")\n",
    "    eig = np.linalg.eigvals(A)\n",
    "    if np.all(eig > 0):\n",
    "        print(\"Matrice definita positiva\")\n",
    "condA = np.linalg.cond(A)\n",
    "print(condA)"
   ]
  },
  {
   "cell_type": "raw",
   "id": "f97d3d96-2b9d-47c8-9d95-e3bfc73b616d",
   "metadata": {},
   "source": [
    "Dopo aver analizzato la matrice dei coefficienti A posso affermare che si tratta di una matrice quadrata di piccole dimensioni e densa. Quindi utilizzerò un metodo diretto. La matrice è simmetrica, ma non definita positiva quindi non posso usare il metodo di Cholesky. Controllo l'indice di condizionamento e scopro che è molto mal condizionata la matrice A, per questo motivo opto per la fattorizzazione QR."
   ]
  },
  {
   "cell_type": "code",
   "execution_count": 50,
   "id": "02d13a25-e609-415d-ad05-ae84e5681d83",
   "metadata": {},
   "outputs": [
    {
     "name": "stdout",
     "output_type": "stream",
     "text": [
      "Errore percentuale della soluzione QR =  0.0004889684641108205\n"
     ]
    }
   ],
   "source": [
    "Q, R = spLin.qr(A)\n",
    "\n",
    "y = Q.T @ b\n",
    "x, flag = rs.Usolve(R, y)\n",
    "\n",
    "xesatta = np.ones_like(b)\n",
    "err = np.linalg.norm(x - xesatta) / np.linalg.norm(xesatta)\n",
    "print(\"Errore percentuale della soluzione QR = \", err*100)"
   ]
  }
 ],
 "metadata": {
  "kernelspec": {
   "display_name": "Python 3 (ipykernel)",
   "language": "python",
   "name": "python3"
  },
  "language_info": {
   "codemirror_mode": {
    "name": "ipython",
    "version": 3
   },
   "file_extension": ".py",
   "mimetype": "text/x-python",
   "name": "python",
   "nbconvert_exporter": "python",
   "pygments_lexer": "ipython3",
   "version": "3.9.13"
  }
 },
 "nbformat": 4,
 "nbformat_minor": 5
}
