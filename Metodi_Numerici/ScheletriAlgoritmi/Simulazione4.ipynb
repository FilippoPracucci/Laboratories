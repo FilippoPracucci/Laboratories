{
 "cells": [
  {
   "cell_type": "markdown",
   "id": "0c1e35e7-d15d-4337-9f04-1f45d0cff71b",
   "metadata": {
    "tags": []
   },
   "source": [
    "## Esercizio 1\n",
    "Si consideri il sistema lineare Ax=b, con A matrice e b termine noto memorizzati nel file ``testE.mat``.  La soluzione esatta del problema è il vettore x=[1,1,1,...1].Risolvere il sistema utilizzando i diversi metodi adatti visti a lezione adatti per risolverlo ed individuare il metodo più efficiente. Commentare i risultati ottenuti  giustificandoli alla luce della teoria. \n",
    "\n",
    "Per la lettura dei dati procedere nel seguente modo:\n",
    "\n",
    "``from scipy.io import loadmat``\n",
    "\n",
    "``import numpy as np``\n",
    "\n",
    "``dati = loadmat('testE.mat')``\n",
    "\n",
    "``A=dati[\"A\"] ``\n",
    "\n",
    "`` b=dati[\"b\"] ``"
   ]
  },
  {
   "cell_type": "code",
   "execution_count": 21,
   "id": "940c989e-92f8-4699-a77c-1bc332cab2d1",
   "metadata": {},
   "outputs": [],
   "source": [
    "import numpy as np\n",
    "import RisolviSis as rs\n",
    "import matplotlib.pyplot as plt\n",
    "import scipy.linalg as spl\n",
    "from scipy.io import loadmat\n",
    "dati = loadmat('testE.mat')\n",
    "A = dati[\"A\"]\n",
    "b = dati[\"b\"]"
   ]
  },
  {
   "cell_type": "code",
   "execution_count": 6,
   "id": "d84c91b4-f463-4ed4-965e-c19feeb575b5",
   "metadata": {},
   "outputs": [
    {
     "name": "stdout",
     "output_type": "stream",
     "text": [
      "(100, 100)\n"
     ]
    }
   ],
   "source": [
    "m, n = A.shape\n",
    "print(A.shape)"
   ]
  },
  {
   "cell_type": "raw",
   "id": "77e6828e-8282-4178-b8d7-a6eaa38dfc8c",
   "metadata": {},
   "source": [
    "Si tratta di una matrice quadrata di grandi dimensioni."
   ]
  },
  {
   "cell_type": "code",
   "execution_count": 7,
   "id": "3c52b9d7-b54b-48bd-b6de-8e846363603f",
   "metadata": {},
   "outputs": [
    {
     "name": "stdout",
     "output_type": "stream",
     "text": [
      "Matrice non simmetrica\n"
     ]
    }
   ],
   "source": [
    "if (np.all(A.T == A) == True):\n",
    "    print(\"Matrice simmetrica\")\n",
    "else:\n",
    "    print(\"Matrice non simmetrica\")"
   ]
  },
  {
   "cell_type": "code",
   "execution_count": 8,
   "id": "68ef5c0e-bf12-491e-8121-e2dd371dbccd",
   "metadata": {},
   "outputs": [],
   "source": [
    "def verifica_diag(A):\n",
    "    n = A.shape[0]\n",
    "    flag = True\n",
    "    for i in range (n):\n",
    "        el_diag = np.abs(A[i, i])\n",
    "        sum_extradiag = np.sum(np.abs(A[i, :]) - np.abs(A[i, i]))\n",
    "        if el_diag < sum_extradiag:\n",
    "            print(\"Matrice non a diagonale dominante\")\n",
    "            flag = False\n",
    "            return flag\n",
    "        \n",
    "    return flag"
   ]
  },
  {
   "cell_type": "code",
   "execution_count": 9,
   "id": "829500b3-617d-4ed3-bbc1-e6ff10178bff",
   "metadata": {},
   "outputs": [
    {
     "name": "stdout",
     "output_type": "stream",
     "text": [
      "Matrice a diagonale dominante?  True\n"
     ]
    }
   ],
   "source": [
    "diag = verifica_diag(A)\n",
    "print(\"Matrice a diagonale dominante? \", diag)"
   ]
  },
  {
   "cell_type": "raw",
   "id": "211eeea7-2b19-4bf6-ba86-3289a60a683b",
   "metadata": {},
   "source": [
    "Si tratta di una matrice simmetrica a diagonale dominante quindi posso usare tutti i metodi iterativi: Jacobi, Gauss-Seidel e Gauss-Seidel SOR."
   ]
  },
  {
   "cell_type": "code",
   "execution_count": 19,
   "id": "003f0f25-97fd-4a84-bf79-2d9d9025e241",
   "metadata": {},
   "outputs": [],
   "source": [
    "def jacobi(A,b,x0,toll,it_max):\n",
    "    d = np.diag(A)\n",
    "    errore=1000\n",
    "    M = np.diag(d)\n",
    "    E = np.tril(A, -1)\n",
    "    F = np.triu(A, 1)\n",
    "    N = - (E + F)\n",
    "    invM = np.diag(1/d)\n",
    "    T=np.dot(np.linalg.inv(M), N)\n",
    "    eig = np.linalg.eigvals(T)\n",
    "    raggiospettrale = np.max(np.abs(eig)) \n",
    "    print(\"raggio spettrale jacobi\", raggiospettrale)\n",
    "    it=0\n",
    "             \n",
    "    er_vet=[]\n",
    "    while it <= it_max and errore >= toll:\n",
    "        x = (b + np.dot(N, x0)) / d.reshape((n, 1))\n",
    "        errore = np.linalg.norm(x - x0) / np.linalg.norm(x)\n",
    "        er_vet.append(errore)\n",
    "        x0=x.copy()\n",
    "        it=it+1\n",
    "    return x,it,er_vet"
   ]
  },
  {
   "cell_type": "code",
   "execution_count": 25,
   "id": "a3471e46-2c75-4ce3-a5e9-8362f917dc2d",
   "metadata": {},
   "outputs": [],
   "source": [
    "def gauss_seidel(A,b,x0,toll,it_max):\n",
    "    errore=1000\n",
    "    d = np.diag(A)\n",
    "    D = np.diag(d)\n",
    "    E = np.tril(A, -1)\n",
    "    F = np.triu(A, 1) \n",
    "    M = D + E\n",
    "    N = -F\n",
    "    T=np.dot(np.linalg.inv(M), N)\n",
    "    eig = np.linalg.eigvals(T)\n",
    "    raggiospettrale = np.max(np.abs(eig))\n",
    "    print(\"raggio spettrale Gauss-Seidel \",raggiospettrale)\n",
    "    it=0\n",
    "    er_vet=[]\n",
    "    while it <= it_max and errore >= toll: \n",
    "        temp = b + np.dot(N, x0)\n",
    "        x, flag = rs.Lsolve(M, temp)\n",
    "        errore = np.linalg.norm(x - x0) / np.linalg.norm(x) \n",
    "        er_vet.append(errore)\n",
    "        x0=x.copy()\n",
    "        it=it+1\n",
    "    return x,it,er_vet"
   ]
  },
  {
   "cell_type": "code",
   "execution_count": 31,
   "id": "a6252bc1-ad30-420c-8266-13d283c6b157",
   "metadata": {},
   "outputs": [],
   "source": [
    "def gauss_seidel_sor(A,b,x0,toll,it_max,omega):\n",
    "    errore=1000\n",
    "    d = np.diag(A) \n",
    "    D=np.diag(d)\n",
    "    E = np.tril(A, -1) \n",
    "    F = np.triu(A, 1) \n",
    "    #Calcolo della matrice di iterazione di Gassu_Seidel SOR\n",
    "    Momega=D+omega*E\n",
    "    Nomega=(1-omega)*D-omega*F\n",
    "    T=np.dot(np.linalg.inv(Momega), Nomega)\n",
    "    eig = np.linalg.eigvals(T) \n",
    "    raggiospettrale = np.max(np.abs(eig)) \n",
    "    print(\"raggio spettrale Gauss-Seidel SOR \", raggiospettrale)\n",
    "    \n",
    "    M = D + E\n",
    "    N = -F\n",
    "    it=0\n",
    "    xold=x0.copy()\n",
    "    xnew=x0.copy()\n",
    "    er_vet=[]\n",
    "    while it<=it_max and errore>=toll:\n",
    "        temp = b + np.dot(N, xold) \n",
    "        xtilde, flag = rs.Lsolve(M, temp) \n",
    "        xnew = (1-omega)*xold + omega*xtilde\n",
    "        errore = np.linalg.norm(xnew - xold) / np.linalg.norm(xnew) \n",
    "        er_vet.append(errore)\n",
    "        xold=xnew.copy()\n",
    "        it=it+1\n",
    "    return xnew,it,er_vet"
   ]
  },
  {
   "cell_type": "code",
   "execution_count": 32,
   "id": "efb9a20e-59cc-4303-8692-d6a0ac7556b8",
   "metadata": {},
   "outputs": [
    {
     "name": "stdout",
     "output_type": "stream",
     "text": [
      "raggio spettrale jacobi 0.9997193113493894\n",
      "raggio spettrale Gauss-Seidel  0.9994387014848923\n",
      "raggio spettrale Gauss-Seidel SOR  0.9986899761478689\n",
      "Iterazioni Jacobi =  36047\n",
      "Iterazioni Gauss-Seidel =  19259\n",
      "Iterazioni Gauss-Seidel-SOR =  14183\n"
     ]
    },
    {
     "data": {
      "text/plain": [
       "[<matplotlib.lines.Line2D at 0x1464b8ad160>,\n",
       " <matplotlib.lines.Line2D at 0x1464b8ad130>,\n",
       " <matplotlib.lines.Line2D at 0x1464b8ad370>]"
      ]
     },
     "execution_count": 32,
     "metadata": {},
     "output_type": "execute_result"
    },
    {
     "data": {
      "image/png": "[encoded data removed]",
      "text/plain": [
       "<Figure size 640x480 with 1 Axes>"
      ]
     },
     "metadata": {},
     "output_type": "display_data"
    }
   ],
   "source": [
    "x0 = np.zeros(A.shape[0]).reshape(n, 1)\n",
    "tol = 1e-8\n",
    "it_max = 100000\n",
    "omega = 1.4\n",
    "solJ, itJ, erJ = jacobi(A, b, x0, tol, it_max)\n",
    "solGS, itGS, erGS = gauss_seidel(A, b, x0, tol, it_max)\n",
    "solGSor, itGSor, erGSor = gauss_seidel_sor(A, b, x0, tol, it_max, omega)\n",
    "print(\"Iterazioni Jacobi = \", itJ)\n",
    "print(\"Iterazioni Gauss-Seidel = \", itGS)\n",
    "print(\"Iterazioni Gauss-Seidel-SOR = \", itGSor)\n",
    "plt.semilogy(np.arange(itJ), erJ, \"r-\", np.arange(itGS), erGS, \"g-\", np.arange(itGSor), erGSor, \"c-\")"
   ]
  },
  {
   "cell_type": "markdown",
   "id": "b0bb83d1-ae1e-432a-9aa5-c7d946568464",
   "metadata": {},
   "source": [
    "## Esercizio 2 \n",
    "Si consideri il sistema lineare Ax=b, con A matrice e b termine noto memorizzati nel file ``testF.mat``.Risolvere il sistema utilizzando il metodo più adatto. Commentare i risultati ottenuti  giustificandoli alla luce della teoria. \n",
    "\n",
    "Per la lettura dei dati procedere nel seguente modo:\n",
    "\n",
    "``from scipy.io import loadmat``\n",
    "\n",
    "``import numpy as np``\n",
    "\n",
    "``dati = loadmat('testF.mat')``\n",
    "\n",
    "``A=dati[\"A\"] ``\n",
    "\n",
    "`` b=dati[\"b\"] ``"
   ]
  },
  {
   "cell_type": "code",
   "execution_count": 33,
   "id": "9911aae0-c726-48e5-bcb5-f7b87289e124",
   "metadata": {},
   "outputs": [],
   "source": [
    "dati = loadmat('testF.mat')\n",
    "A = dati[\"A\"]\n",
    "b = dati [\"b\"]"
   ]
  },
  {
   "cell_type": "code",
   "execution_count": 34,
   "id": "4e40a0a6-4308-4e08-b8e0-ef52c06dd4ce",
   "metadata": {},
   "outputs": [
    {
     "name": "stdout",
     "output_type": "stream",
     "text": [
      "(50, 19)\n"
     ]
    }
   ],
   "source": [
    "m, n = A.shape\n",
    "print(A.shape)"
   ]
  },
  {
   "cell_type": "raw",
   "id": "3cb297a6-977b-4e76-b67f-a2b6e1ab89d2",
   "metadata": {},
   "source": [
    "La matrice non e' quadrata. Si tratta di un sistema sovradimensionato."
   ]
  },
  {
   "cell_type": "code",
   "execution_count": 38,
   "id": "5e3fc00b-23be-4a65-ae1f-52c44d8ae79d",
   "metadata": {},
   "outputs": [
    {
     "name": "stdout",
     "output_type": "stream",
     "text": [
      "Rango =  15\n",
      "La matrice non ha rango massimo\n"
     ]
    }
   ],
   "source": [
    "U, s, VT = spl.svd(A)\n",
    "rank = np.linalg.matrix_rank(A)\n",
    "print(\"Rango = \", rank)\n",
    "if rank < n:\n",
    "    print(\"La matrice non ha rango massimo\")\n",
    "else:\n",
    "    print(\"La matrice ha rango massimo\")"
   ]
  },
  {
   "cell_type": "raw",
   "id": "ed0f7abc-fed6-46aa-87d6-d322828f4cda",
   "metadata": {},
   "source": [
    "La matrice non ha rango massimo, quindi posso utilizzare solo il metodo SVDLS per risolvere questo sistema sovradeterminato."
   ]
  },
  {
   "cell_type": "code",
   "execution_count": 41,
   "id": "c28fc6e1-fefe-46c9-afad-8cbe0f6dcb28",
   "metadata": {},
   "outputs": [],
   "source": [
    "def SVDLS(A,b):\n",
    "     #Calcola la fattorizzazione SVD di A e utilizzala per calcolare\n",
    "    #la soluzione nel senso dei minimi quadrati di Ax=b\n",
    "    n = A.shape[0]\n",
    "    U, s, VT = spl.svd(A)\n",
    "    V = VT.T\n",
    "        \n",
    "        \n",
    "    thresh=np.spacing(1)*m*s[0] ##Calcolo del rango della matrice, numero dei valori singolari maggiori di una soglia\n",
    "    k=np.count_nonzero(s>thresh)\n",
    "     \n",
    "    d = U.T @ b\n",
    "    d1 = d[:k].reshape(k, 1) \n",
    "    s1 = s[:k].reshape(k, 1) \n",
    "    #Risolve il sistema diagonale di dimensione kxk avene come matrice dei coefficienti la matrice Sigma\n",
    "    c = d1 / s1  \n",
    "    x=V[:,:k]@c \n",
    "    residuo = np.linalg.norm(d[k:])**2 \n",
    "    return x,residuo"
   ]
  },
  {
   "cell_type": "code",
   "execution_count": 43,
   "id": "97b3fc11-b72e-42be-980b-a145cdaf9afc",
   "metadata": {},
   "outputs": [
    {
     "name": "stdout",
     "output_type": "stream",
     "text": [
      "Soluzione nel senso dei minimi quadrati\n",
      " [[ 8.93308674e-01]\n",
      " [ 5.99593662e-02]\n",
      " [-1.00818890e-04]\n",
      " [ 1.00000000e+00]\n",
      " [ 1.00000000e+00]\n",
      " [ 1.00000000e+00]\n",
      " [ 1.00000000e+00]\n",
      " [ 1.00000000e+00]\n",
      " [ 1.00000000e+00]\n",
      " [ 1.00000000e+00]\n",
      " [ 1.00000000e+00]\n",
      " [ 1.00000000e+00]\n",
      " [ 1.00000000e+00]\n",
      " [ 1.00000000e+00]\n",
      " [ 1.00000000e+00]\n",
      " [ 1.08594726e+00]\n",
      " [ 1.16319260e+00]\n",
      " [ 9.47694272e-01]\n",
      " [ 9.09857191e-01]]\n",
      "Residuo =  4.3087582643171665e-27\n",
      "Norma della soluzione  4.130358162106168\n"
     ]
    }
   ],
   "source": [
    "x, residuo = SVDLS(A, b)\n",
    "print(\"Soluzione nel senso dei minimi quadrati\\n\", x)\n",
    "print(\"Residuo = \", residuo)\n",
    "print(\"Norma della soluzione \", np.linalg.norm(x))"
   ]
  }
 ],
 "metadata": {
  "kernelspec": {
   "display_name": "Python 3 (ipykernel)",
   "language": "python",
   "name": "python3"
  },
  "language_info": {
   "codemirror_mode": {
    "name": "ipython",
    "version": 3
   },
   "file_extension": ".py",
   "mimetype": "text/x-python",
   "name": "python",
   "nbconvert_exporter": "python",
   "pygments_lexer": "ipython3",
   "version": "3.9.13"
  }
 },
 "nbformat": 4,
 "nbformat_minor": 5
}
