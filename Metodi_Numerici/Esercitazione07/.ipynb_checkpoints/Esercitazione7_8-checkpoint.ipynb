{
 "cells": [
  {
   "cell_type": "markdown",
   "id": "e90ec8ce-90d7-46dd-902e-4dfc77ed67cc",
   "metadata": {},
   "source": [
    "#                                                               Esercitazione 7-8\n",
    "## 4 e 18 Aprile 2023"
   ]
  },
  {
   "cell_type": "markdown",
   "id": "d54ac306-b55c-4349-9388-ef917d661f36",
   "metadata": {},
   "source": [
    "## Nota 1.\n",
    "La funzione *scipy.linalg.lu(A)*  , presa in input una matrice A a rango massimo, restituisce in output le matrici $P^T$,L,U,  della fattorizzazione di LU della matrice A in maniera tale che PA=LU (restituisce la matrice di permutazione trasposta)"
   ]
  },
  {
   "cell_type": "code",
   "execution_count": 1,
   "id": "771fdc8c-684c-454d-a034-d26b3c3d8fcd",
   "metadata": {
    "tags": []
   },
   "outputs": [
    {
     "name": "stdout",
     "output_type": "stream",
     "text": [
      "A= [[2 1]\n",
      " [3 4]]\n",
      "L= [[1.         0.        ]\n",
      " [0.66666667 1.        ]]\n",
      "U= [[ 3.          4.        ]\n",
      " [ 0.         -1.66666667]]\n",
      "P= [[0. 1.]\n",
      " [1. 0.]]\n",
      "Matrice P*A \n",
      " [[3. 4.]\n",
      " [2. 1.]]\n",
      "Matrice ottenuta moltipicando Le ed U \n",
      " [[3. 4.]\n",
      " [2. 1.]]\n"
     ]
    }
   ],
   "source": [
    "import numpy as np\n",
    "import scipy as sp\n",
    "from scipy.linalg import lu\n",
    "A=np.array([[2,1],[3,4]])\n",
    "PT,L,U=lu(A)  #Restituisce in output la trasposta della matrice di Permutazione\n",
    "P=PT.T.copy()   #P è la matrice di permutazione\n",
    "print(\"A=\",A)\n",
    "print(\"L=\",L)\n",
    "print(\"U=\",U)\n",
    "print(\"P=\",P)\n",
    "#LU è la fattorizzazione di P*A (terorema 2)\n",
    "A1=P@A # equivale al prodotto matrice x matrice np.dot(P,A)\n",
    "A1Fatt=L@U # equivale a np.dot(L,U)\n",
    "print(\"Matrice P*A \\n\", A1)\n",
    "print(\"Matrice ottenuta moltipicando Le ed U \\n\",A1Fatt)\n"
   ]
  },
  {
   "cell_type": "markdown",
   "id": "c8f02e37-3f92-40bd-ad19-2e1820bef98a",
   "metadata": {},
   "source": [
    "## Nota 2\n",
    "La funzione *scipy.linalg.cholesky(a, lower=True)*, presa in input una matrice simmetrica e definta positiva restituisce in output la matrice L triangolare inferiore tale che $A=L \\cdot L^T$. Se la matrice simmetrica in input non è  definita positiva, restituisce un errore."
   ]
  },
  {
   "cell_type": "code",
   "execution_count": 2,
   "id": "b5c2c35c-a5bf-46bb-a074-b1223eb4228d",
   "metadata": {
    "tags": []
   },
   "outputs": [
    {
     "name": "stdout",
     "output_type": "stream",
     "text": [
      "[[ 2  1  3]\n",
      " [ 1  5  7]\n",
      " [ 3  7 12]]\n"
     ]
    }
   ],
   "source": [
    "from scipy.linalg import cholesky\n",
    "A=np.array([[2,1,3],[1,5,7],[3,7,12]])\n",
    "print(A)"
   ]
  },
  {
   "cell_type": "code",
   "execution_count": 3,
   "id": "573c6451-6704-4ec7-882a-5c92b9228728",
   "metadata": {
    "tags": []
   },
   "outputs": [
    {
     "name": "stdout",
     "output_type": "stream",
     "text": [
      "[[1.41421356 0.         0.        ]\n",
      " [0.70710678 2.12132034 0.        ]\n",
      " [2.12132034 2.59272486 0.8819171 ]]\n",
      "A1=\n",
      " [[ 2.  1.  3.]\n",
      " [ 1.  5.  7.]\n",
      " [ 3.  7. 12.]]\n"
     ]
    }
   ],
   "source": [
    "L=cholesky(A,lower=True)\n",
    "print(L)\n",
    "A1=L@L.T\n",
    "print(\"A1=\\n\",A1)"
   ]
  },
  {
   "cell_type": "markdown",
   "id": "61a0ba64-b364-4a43-a1b7-a57ee779ef31",
   "metadata": {},
   "source": [
    "## Nota 3\n",
    "La funzione *scipy.linalg.qr(a)*, presa in input una matrice A (nxn)  a rango massimo, restituisce in output le matrici Q (ortogonale di dimensione nxn) ed una matrice R (nxn) triangolare superiore tale che $A=Q \\cdot R$"
   ]
  },
  {
   "cell_type": "code",
   "execution_count": 4,
   "id": "8d9f5290-f22c-4e10-8694-4e940a751d23",
   "metadata": {
    "tags": []
   },
   "outputs": [
    {
     "name": "stdout",
     "output_type": "stream",
     "text": [
      "Q= \n",
      " [[-0.53452248  0.6882472  -0.49051147]\n",
      " [-0.26726124 -0.6882472  -0.67445327]\n",
      " [-0.80178373 -0.22941573  0.55182541]]\n",
      "R= \n",
      " [[ -3.74165739  -7.48331477 -13.09580085]\n",
      " [  0.          -4.35889894  -5.50597761]\n",
      " [  0.           0.           0.42919754]]\n",
      "[[ 2.  1.  3.]\n",
      " [ 1.  5.  7.]\n",
      " [ 3.  7. 12.]]\n"
     ]
    }
   ],
   "source": [
    "from scipy.linalg import qr\n",
    "A=np.array([[2,1,3],[1,5,7],[3,7,12]])\n",
    "Q,R=qr(A)\n",
    "print(\"Q= \\n\",Q)\n",
    "print(\"R= \\n\",R)\n",
    "A1=Q@R\n",
    "print(A1)"
   ]
  },
  {
   "cell_type": "markdown",
   "id": "44a1e060-18d2-48d8-b968-e73a58e56fcd",
   "metadata": {},
   "source": [
    "## Esercizio 1. \n",
    "Facendo uso dei numpy array, implementare una funzione Lsolve(L,b), che, presa  in input una matrice L, triangolare inferiore,  e il vettore termine noto b, risolva il sistema lineare Lx=b, con il metodo della sostituzione in avanti e restituisca in output: la soluzione del sistema lineare ed un flag: flag=  0, se sono soddisfatti i criteri di applicabilità flag= 1, se non sono soddisfatti. (NB. Come test di applicabilità controllare che la matrice L sia quadrata e che non si annulli nessun elemento della diagonale)."
   ]
  },
  {
   "cell_type": "code",
   "execution_count": 35,
   "id": "1b3e67d9-0a1c-4669-ae52-1b434ab90732",
   "metadata": {},
   "outputs": [],
   "source": [
    "def Lsolve(L, b):\n",
    "    flag = 0\n",
    "    #test sulla dimensione\n",
    "    m,n = L.shape\n",
    "    if n != m:\n",
    "        print(\"Matrice non quadrata\")\n",
    "        flag = 1\n",
    "        x = []\n",
    "        return x, flag\n",
    "\n",
    "    #Test singolarità\n",
    "    if np.all(np.diag(L)) != True:\n",
    "        print(\"Elemento diagonale nullo\")\n",
    "        x = []\n",
    "        flag = 1\n",
    "        return x, flag\n",
    "    \n",
    "    x = np.zeros((n, 1))\n",
    "    \n",
    "    for i in range(n):\n",
    "        s = np.dot(L[i,0:i], x[0:i]) #prodotto scalare tra riga i-esima di L e le i-1 componenti della soluzione al momento calcolate\n",
    "        x[i] = (b[i] - s)/L[i,i]\n",
    "        \n",
    "    return x,flag"
   ]
  },
  {
   "cell_type": "code",
   "execution_count": 36,
   "id": "495edb21-6d39-45c7-91c7-7f1bfe4ac100",
   "metadata": {},
   "outputs": [
    {
     "name": "stdout",
     "output_type": "stream",
     "text": [
      "Soluzione \n",
      " [[1.]\n",
      " [1.]\n",
      " [1.]]\n"
     ]
    }
   ],
   "source": [
    "L = np.array([[2,0,0], [3,2,0], [4,3,1]])\n",
    "b = np.sum(L, axis=1).reshape(3,1)\n",
    "x,flag = Lsolve(L, b) \n",
    "print(\"Soluzione \\n\", x)"
   ]
  },
  {
   "cell_type": "markdown",
   "id": "c56febff-750a-49bc-9d68-13b0aee0a9fd",
   "metadata": {},
   "source": [
    "## Esercizio 2. \n",
    "Facendo uso dei numpy array, implementare una funzione Usolve(L,b), che, presa  in input una matrice U, triangolare superiore,  e il vettore termine noto b, risolva il sistema lineare Ux=b, con il metodo della sostituzione all'indietro e restituisca in output: la soluzione del sistema lineare ed un flag: flag=  0, se sono soddisfatti i criteri di applicabilità flag= 1, se non sono soddisfatti. (NB. Come criteri di applicabilità controllare che la matrice L sia quadrata e che non si annulli nessun elemento della diagonale)."
   ]
  },
  {
   "cell_type": "code",
   "execution_count": 39,
   "id": "a36169e7-d811-48df-aa32-0b0d45f6cc82",
   "metadata": {},
   "outputs": [],
   "source": [
    "def Usolve(U, b):\n",
    "    flag = 0\n",
    "    #Test sulla dimensione\n",
    "    m, n = L.shape\n",
    "    if n != m:\n",
    "        print(\"Matrice non quadrata\")\n",
    "        flag = 1\n",
    "        x = []\n",
    "        return x, flag\n",
    "    \n",
    "    #Test singolarità\n",
    "    if np.all(np.diag(U)) != True:\n",
    "        print(\"Elemento diagonale nullo\")\n",
    "        x = []\n",
    "        flag = 1\n",
    "        return x, flag\n",
    "    \n",
    "    x = np.zeros((n, 1))\n",
    "    #Ciclo da n-1 a 0, quindi con passo -1\n",
    "    for i in range(n-1, -1, -1):\n",
    "        s = np.dot(U[i, i+1:n], x[i+1:n]) #prodotto scalare tra riga i-esima di U e le componenti della soluzione al momento calcolate (da i+1 a n)\n",
    "        x[i] = (b[i] - s)/U[i, i]\n",
    "        \n",
    "    return x, flag"
   ]
  },
  {
   "cell_type": "code",
   "execution_count": 40,
   "id": "bd38a628-0ce4-41d9-8d34-8f59193e275d",
   "metadata": {},
   "outputs": [
    {
     "name": "stdout",
     "output_type": "stream",
     "text": [
      "Soluzione \n",
      " [[1.]\n",
      " [1.]\n",
      " [1.]]\n"
     ]
    }
   ],
   "source": [
    "U = L.copy().T\n",
    "b = np.sum(U, axis=1).reshape(3,1)\n",
    "x, flag = Usolve(U, b)\n",
    "print(\"Soluzione \\n\", x)"
   ]
  },
  {
   "cell_type": "markdown",
   "id": "f5f10793-9998-4cd8-bce4-4251de1b55d6",
   "metadata": {},
   "source": [
    "## Esercizio 3\n",
    "- si implementi una function LUsolve(P,A,L,U,b) che risolve il sistema lineare Ax=b nel caso di fattorizzazione $PA = LU$ assegnata,\n",
    "combinando i metodi di risoluzione in avanti ed all'indietro  precedentemente implementati.\n",
    "- si testi sulla matrice A = np.array([[2, 5, 8, 7], [5, 2, 2, 8], [7, 5, 6, 6], [5, 4, 4, 8]]) con termine noto b scelto in maniera tale che la soluzione esatta del sistema lineare sia il vettore formato da tutti 1."
   ]
  },
  {
   "cell_type": "code",
   "execution_count": 43,
   "id": "1998d710-9bcd-4de8-866b-4b6b0cd71fa7",
   "metadata": {},
   "outputs": [],
   "source": [
    "def LUsolve(P,L,U,b):\n",
    "    Pb = np.dot(P, b)\n",
    "    y, flag = Lsolve(L, Pb)\n",
    "    if flag==0:\n",
    "        x, flag = Usolve(U, y)\n",
    "    else:\n",
    "        return [], flag\n",
    "    \n",
    "    return x, flag"
   ]
  },
  {
   "cell_type": "code",
   "execution_count": 44,
   "id": "e21e8ddb-50f6-43ae-b94a-22d738d4db35",
   "metadata": {},
   "outputs": [
    {
     "ename": "NameError",
     "evalue": "name 'lu' is not defined",
     "output_type": "error",
     "traceback": [
      "\u001b[1;31m---------------------------------------------------------------------------\u001b[0m",
      "\u001b[1;31mNameError\u001b[0m                                 Traceback (most recent call last)",
      "Cell \u001b[1;32mIn[44], line 3\u001b[0m\n\u001b[0;32m      1\u001b[0m A \u001b[38;5;241m=\u001b[39m np\u001b[38;5;241m.\u001b[39marray([[\u001b[38;5;241m2\u001b[39m,\u001b[38;5;241m5\u001b[39m,\u001b[38;5;241m8\u001b[39m,\u001b[38;5;241m7\u001b[39m], [\u001b[38;5;241m5\u001b[39m,\u001b[38;5;241m2\u001b[39m,\u001b[38;5;241m2\u001b[39m,\u001b[38;5;241m8\u001b[39m], [\u001b[38;5;241m7\u001b[39m,\u001b[38;5;241m5\u001b[39m,\u001b[38;5;241m6\u001b[39m,\u001b[38;5;241m6\u001b[39m], [\u001b[38;5;241m5\u001b[39m,\u001b[38;5;241m4\u001b[39m,\u001b[38;5;241m4\u001b[39m,\u001b[38;5;241m8\u001b[39m]])\n\u001b[0;32m      2\u001b[0m b \u001b[38;5;241m=\u001b[39m np\u001b[38;5;241m.\u001b[39msum(A, axis\u001b[38;5;241m=\u001b[39m\u001b[38;5;241m1\u001b[39m)\u001b[38;5;241m.\u001b[39mreshape(\u001b[38;5;241m4\u001b[39m,\u001b[38;5;241m1\u001b[39m)\n\u001b[1;32m----> 3\u001b[0m PT, L, U \u001b[38;5;241m=\u001b[39m \u001b[43mlu\u001b[49m(A)\n\u001b[0;32m      4\u001b[0m P \u001b[38;5;241m=\u001b[39m PT\u001b[38;5;241m.\u001b[39mT\u001b[38;5;241m.\u001b[39mcopy()\n\u001b[0;32m      5\u001b[0m x, flag \u001b[38;5;241m=\u001b[39m LUsolve(P,L,U,b)\n",
      "\u001b[1;31mNameError\u001b[0m: name 'lu' is not defined"
     ]
    }
   ],
   "source": [
    "A = np.array([[2,5,8,7], [5,2,2,8], [7,5,6,6], [5,4,4,8]])\n",
    "b = np.sum(A, axis=1).reshape(4,1)\n",
    "PT, L, U = lu(A)\n",
    "P = PT.T.copy()\n",
    "x, flag = LUsolve(P,L,U,b)\n",
    "print(\"Soluzione \\n\", x)"
   ]
  },
  {
   "cell_type": "markdown",
   "id": "cd4ed451-8ec8-49df-8558-9811d2a154f2",
   "metadata": {},
   "source": [
    "## Esercizio 4\n",
    "Si implementi una function *solve_nsis(A,B)* per il calcolo della soluzione di un generale sistema lineare $AX = B$, con $X, B$ matrici, che usi la fattorizzazione LU della matrice PA, per risolvere n sistemi lineari: aventi la stessa matrice dei coefficienti A e termine noto l'i-esima colonna della matrice B. \n",
    "Utilizzarla poi per il calcolo dell'inversa delle\n",
    "matrici non singolari\n",
    "$$\n",
    "A=\\left[\n",
    "\\begin{array}{ccc}\n",
    "3 & 5 & 7\\\\\n",
    "2 & 3 & 4\\\\\n",
    "5 & 9 & 11\n",
    "\\end{array}\n",
    "\\right ], \\qquad\n",
    "A=\\left[\n",
    "\\begin{array}{cccc}\n",
    "1 & 2 & 3 & 4\\\\\n",
    "2 & -4 & 6 & 8\\\\\n",
    "-1 & -2 & -3 & -1\\\\\n",
    "5 & 7 & 0 & 1\n",
    "\\end{array}\n",
    "\\right ],\n",
    "$$\n",
    "confrontando i risultati ottenuti con l'output\n",
    "della funzione  *scipy.linalg.inv(A)*"
   ]
  },
  {
   "cell_type": "markdown",
   "id": "336b8ed9-0a19-44f9-8fd2-890b6f70acfa",
   "metadata": {},
   "source": [
    "## Esercizio 5\n",
    "Sfruttando la fattorizzazione PA=LU  di una delle matrici del punto precedente, calcolarne il determinante.\n"
   ]
  },
  {
   "cell_type": "markdown",
   "id": "e5216f85-37df-422d-964d-1ee359b9fa1f",
   "metadata": {},
   "source": [
    "## Esercizio 6\n",
    "Per valori di $n = 4 : 6 : 40$, si consideri il sistema lineare $A_n x = b$ con\n",
    "$A_n$ matrice di Hankel di ordine $n$ di elementi\n",
    "$$\n",
    "a^{(n)}_{i,n+k-i}\n",
    "=\n",
    "\\left \\{\n",
    "\\begin{array}{ll}\n",
    "2^k & \\hbox{se} \\ k > 0,\\\\\n",
    "2^{1/(2-k)} & \\hbox{se} \\ k \\leq 0,\n",
    "\\end{array}\n",
    "\\right .\n",
    "\\qquad\n",
    "i = 1, ..., n, \\ \\  k = i + 1-n, ..., i,\n",
    "$$\n",
    "e $b$ scelto in modo che risulti $x = [1, 1, ..., 1]^T$. Si risolva tale sistema\n",
    "con il metodo di fattorizzazione LU della matrice PA\n",
    "e il metodo di fattorizzazione QR (Q,R  =scipy.linalg.qr(A)).\n",
    "Calcolare gli errori relativi $\\| \\delta x \\|_2/\\|x\\|_2$ da cui sono affette\n",
    "le soluzioni calcolate con i due metodi e produrre, al variare di $n$, un\n",
    "grafico in scala logaritmica ( matplotlib.plyplot.loglog) degli errori relativi calcolati. Che cosa si\n",
    "osserva?"
   ]
  },
  {
   "cell_type": "markdown",
   "id": "0ba403c0-aff7-4239-a665-c5c12f99904d",
   "metadata": {},
   "source": [
    "Ripetere l'esercizio precedente per risolvere il sistema lineare $Ax = b$\n",
    "con $A$ e $b$ cos\\`i  definiti:\n",
    "$$\n",
    "a^{(n)}_{i,j}=\n",
    "\\left \\{\n",
    "\\begin{array}{ll}\n",
    "1 & \\hbox{se} \\ i=j \\ \\hbox{o \\, se} \\ j=n,\\\\\n",
    "-1 & \\hbox{se} \\ i>j,\\\\\n",
    "0 & \\hbox{altrimenti}\n",
    "\\end{array}\n",
    "\\right .\n",
    "\\qquad\n",
    "b = A \\cdot [1, ..., 1]^T,\n",
    "$$\n",
    "per $n = 48 : 2 : 58$ e $b$ scelto in modo che risulti $x = [1, 1, ..., 1]^T$. Che\n",
    "cosa si osserva?\n"
   ]
  },
  {
   "cell_type": "markdown",
   "id": "aed547e3-fe49-41b6-a124-d49c8f9b48f5",
   "metadata": {},
   "source": [
    "## Esercizio 7\n",
    "Implementare la  funzione $jacobi(A,b,x0,toll,itmax)$ per risolvere il  sistema lineare Ax=b utilizzando il Metodo iterativo di Jacobi. \n",
    "La funzione prende in input:\n",
    "- A: matrice dei coefficienti\n",
    "- b: termine noto\n",
    "- x0: vettore iniziale della stessa dimensione di b\n",
    "- toll: tolleranza per il criterio di arresto\n",
    "- itmax: iterazioni massime oltre le quali il metodo si ferma\n",
    "\n",
    "e restituisce in output:\n",
    "- il vettore soluzione\n",
    "- un vettore di tante componenti quanto il numero di iterazioni effettuate, contenente l'errore tra due iterazioni successive $||x^{(k)}-x^{(k-1)}||/||x^{(k)}||$\n",
    "- il numero di iterazioni impiegate per calcolare la soluzione con la tolleranza richiesta\n",
    "\n",
    "\n",
    "Calcolare il raggio spettrale della matrice di iterazione.\n",
    "\n",
    "Implementare un criterio di arresto per il procedimento iterativo in termini di : $||x^{(k)}-x^{(k-1)}||/||x^{(k)}|| <toll$"
   ]
  },
  {
   "cell_type": "code",
   "execution_count": 3,
   "id": "c6efb9bd-f469-4e45-8965-960d5ce3a401",
   "metadata": {},
   "outputs": [],
   "source": [
    "import numpy as np\n",
    "import matplotlib.pyplot as plt"
   ]
  },
  {
   "cell_type": "code",
   "execution_count": 10,
   "id": "e920055d-4363-4e85-a778-576a9cd5d2ab",
   "metadata": {},
   "outputs": [],
   "source": [
    "def jacobi(A,b,x0,toll,itmax):\n",
    "    #Le funzioni possono vedere le variabili del main, ma non  modificarle\n",
    "    n = A.shape[0]  #n = numero righe di A\n",
    "    d = np.diag(A)  #vettore diagonale di A\n",
    "    D = np.diag(d)  #costruisce la matrice che ha sulla diagonale il vettore d\n",
    "    invM = np.diag(1/d)  #M=D e la sua inversa quindi è la matrice diagonale con i reciproci del vettore d\n",
    "    E = np.tril(A, -1)  #matrice triangolare inferiore, partendo dalla sottodiagonale\n",
    "    F = np.triu(A, 1)  #matrice triangolare superiore, partendo dalla sopradiagonale\n",
    "    N = -(E + F)\n",
    "    #controllo raggio spettrale per vedere se converge e in tal caso alla soluzione\n",
    "    T = np.dot(invM, N)  #T=invM*N ERRORE!!! Perchè non è il prodotto scalare\n",
    "    autovalori = np.linalg.eigvals(T)\n",
    "    raggiospettrale = np.max(np.abs(autovalori))  #Come fare la norma infinito\n",
    "    print(\"Raggio spettrale: \", raggiospettrale)\n",
    "    \n",
    "    it = 0\n",
    "    errore = 1000\n",
    "    er_vet = []\n",
    "    while it <= itmax and errore >= toll:\n",
    "        x = (b+N@x0)/d.reshape(n,1)\n",
    "        errore = np.linalg.norm(x-x0)/np.linalg.norm(x)\n",
    "        er_vet.append(errore)\n",
    "        x0 = x.copy()  #IMPORTANTE!!!\n",
    "        it = it + 1\n",
    "    return x, it, er_vet"
   ]
  },
  {
   "cell_type": "code",
   "execution_count": 11,
   "id": "e71ef68a-279b-44e1-8718-92686eee8cea",
   "metadata": {},
   "outputs": [
    {
     "name": "stdout",
     "output_type": "stream",
     "text": [
      "Raggio spettrale:  0.5586853131416272\n",
      "Sol Jac =  [[1.]\n",
      " [1.]\n",
      " [1.]] \n",
      "it Jac 35\n"
     ]
    },
    {
     "data": {
      "text/plain": [
       "[<matplotlib.lines.Line2D at 0x195fb67f8b0>]"
      ]
     },
     "execution_count": 11,
     "metadata": {},
     "output_type": "execute_result"
    },
    {
     "data": {
      "image/png": "[encoded data removed]",
      "text/plain": [
       "<Figure size 640x480 with 1 Axes>"
      ]
     },
     "metadata": {},
     "output_type": "display_data"
    }
   ],
   "source": [
    "A = np.array([[4,1,3], [3,4,1], [1,1,17]])\n",
    "n = A.shape[0]  #do per scontato che sia quadrata altrimeti dovrei controllare che A.shape[0]=A.shape[1]\n",
    "b = np.sum(A, axis=1).reshape(n,1)\n",
    "x0 = np.zeros((n,1))\n",
    "toll = 1e-8\n",
    "itmax = 100\n",
    "solJac, it_Jac, err_vet_Jac = jacobi(A,b,x0,toll,itmax)\n",
    "print(\"Sol Jac = \", solJac, \"\\nit Jac\", it_Jac)\n",
    "plt.semilogy(np.arange(it_Jac), err_vet_Jac)\n",
    "#La soluzione deve essere un vettore di 1, il raggio spettrale deve essere < 1"
   ]
  },
  {
   "cell_type": "markdown",
   "id": "3e2804e8-0a05-4a88-bb95-014501918127",
   "metadata": {
    "tags": []
   },
   "source": [
    "## Esercizio 8\n",
    "Implementare la  funzione $gauss$_$seidel(A,b,x0,toll,itmax)$ per risolvere il  sistema lineare Ax=b utilizzando il Metodo iterativo di Gauss-Seidel. \n",
    "La funzione prende in input:\n",
    "- A: matrice dei coefficienti\n",
    "- b: termine noto\n",
    "- x0: vettore iniziale della stessa dimensione di b\n",
    "- toll: tolleranza per il criterio di arresto\n",
    "- itmax: iterazioni massime oltre le quali il metodo si ferma\n",
    "\n",
    "e restituisce in output:\n",
    "- il vettore soluzione\n",
    "- un vettore di tante componenti quanto il numero di iterazioni effettuate, contenente l'errore tra due iterazioni successive $||x^{(k)}-x^{(k-1)}||/||x^{(k)}||$\n",
    "- il numero di iterazioni impiegate per calcolare la soluzione con la tolleranza richiesta\n",
    "\n",
    "Calcolare il raggio spettrale della matrice di iterazione.\n",
    "\n",
    "Implementare un criterio di arresto per il procedimento iterativo in termini di : $||x^{(k)}-x^{(k-1)}||/||x^{(k)}|| <toll$"
   ]
  },
  {
   "cell_type": "code",
   "execution_count": 37,
   "id": "d82ead5e-a509-4d78-8d22-c5d59c138198",
   "metadata": {},
   "outputs": [],
   "source": [
    "def gauss_seidel(A,b,x0,toll,itmax):\n",
    "    #Le funzioni possono vedere le variabili del main, ma non  modificarle\n",
    "    n = A.shape[0]  #n = numero righe di A\n",
    "    d = np.diag(A)  #vettore diagonale di A\n",
    "    D = np.diag(d)  #costruisce la matrice che ha sulla diagonale il vettore d\n",
    "    E = np.tril(A, -1)  #matrice triangolare inferiore, partendo dalla sottodiagonale\n",
    "    F = np.triu(A, 1)  #matrice triangolare superiore, partendo dalla sopradiagonale\n",
    "    M = D+E\n",
    "    invM = np.linalg.inv(M)\n",
    "    N = -F\n",
    "    #controllo raggio spettrale per vedere se converge e in tal caso alla soluzione\n",
    "    T = np.dot(invM, N)  #T=invM*N ERRORE!!! Perchè non è il prodotto scalare\n",
    "    autovalori = np.linalg.eigvals(T)\n",
    "    raggiospettrale = np.max(np.abs(autovalori))  #Come fare la norma infinito\n",
    "    print(\"Raggio spettrale: \", raggiospettrale)\n",
    "    \n",
    "    it = 0\n",
    "    errore = 1000\n",
    "    err_vet = []\n",
    "    while it <= itmax and errore >= toll:\n",
    "        x, flag = Lsolve(M, b+N@x0)\n",
    "        errore = np.linalg.norm(x-x0)/np.linalg.norm(x)\n",
    "        err_vet.append(errore)\n",
    "        x0 = x.copy()  #IMPORTANTE!!!\n",
    "        it = it + 1\n",
    "    return x, it, err_vet"
   ]
  },
  {
   "cell_type": "code",
   "execution_count": 45,
   "id": "7762e77c-a4cd-4fdf-9931-bd279def01ba",
   "metadata": {},
   "outputs": [
    {
     "name": "stdout",
     "output_type": "stream",
     "text": [
      "Raggio spettrale:  0.1943151503079159\n",
      "Sol Gauss-Seidel = \n",
      " [[1.]\n",
      " [1.]\n",
      " [1.]] \n",
      "it Gauss-Seidel 13\n"
     ]
    },
    {
     "data": {
      "text/plain": [
       "[<matplotlib.lines.Line2D at 0x195fcdc1be0>]"
      ]
     },
     "execution_count": 45,
     "metadata": {},
     "output_type": "execute_result"
    },
    {
     "data": {
      "image/png": "[encoded data removed]",
      "text/plain": [
       "<Figure size 640x480 with 1 Axes>"
      ]
     },
     "metadata": {},
     "output_type": "display_data"
    }
   ],
   "source": [
    "A = np.array([[4,1,3], [3,4,1], [1,1,17]])\n",
    "n = A.shape[0]  #do per scontato che sia quadrata altrimeti dovrei controllare che A.shape[0]=A.shape[1]\n",
    "b = np.sum(A, axis=1).reshape(n,1)\n",
    "x0 = np.zeros((n,1))\n",
    "toll = 1e-8\n",
    "itmax = 100\n",
    "solGS, it_GS, err_vet_GS = gauss_seidel(A,b,x0,toll,itmax)\n",
    "print(\"Sol Gauss-Seidel = \\n\", solGS, \"\\nit Gauss-Seidel\", it_GS)\n",
    "plt.semilogy(np.arange(it_GS), err_vet_GS)\n",
    "#La soluzione deve essere un vettore di 1, il raggio spettrale deve essere < 1"
   ]
  },
  {
   "cell_type": "markdown",
   "id": "c74bb0cb-34c4-45c0-b91a-24fe1d933360",
   "metadata": {},
   "source": [
    "## Esercizio 9\n",
    "Testare i metodi di Jacobi e di Gauss Seidel nella soluzione dei - sistemai lineare Ax=b, dove \n",
    "- A=np.array([[4,1,3],[3,4,1],[1,1,17]]) \n",
    "- A=np.array([[3,0, 4],[7, 4, 3],[-1, -1 ,-2]])\n",
    "- A=np.array([[5, 0, -1, 2],[ -2, 4, 1, 0],[0, -1, 4, -1],[ 2, 0, 0, 3]])\n",
    "\n",
    "ed il termine noto del sistema è scelto in maniera tale che la soluzione esatta del sistema sia il vettore fatto da tutti 1.\n",
    "Visualizzare in un grafico in scala logaritmica  l'errore per ogni iterazione per ciascun metodo. Cosa si osserva?\n",
    "Porre toll=1e-8 it_max=500 e x0=np.zeros(A.shape[0])"
   ]
  },
  {
   "cell_type": "code",
   "execution_count": 52,
   "id": "e5f06de5-f1a7-45d8-9d26-3ef5c3c5d564",
   "metadata": {},
   "outputs": [
    {
     "name": "stdout",
     "output_type": "stream",
     "text": [
      "Raggio spettrale:  1.3748593749588482\n",
      "Sol Jac =  [[7.98519558e+13]\n",
      " [1.46556882e+14]\n",
      " [8.23389075e+13]] \n",
      "it Jac 101\n",
      "Raggio spettrale:  0.1250000000000001\n",
      "Sol Gauss-Seidel = \n",
      " [[1.]\n",
      " [1.]\n",
      " [1.]] \n",
      "it Gauss-Seidel 12\n",
      "Raggio spettrale:  0.5287229642709426\n",
      "Sol Jac =  [[1.]\n",
      " [1.]\n",
      " [1.]\n",
      " [1.]] \n",
      "it Jac 31\n",
      "Raggio spettrale:  0.12909944487358055\n",
      "Sol Gauss-Seidel = \n",
      " [[1.]\n",
      " [1.]\n",
      " [1.]\n",
      " [1.]] \n",
      "it Gauss-Seidel 11\n"
     ]
    },
    {
     "data": {
      "text/plain": [
       "[<matplotlib.lines.Line2D at 0x195fc6c0a30>]"
      ]
     },
     "execution_count": 52,
     "metadata": {},
     "output_type": "execute_result"
    },
    {
     "data": {
      "image/png": "[encoded data removed]",
      "text/plain": [
       "<Figure size 640x480 with 1 Axes>"
      ]
     },
     "metadata": {},
     "output_type": "display_data"
    }
   ],
   "source": [
    "A = np.array([[3,0,4], [7,4,3], [-1,-1,-2]])\n",
    "A1 = np.array([[5,0,-1,2], [-2,4,1,0], [0,-1,4,-1], [2,0,0,3]])\n",
    "toll = 1e-8\n",
    "it_max = 500\n",
    "n = A.shape[0]\n",
    "b = np.sum(A, axis=1).reshape(n,1)\n",
    "x0 = np.zeros((n,1))\n",
    "solJac, it_Jac, err_vet_Jac = jacobi(A,b,x0,toll,itmax)\n",
    "print(\"Sol Jac = \", solJac, \"\\nit Jac\", it_Jac)\n",
    "plt.semilogy(np.arange(it_Jac), err_vet_Jac)\n",
    "solGS, it_GS, err_vet_GS = gauss_seidel(A,b,x0,toll,itmax)\n",
    "print(\"Sol Gauss-Seidel = \\n\", solGS, \"\\nit Gauss-Seidel\", it_GS)\n",
    "plt.semilogy(np.arange(it_GS), err_vet_GS)\n",
    "\n",
    "n = A1.shape[0]\n",
    "x0 = np.zeros((n,1))\n",
    "b = np.sum(A1, axis=1).reshape(n,1)\n",
    "solJac1, it_Jac1, err_vet_Jac1 = jacobi(A1,b,x0,toll,itmax)\n",
    "print(\"Sol Jac = \", solJac1, \"\\nit Jac\", it_Jac1)\n",
    "plt.semilogy(np.arange(it_Jac1), err_vet_Jac1)\n",
    "solGS1, it_GS1, err_vet_GS1 = gauss_seidel(A1,b,x0,toll,itmax)\n",
    "print(\"Sol Gauss-Seidel = \\n\", solGS1, \"\\nit Gauss-Seidel\", it_GS1)\n",
    "plt.semilogy(np.arange(it_GS1), err_vet_GS1)"
   ]
  },
  {
   "cell_type": "markdown",
   "id": "a2a550cc-b2af-4e4a-969f-964bbb79182f",
   "metadata": {},
   "source": [
    "## Esercizio 10\n",
    "Implementare la  funzione $gauss$_$seidel$_sor(A,b,x0,omega, toll,itmax) per risolvere il  sistema lineare Ax=b utilizzando il Metodo iterativo di Gauss-Seidel-SOR\n",
    "La funzione prende in input:\n",
    "- A: matrice dei coefficienti\n",
    "- b: termine noto\n",
    "- x0: vettore iniziale della stessa dimensione di b\n",
    "- omega: il parametro di rilassamento\n",
    "- toll: tolleranza per il criterio di arresto\n",
    "- itmax: iterazioni massime oltre le quali il metodo si ferma\n",
    "\n",
    "e restituisce in output:\n",
    "- il vettore soluzione\n",
    "- un vettore di tante componenti quanto il numero di iterazioni effettuate, contenente l'errore tra due iterazioni successive $||x^{(k)}-x^{(k-1)}||/||x^{(k)}||$\n",
    "- il numero di iterazioni impiegate per calcolare la soluzione con la tolleranza richiesta\n",
    "\n",
    "Calcolare il raggio spettrale della matrice di iterazione.\n",
    "\n",
    "Implementare un criterio di arresto per il procedimento iterativo in termini di : $||x^{(k)}-x^{(k-1)}||/||x^{(k)}|| <toll$"
   ]
  },
  {
   "cell_type": "code",
   "execution_count": 53,
   "id": "bd66e9ee-5cc4-4928-986a-9ae4c4c25ab9",
   "metadata": {},
   "outputs": [],
   "source": [
    "def gauss_seidel_sor(A,b,x0,omega,toll,itmax):\n",
    "    #Le funzioni possono vedere le variabili del main, ma non  modificarle\n",
    "    n = A.shape[0]  #n = numero righe di A\n",
    "    d = np.diag(A)  #vettore diagonale di A\n",
    "    D = np.diag(d)  #costruisce la matrice che ha sulla diagonale il vettore d\n",
    "    E = np.tril(A, -1)  #matrice triangolare inferiore, partendo dalla sottodiagonale\n",
    "    F = np.triu(A, 1)  #matrice triangolare superiore, partendo dalla sopradiagonale\n",
    "    M = D+E\n",
    "    invM = np.linalg.inv(M)\n",
    "    N = -F\n",
    "    #controllo raggio spettrale per vedere se converge e in tal caso alla soluzione\n",
    "    T = np.dot(invM, N)  #T=invM*N ERRORE!!! Perchè non è il prodotto scalare\n",
    "    autovalori = np.linalg.eigvals(T)\n",
    "    raggiospettrale = np.max(np.abs(autovalori))  #Come fare la norma infinito\n",
    "    print(\"Raggio spettrale: \", raggiospettrale)\n",
    "    \n",
    "    it = 0\n",
    "    errore = 1000\n",
    "    err_vet = []\n",
    "    while it <= itmax and errore >= toll:\n",
    "        xtilde, flag = Lsolve(M, b+N@x0)\n",
    "        x, flag = (1-omega)@x0 + omega@xtilde\n",
    "        errore = np.linalg.norm(x-x0)/np.linalg.norm(x)\n",
    "        err_vet.append(errore)\n",
    "        x0 = x.copy()  #IMPORTANTE!!!\n",
    "        it = it + 1\n",
    "    return x, it, err_vet"
   ]
  },
  {
   "cell_type": "code",
   "execution_count": 56,
   "id": "2eb2d395-4b9a-4562-8d10-38c5cad82d45",
   "metadata": {},
   "outputs": [
    {
     "name": "stdout",
     "output_type": "stream",
     "text": [
      "Raggio spettrale:  0.1250000000000001\n"
     ]
    },
    {
     "ename": "ValueError",
     "evalue": "matmul: Input operand 0 does not have enough dimensions (has 0, gufunc core with signature (n?,k),(k,m?)->(n?,m?) requires 1)",
     "output_type": "error",
     "traceback": [
      "\u001b[1;31m---------------------------------------------------------------------------\u001b[0m",
      "\u001b[1;31mValueError\u001b[0m                                Traceback (most recent call last)",
      "Cell \u001b[1;32mIn[56], line 7\u001b[0m\n\u001b[0;32m      5\u001b[0m x0 \u001b[38;5;241m=\u001b[39m np\u001b[38;5;241m.\u001b[39mzeros((n,\u001b[38;5;241m1\u001b[39m))\n\u001b[0;32m      6\u001b[0m b \u001b[38;5;241m=\u001b[39m np\u001b[38;5;241m.\u001b[39msum(A, axis\u001b[38;5;241m=\u001b[39m\u001b[38;5;241m1\u001b[39m)\u001b[38;5;241m.\u001b[39mreshape(n,\u001b[38;5;241m1\u001b[39m)\n\u001b[1;32m----> 7\u001b[0m solGS, it_GS, err_vet_GS \u001b[38;5;241m=\u001b[39m \u001b[43mgauss_seidel_sor\u001b[49m\u001b[43m(\u001b[49m\u001b[43mA\u001b[49m\u001b[43m,\u001b[49m\u001b[43mb\u001b[49m\u001b[43m,\u001b[49m\u001b[43mx0\u001b[49m\u001b[43m,\u001b[49m\u001b[38;5;241;43m1.0\u001b[39;49m\u001b[43m,\u001b[49m\u001b[43mtoll\u001b[49m\u001b[43m,\u001b[49m\u001b[43mitmax\u001b[49m\u001b[43m)\u001b[49m\n\u001b[0;32m      8\u001b[0m \u001b[38;5;28mprint\u001b[39m(\u001b[38;5;124m\"\u001b[39m\u001b[38;5;124mSol Gauss-Seidel = \u001b[39m\u001b[38;5;130;01m\\n\u001b[39;00m\u001b[38;5;124m\"\u001b[39m, solGS, \u001b[38;5;124m\"\u001b[39m\u001b[38;5;130;01m\\n\u001b[39;00m\u001b[38;5;124mit Gauss-Seidel\u001b[39m\u001b[38;5;124m\"\u001b[39m, it_GS)\n\u001b[0;32m      9\u001b[0m plt\u001b[38;5;241m.\u001b[39msemilogy(np\u001b[38;5;241m.\u001b[39marange(it_GS), err_vet_GS)\n",
      "Cell \u001b[1;32mIn[53], line 22\u001b[0m, in \u001b[0;36mgauss_seidel_sor\u001b[1;34m(A, b, x0, omega, toll, itmax)\u001b[0m\n\u001b[0;32m     20\u001b[0m \u001b[38;5;28;01mwhile\u001b[39;00m it \u001b[38;5;241m<\u001b[39m\u001b[38;5;241m=\u001b[39m itmax \u001b[38;5;129;01mand\u001b[39;00m errore \u001b[38;5;241m>\u001b[39m\u001b[38;5;241m=\u001b[39m toll:\n\u001b[0;32m     21\u001b[0m     xtilde, flag \u001b[38;5;241m=\u001b[39m Lsolve(M, b\u001b[38;5;241m+\u001b[39mN\u001b[38;5;129m@x0\u001b[39m)\n\u001b[1;32m---> 22\u001b[0m     x, flag \u001b[38;5;241m=\u001b[39m \u001b[43m(\u001b[49m\u001b[38;5;241;43m1\u001b[39;49m\u001b[38;5;241;43m-\u001b[39;49m\u001b[43momega\u001b[49m\u001b[43m)\u001b[49m\u001b[38;5;129;43m@x0\u001b[39;49m \u001b[38;5;241m+\u001b[39m omega\u001b[38;5;129m@xtilde\u001b[39m\n\u001b[0;32m     23\u001b[0m     errore \u001b[38;5;241m=\u001b[39m np\u001b[38;5;241m.\u001b[39mlinalg\u001b[38;5;241m.\u001b[39mnorm(x\u001b[38;5;241m-\u001b[39mx0)\u001b[38;5;241m/\u001b[39mnp\u001b[38;5;241m.\u001b[39mlinalg\u001b[38;5;241m.\u001b[39mnorm(x)\n\u001b[0;32m     24\u001b[0m     err_vet\u001b[38;5;241m.\u001b[39mappend(errore)\n",
      "\u001b[1;31mValueError\u001b[0m: matmul: Input operand 0 does not have enough dimensions (has 0, gufunc core with signature (n?,k),(k,m?)->(n?,m?) requires 1)"
     ]
    }
   ],
   "source": [
    "A1 = np.array([[5,0,-1,2], [-2,4,1,0], [0,-1,4,-1], [2,0,0,3]])\n",
    "toll = 1e-8\n",
    "it_max = 500\n",
    "n = A.shape[0]\n",
    "x0 = np.zeros((n,1))\n",
    "b = np.sum(A, axis=1).reshape(n,1)\n",
    "solGS, it_GS, err_vet_GS = gauss_seidel_sor(A,b,x0,1.0,toll,itmax)\n",
    "print(\"Sol Gauss-Seidel = \\n\", solGS, \"\\nit Gauss-Seidel\", it_GS)\n",
    "plt.semilogy(np.arange(it_GS), err_vet_GS)"
   ]
  },
  {
   "cell_type": "markdown",
   "id": "0a6df5f9-ad94-4a81-b55a-19afe9b82064",
   "metadata": {},
   "source": [
    "## Esercizio 11\n",
    "Scrivere una funzione creaPoisson(n) che preso in input l'ordine della matrice quadrata di Poisson la costruzione secondo la seguente formula:\n",
    "$$A =\n",
    "\\left [\n",
    "\\begin{array}{ccccccccccc}\n",
    "4 & -1 & 0 & -1 &0 &0 & 0& 0& \\cdots &   0 & 0\\\\\n",
    "-1 & 4 & -1 & 0  &-1 &0 & 0& 0& \\cdots &   0 & 0\\\\\n",
    "0 & -1 & 4 & -1  &0 &-1 & 0& 0& \\cdots &   0 & 0 \\\\\n",
    "-1 & 0 & -1 & 4  &-1 &0  & -1 & 0& \\cdots &   0 & 0\\\\\n",
    "0 & -1 & 0 & -1  & 4 &-1 & 0 & -1& \\cdots &   0 & 0\\\\\n",
    "0 & 0 & -1 & 0  & -1 &4 & -1 & 0&  -1 & 0 & 0 \\\\\n",
    "0 & 0 & 0 & \\ddots  & 0 &\\ddots & \\ddots & \\ddots& \\ddots & \\ddots & 0\\\\\n",
    "0 & 0 & 0 & 0  & -1 &0  & -1 & 4& -1 &   0& -1\\\\\n",
    "\\end{array}\n",
    " \\right ], \\qquad\n",
    "$$\n",
    "- Risolvere il sistema lineare Ax=b con matrice dei coefficienti A di Poisson di ordine 10 e termine noto b scelto in maniera tale che il sistema abbia soluzione il vettore x con tutte le componenti  uguali ad 1, utilizzando  il metodo iterativo di Jacobi, Gauss-Seidel e Gauss-Seidel-Sor con parametro omega scelto tra 1 e 2 in maniera tale che il raggio spettrale della matrice di iterazione sia il più piccolo possibile e confrontare su un unico grafico l'andamento degli errori in scala logaritmica. Usare toll=1e-10."
   ]
  },
  {
   "cell_type": "markdown",
   "id": "186ca402-f3bd-4d8e-b930-11746a839678",
   "metadata": {},
   "source": [
    "## Esercizio 12\n",
    "Implementare una funzione **steepestdescent(A,b,x0,itmax,tol)** che implementa il metodo di discesa più ripida del gradiente per risolvere il sistema lineare Ax=b, con A matrice simmetrica e definita positiva. La funzione prende in input:\n",
    "- A: matrice dei coefficienti\n",
    "- b: termine noto\n",
    "- x0: vettore iniziale della stessa dimensione di b\n",
    "- itmax: iterazioni massime oltre le quali il metodo si ferma\n",
    "- toll: tolleranza per il criterio di arresto\n",
    "\n",
    "e restituisce in output:\n",
    "- il vettore soluzione\n",
    "- un vettore di tante componenti quanto il numero di iterazioni effettuate, contenente la\n",
    "  norma del residuo iterazione per iterazione\n",
    "- il numero di iterazioni impiegate per calcolare la soluzione con la tolleranza richiesta\n",
    "\n",
    "Usare come criterio di arresto $norm(r(k),2) < toll$"
   ]
  },
  {
   "cell_type": "markdown",
   "id": "3a42d682-1775-4ed6-b65a-2666ba309df7",
   "metadata": {},
   "source": [
    "## Esercizio 13\n",
    "Testare il metodo del gradiente sull'esempio dell'esercizio 11"
   ]
  },
  {
   "cell_type": "code",
   "execution_count": null,
   "id": "2efd5c81-967d-4692-b754-af12452eeba0",
   "metadata": {},
   "outputs": [],
   "source": []
  }
 ],
 "metadata": {
  "kernelspec": {
   "display_name": "Python 3 (ipykernel)",
   "language": "python",
   "name": "python3"
  },
  "language_info": {
   "codemirror_mode": {
    "name": "ipython",
    "version": 3
   },
   "file_extension": ".py",
   "mimetype": "text/x-python",
   "name": "python",
   "nbconvert_exporter": "python",
   "pygments_lexer": "ipython3",
   "version": "3.8.15"
  }
 },
 "nbformat": 4,
 "nbformat_minor": 5
}
