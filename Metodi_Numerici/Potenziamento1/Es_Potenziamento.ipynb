{
 "cells": [
  {
   "cell_type": "markdown",
   "id": "dc06efbf-c08a-48b8-961c-d216052a4705",
   "metadata": {
    "tags": []
   },
   "source": [
    "## ## Esercizio 1  (esercizio 4 dell'esercitazione 7-8)\n",
    "Si implementi una function *solve_nsis(A,B)* per il calcolo della soluzione di un generale sistema lineare $AX = B$, con $X, B$ matrici, che usi la fattorizzazione LU della matrice PA, per risolvere n sistemi lineari: aventi la stessa matrice dei coefficienti A e termine noto l'i-esima colonna della matrice B. \n",
    "Utilizzarla poi per il calcolo dell'inversa delle\n",
    "matrici non singolari\n",
    "$$\n",
    "A=\\left[\n",
    "\\begin{array}{ccc}\n",
    "3 & 5 & 7\\\\\n",
    "2 & 3 & 4\\\\\n",
    "5 & 9 & 11\n",
    "\\end{array}\n",
    "\\right ], \\qquad\n",
    "A=\\left[\n",
    "\\begin{array}{cccc}\n",
    "1 & 2 & 3 & 4\\\\\n",
    "2 & -4 & 6 & 8\\\\\n",
    "-1 & -2 & -3 & -1\\\\\n",
    "5 & 7 & 0 & 1\n",
    "\\end{array}\n",
    "\\right ],\n",
    "$$\n",
    "confrontando i risultati ottenuti con l'output\n",
    "della funzione  *scipy.linalg.inv(A)*"
   ]
  },
  {
   "cell_type": "code",
   "execution_count": 118,
   "id": "078e5a45-22d0-4381-b1f3-1498237974b8",
   "metadata": {},
   "outputs": [],
   "source": [
    "import RisolviSis as Risolvi\n",
    "import numpy as np\n",
    "import scipy.linalg as sp"
   ]
  },
  {
   "cell_type": "code",
   "execution_count": 132,
   "id": "cfde3c31-704f-4369-b183-78a1152d7611",
   "metadata": {},
   "outputs": [],
   "source": [
    "def solve_nsis(A,B):\n",
    "    n = A.shape[0]\n",
    "    PT, L, U = sp.lu(A)\n",
    "    P = PT.T\n",
    "    X = np.zeros_like(A)\n",
    "    for i in range (n):\n",
    "        b = B[:,i]\n",
    "        y, flag = Risolvi.Lsolve(L, P@b)\n",
    "        x, flag = Risolvi.Usolve(U, y)\n",
    "        X[:,i] = x.reshape(n,)\n",
    "    return X"
   ]
  },
  {
   "cell_type": "code",
   "execution_count": 133,
   "id": "cc0820d5-3e7b-49a6-91d8-c2479abd6910",
   "metadata": {},
   "outputs": [
    {
     "ename": "IndexError",
     "evalue": "too many indices for array: array is 1-dimensional, but 2 were indexed",
     "output_type": "error",
     "traceback": [
      "\u001b[1;31m---------------------------------------------------------------------------\u001b[0m",
      "\u001b[1;31mIndexError\u001b[0m                                Traceback (most recent call last)",
      "Cell \u001b[1;32mIn[133], line 8\u001b[0m\n\u001b[0;32m      5\u001b[0m L \u001b[38;5;241m=\u001b[39m np\u001b[38;5;241m.\u001b[39marray([[\u001b[38;5;241m1\u001b[39m,\u001b[38;5;241m0\u001b[39m,\u001b[38;5;241m0\u001b[39m], [\u001b[38;5;241m4\u001b[39m,\u001b[38;5;241m6\u001b[39m,\u001b[38;5;241m0\u001b[39m], [\u001b[38;5;241m7\u001b[39m,\u001b[38;5;241m2\u001b[39m,\u001b[38;5;241m14\u001b[39m]])\n\u001b[0;32m      7\u001b[0m b \u001b[38;5;241m=\u001b[39m np\u001b[38;5;241m.\u001b[39msum(L, axis\u001b[38;5;241m=\u001b[39m\u001b[38;5;241m1\u001b[39m)\n\u001b[1;32m----> 8\u001b[0m X \u001b[38;5;241m=\u001b[39m \u001b[43msolve_nsis\u001b[49m\u001b[43m(\u001b[49m\u001b[43mL\u001b[49m\u001b[43m,\u001b[49m\u001b[43m \u001b[49m\u001b[43mb\u001b[49m\u001b[43m)\u001b[49m\n\u001b[0;32m      9\u001b[0m \u001b[38;5;28mprint\u001b[39m(X)\n",
      "Cell \u001b[1;32mIn[132], line 7\u001b[0m, in \u001b[0;36msolve_nsis\u001b[1;34m(A, B)\u001b[0m\n\u001b[0;32m      5\u001b[0m X \u001b[38;5;241m=\u001b[39m np\u001b[38;5;241m.\u001b[39mzeros_like(A)\n\u001b[0;32m      6\u001b[0m \u001b[38;5;28;01mfor\u001b[39;00m i \u001b[38;5;129;01min\u001b[39;00m \u001b[38;5;28mrange\u001b[39m (n):\n\u001b[1;32m----> 7\u001b[0m     b \u001b[38;5;241m=\u001b[39m \u001b[43mB\u001b[49m\u001b[43m[\u001b[49m\u001b[43m:\u001b[49m\u001b[43m,\u001b[49m\u001b[43mi\u001b[49m\u001b[43m]\u001b[49m\n\u001b[0;32m      8\u001b[0m     y, flag \u001b[38;5;241m=\u001b[39m Risolvi\u001b[38;5;241m.\u001b[39mLsolve(L, P\u001b[38;5;129m@b\u001b[39m)\n\u001b[0;32m      9\u001b[0m     x, flag \u001b[38;5;241m=\u001b[39m Risolvi\u001b[38;5;241m.\u001b[39mUsolve(U, y)\n",
      "\u001b[1;31mIndexError\u001b[0m: too many indices for array: array is 1-dimensional, but 2 were indexed"
     ]
    }
   ],
   "source": [
    "#A = np.array([[1,2,3,4], [2,-4,6,8], [-1,-2,-3,-1], [5,7,0,1]])\n",
    "#X = \n",
    "#print(X)\n",
    "#L = np.array([[3.0,5.0,7.0], [2,3,4], [5,9,11]])\n",
    "L = np.array([[1,0,0], [4,6,0], [7,2,14]])\n",
    "\n",
    "b = np.sum(L, axis=1)\n",
    "X = solve_nsis(L, b)\n",
    "print(X)"
   ]
  },
  {
   "cell_type": "markdown",
   "id": "808dd17f-566a-4165-8533-ef035c4072e7",
   "metadata": {},
   "source": [
    "Sfruttando la fattorizzazione PA=LU  di una delle matrici del punto precedente, calcolarne il determinante."
   ]
  },
  {
   "cell_type": "markdown",
   "id": "13d1da97-0ee0-4e64-817b-e80a72e6f50f",
   "metadata": {},
   "source": [
    "Dire sarebbe stato possibile calcolare la fattorizzazione A=LU delle due matrici del punto precedente (cioè utilizzare la fattorizzazione LU senza scambio di righe)"
   ]
  },
  {
   "cell_type": "markdown",
   "id": "73c9750c-6810-48ad-bfc1-14778b8b54d5",
   "metadata": {
    "tags": []
   },
   "source": [
    "## Esercizio 2  (esercizio 6 dell'esercitazione 7-8)\n",
    "Per valori di $n = 4 : 6 : 40$, si consideri il sistema lineare $A_n x = b$ con\n",
    "$A_n$ matrice di Hankel di ordine $n$ di elementi\n",
    "$$\n",
    "a^{(n)}_{i,n+k-i}\n",
    "=\n",
    "\\left \\{\n",
    "\\begin{array}{ll}\n",
    "2^k & \\hbox{se} \\ k > 0,\\\\\n",
    "2^{1/(2-k)} & \\hbox{se} \\ k \\leq 0,\n",
    "\\end{array}\n",
    "\\right .\n",
    "\\qquad\n",
    "i = 1, ..., n, \\ \\  k = i + 1-n, ..., i,\n",
    "$$\n",
    "e $b$ scelto in modo che risulti $x = [1, 1, ..., 1]^T$. Si risolva tale sistema\n",
    "con il metodo di fattorizzazione LU della matrice PA\n",
    "e il metodo di fattorizzazione QR (Q,R  =scipy.linalg.qr(A)).\n",
    "Calcolare gli errori relativi $\\| \\delta x \\|_2/\\|x\\|_2$ da cui sono affette\n",
    "le soluzioni calcolate con i due metodi e produrre, al variare di $n$, un\n",
    "grafico in scala logaritmica ( matplotlib.plyplot.loglog) degli errori relativi calcolati. Che cosa si\n",
    "osserva?"
   ]
  },
  {
   "cell_type": "markdown",
   "id": "09a482de-3f3b-4605-905e-258de1e78e6e",
   "metadata": {
    "tags": []
   },
   "source": [
    "## Esercizio 3 (esercizio 8 dell'esercitazione 5-6)  \n",
    "Si consideri lo sviluppo in serie dell'esponenziale $e^x=1+x+\\frac{1}{2!}x^2+\\frac{1}{3!}x^3+\\cdots =\\sum_{k=0}^\\infty \\frac{x^k}{k!} $. Si calcoli un'approssimazione dell'esponenziale troncando ad N=100 termini la serie, per valori di x che variano da -10 a 10 incluso. Si calcoli  per ogni valore di x l'errore relativo del valore approssimato rispetto al valore esatto, ottenuto mediante la funzione exp della libreria numpy. Cosa si osserva? Pensare ad un algoritmo più stabile ricordando che $e^{-x}=\\frac{1}{e^{|x|}}$."
   ]
  },
  {
   "cell_type": "markdown",
   "id": "b47a17ff-2881-465f-a2ee-d945cae703f6",
   "metadata": {},
   "source": [
    "## Esercizio 4 (Esercizio 6 esercitazione 5-6)\n",
    "\n",
    "Assegnato il sistema lineare $Ax = b$, con\n",
    "$$\n",
    "A =\n",
    "\\left [\n",
    "\\begin{array}{ccc}\n",
    "6 & 63 & 662.2\\\\\n",
    "63 & 662.2 & 6967.8\\\\\n",
    "662.2 & 6967.8 & 73393.5664\n",
    "\\end{array}\n",
    "\\right ], \\qquad\n",
    "b =\n",
    "\\left [\n",
    "\\begin{array}{c}\n",
    "1.1\\\\\n",
    "2.33\\\\\n",
    "1.7\n",
    "\\end{array}\n",
    "\\right ]\n",
    "$$\n",
    "- trovare il vettore soluzione $x$ (usando la la fattorizzazione più opportuna);\n",
    "- perturbare la matrice dei coefficienti della quantità\n",
    "$$\n",
    "\\delta A =\n",
    "0.01 \\, \\ast \\,\n",
    "\\left [ \\begin{array}{ccc}\n",
    "1 & 0 & 0\\\\\n",
    "0 & 0 & 0\\\\\n",
    "0 & 0 & 0\n",
    "\\end{array}\n",
    "\\right ]\n",
    "$$\n",
    "quindi calcolare l'errore relativo sulla soluzione e confrontarlo con la\n",
    "perturbazione relativa sui dati di ingresso. Cosa si osserva?"
   ]
  },
  {
   "cell_type": "code",
   "execution_count": null,
   "id": "34724815-69a7-471a-a616-3d93d040ecf8",
   "metadata": {},
   "outputs": [],
   "source": []
  }
 ],
 "metadata": {
  "kernelspec": {
   "display_name": "Python 3 (ipykernel)",
   "language": "python",
   "name": "python3"
  },
  "language_info": {
   "codemirror_mode": {
    "name": "ipython",
    "version": 3
   },
   "file_extension": ".py",
   "mimetype": "text/x-python",
   "name": "python",
   "nbconvert_exporter": "python",
   "pygments_lexer": "ipython3",
   "version": "3.8.15"
  }
 },
 "nbformat": 4,
 "nbformat_minor": 5
}
