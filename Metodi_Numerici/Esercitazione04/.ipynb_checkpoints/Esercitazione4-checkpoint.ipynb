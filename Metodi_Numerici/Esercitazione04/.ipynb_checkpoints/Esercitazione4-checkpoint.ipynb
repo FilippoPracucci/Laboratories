{
 "cells": [
  {
   "cell_type": "markdown",
   "id": "b97be3ab-d6dd-495f-a342-e5e837cfb8bc",
   "metadata": {},
   "source": [
    "#                       Esercitazione 4 - 14 Marzo 2023"
   ]
  },
  {
   "cell_type": "markdown",
   "id": "60ab2cbf-4329-4dbe-b761-16ea93bb103a",
   "metadata": {},
   "source": [
    "- **1.** Verificare il sistema dei numeri di macchina gestito da Python: importare il pacchetto sys. La funzione sys.float_info dà le informazioni necessarie. Stamparle e poi verificarne la validità con le formule viste a lezione: numero minimo di macchina, numero massimo di macchina, precisione di macchina \n",
    "\n",
    "\n",
    "  **N.B.** Bisogna tenere presente che c'è l'hidden bit. Quindi la mantissa più piccola da considerare $M=1.m$ dove $m=0$. Quindi il numero minimo ha mantissa $1.0$ e parte esponente $\\beta^L$, quindi e' dato da $1.0 \\beta^L= \\beta^L$.\n",
    "  \n",
    "   Ragionate voi per calcolare il numero massimo di macchina, tenendo conto dell'hidden bit.\n"
   ]
  },
  {
   "cell_type": "code",
   "execution_count": 1,
   "id": "2d5ead6f-0aa7-4a7a-9917-356a00e46fae",
   "metadata": {},
   "outputs": [
    {
     "name": "stdout",
     "output_type": "stream",
     "text": [
      "sys.float_info(max=1.7976931348623157e+308, max_exp=1024, max_10_exp=308, min=2.2250738585072014e-308, min_exp=-1021, min_10_exp=-307, dig=15, mant_dig=53, epsilon=2.220446049250313e-16, radix=2, rounds=1)\n"
     ]
    }
   ],
   "source": [
    "import sys\n",
    "print(sys.float_info)"
   ]
  },
  {
   "cell_type": "code",
   "execution_count": 2,
   "id": "10c70382-6cfd-46a5-af05-dbdaf52c7df7",
   "metadata": {},
   "outputs": [
    {
     "data": {
      "text/plain": [
       "53"
      ]
     },
     "execution_count": 2,
     "metadata": {},
     "output_type": "execute_result"
    }
   ],
   "source": [
    "sys.float_info.mant_dig"
   ]
  },
  {
   "cell_type": "code",
   "execution_count": 6,
   "id": "360f8c4e-9305-4b3f-9673-bf9edaa6cf91",
   "metadata": {},
   "outputs": [
    {
     "name": "stdout",
     "output_type": "stream",
     "text": [
      "Alfa_min =  2.2250738585072014e-308\n"
     ]
    }
   ],
   "source": [
    "beta = 2.0\n",
    "L = sys.float_info.min_exp - 1\n",
    "U = sys.float_info.max_exp - 1\n",
    "amin = beta**(L)\n",
    "print(\"Alfa_min = \", amin)"
   ]
  },
  {
   "cell_type": "code",
   "execution_count": 8,
   "id": "fc1a8c34-0511-48bc-8a72-48d2b5a87ae8",
   "metadata": {},
   "outputs": [
    {
     "name": "stdout",
     "output_type": "stream",
     "text": [
      "Alfa_max =  1.7976931348623157e+308\n"
     ]
    }
   ],
   "source": [
    "t = 52\n",
    "#amax = beta**U - beta**(U-t) nel caso in cui non si consideri il bit nascosto\n",
    "amax = beta**U * (2 - beta**(-t))\n",
    "print(\"Alfa_max = \", amax)"
   ]
  },
  {
   "cell_type": "code",
   "execution_count": 19,
   "id": "2392c9f5-e7d2-4e14-a053-33d29e9bb677",
   "metadata": {},
   "outputs": [
    {
     "name": "stdout",
     "output_type": "stream",
     "text": [
      "eps(precisione di macchina) =  2.220446049250313e-16\n"
     ]
    }
   ],
   "source": [
    "t = 53\n",
    "eps = beta**(1-t)  # eps = beta**(p+1-t)  dove [beta**p, beta**(p+1)]\n",
    "print(\"eps(precisione di macchina) = \", eps)"
   ]
  },
  {
   "cell_type": "markdown",
   "id": "224ac7e6-31df-4f15-8ffc-9c82bd21c82e",
   "metadata": {},
   "source": [
    "- **2.**  Calcolare lo spacing in  $[2^{52}, 2^{53}]$.\n",
    "    - Sia $x=2^{52}$ individuare il numero successivo a $2^{52}$ ed assegnarlo ad una variabile  y.\n",
    "    - Cosa succede se consideriamo il valore z=x+0.5?\n",
    "    - Cosa succede se consideriamo il valore q=y+0.5?\n",
    "  "
   ]
  },
  {
   "cell_type": "code",
   "execution_count": 23,
   "id": "73b95464-2b4d-411c-b732-7bafb2bac1bb",
   "metadata": {},
   "outputs": [
    {
     "name": "stdout",
     "output_type": "stream",
     "text": [
      "Spacing =  1.0\n",
      "x =  4503599627370496.0\n",
      "y =  4503599627370497.0\n",
      "z =  4503599627370496.0\n",
      "q =  4503599627370498.0\n"
     ]
    }
   ],
   "source": [
    "s = beta**(53-t)\n",
    "print(\"Spacing = \", s)\n",
    "x = float(2**52)\n",
    "print(\"x = \", x)\n",
    "y = x + s\n",
    "print(\"y = \", y)\n",
    "z = x + 0.5  # z = x perchè viene arrotondato ai pari\n",
    "print(\"z = \", z)\n",
    "q = y + 0.5\n",
    "print(\"q = \", q)  # q = y + 1 perchè viene arrotondato ai pari"
   ]
  },
  {
   "cell_type": "markdown",
   "id": "c73d1758-eb82-48af-8618-6dfb522dcdd6",
   "metadata": {},
   "source": [
    "- **3** Calcolare la cardinalità dell'insieme dei numeri finiti di Python"
   ]
  },
  {
   "cell_type": "code",
   "execution_count": 21,
   "id": "f931552d-ed08-4ef0-96bf-d95be401beba",
   "metadata": {},
   "outputs": [
    {
     "name": "stdout",
     "output_type": "stream",
     "text": [
      "Cardinalità numeri finiti =  1.842872967520007e+19\n"
     ]
    }
   ],
   "source": [
    "card = 2*(beta**(t-1)*(beta-1)*(U-L+1)) + 1\n",
    "print(\"Cardinalità numeri finiti = \", card)"
   ]
  },
  {
   "cell_type": "markdown",
   "id": "cee853bd-aca6-47f4-980f-7e44473f7523",
   "metadata": {},
   "source": [
    "- **4**  Verificare numericamente che $\\texttt{eps} = 2^{-52}$, spacing nell'intervallo $[1, 2]$,\n",
    "è il piu' piccolo $x$ tale che $fl(1 + x)$ è  diverso da $1$. Si consiglia di\n",
    "visualizzare i risultati anche per differenza.\n"
   ]
  },
  {
   "cell_type": "code",
   "execution_count": 25,
   "id": "6ee8c216-bd97-4328-a3ce-fe0e9343c4eb",
   "metadata": {},
   "outputs": [
    {
     "name": "stdout",
     "output_type": "stream",
     "text": [
      "fl(1+x) =  1.0000000000000002\n"
     ]
    }
   ],
   "source": [
    "eps = 2**(-52)\n",
    "s = sys.float_info.epsilon\n",
    "x = eps\n",
    "print(\"fl(1+x) = \", 1+x)"
   ]
  },
  {
   "cell_type": "markdown",
   "id": "d19cd104-d1ea-4444-996c-0a9672063450",
   "metadata": {},
   "source": [
    "- **5.** Siano $a=1.234567890123400 e+15$, $b=-1.234567890123401 e+15$, $c=0.06$. \n",
    "  Calcolare $(a+b)+c$, $(a+c)+b$, $a+(b+c)$. Che cosa si osserva? Ripetere l'esercizio con $a=0.23371258 e-4$, $b=0.33678429 e+2$, $c=-0.33677911 e+2$."
   ]
  },
  {
   "cell_type": "code",
   "execution_count": 32,
   "id": "9b0e89c0-1693-467a-8c46-18213ae1d578",
   "metadata": {},
   "outputs": [
    {
     "name": "stdout",
     "output_type": "stream",
     "text": [
      "PRIMO CASO\n",
      "ris1 =  -0.94\n",
      "ris2 =  -1.0\n",
      "ris3 =  -1.0\n",
      "SECONDO CASO\n",
      "ris1 =  0.0005413712580022434\n",
      "ris2 =  0.0005413712580022434\n",
      "ris3 =  0.0005413712579995743\n"
     ]
    }
   ],
   "source": [
    "a = 1.234567890123400e+15\n",
    "b = -1.234567890123401e+15\n",
    "c = 0.06\n",
    "print(\"PRIMO CASO\")\n",
    "ris = (a+b)+c\n",
    "print(\"ris1 = \", ris)\n",
    "ris = (a+c)+b\n",
    "print(\"ris2 = \", ris)\n",
    "ris = a+(b+c)\n",
    "print(\"ris3 = \", ris)\n",
    "#Nel primo caso il primo risultato è diverso dagli altri due \n",
    "a = 0.23371258e-4\n",
    "b = 0.33678429e+2\n",
    "c = -0.33677911e+2\n",
    "print(\"SECONDO CASO\")\n",
    "ris = (a+b)+c\n",
    "print(\"ris1 = \", ris)\n",
    "ris = (a+c)+b\n",
    "print(\"ris2 = \", ris)\n",
    "ris = a+(b+c)\n",
    "print(\"ris3 = \", ris)\n",
    "#Nel secondo caso i primi due risultati sono uguali, mentre il terzo è diverso"
   ]
  },
  {
   "cell_type": "markdown",
   "id": "960d25c1-9677-4b1e-92c1-c16870d520b6",
   "metadata": {},
   "source": [
    "- **6.** Si considerino le espressioni $y_1=\\sqrt{x^2+1}-x$ e $y_2=\\frac{1}{\\sqrt{x^2+1}+x}$. Calcolare il valore di $y_1$ e $y_2$ per $x=7777$ e $x=77777777$. Che cosa si osserva? Commentare i risultati ottenuti."
   ]
  },
  {
   "cell_type": "code",
   "execution_count": 6,
   "id": "a7aeba93-e525-43d1-9130-195982fe8708",
   "metadata": {},
   "outputs": [
    {
     "name": "stdout",
     "output_type": "stream",
     "text": [
      "y1 =  6.429214317904552e-05\n",
      "y2 =  6.429214323431402e-05\n",
      "y3 =  0.0\n",
      "y4 =  1.2855857528507157e-08\n"
     ]
    }
   ],
   "source": [
    "import math\n",
    "x = 7777\n",
    "y1 = math.sqrt(x**2 + 1) - x\n",
    "y2 = 1 / (math.sqrt(x**2 + 1) + x)\n",
    "print(\"y1 = \", y1)\n",
    "print(\"y2 = \", y2)\n",
    "x2 = 77777777\n",
    "y3 = math.sqrt(x2**2 + 1) - x2\n",
    "y4 = 1 / (math.sqrt(x2**2 + 1) + x)\n",
    "print(\"y3 = \", y3)\n",
    "print(\"y4 = \", y4)"
   ]
  },
  {
   "cell_type": "markdown",
   "id": "e3d8c3b3-d514-41ec-a6f2-eb22311ab157",
   "metadata": {},
   "source": [
    "- **7.** Valutare in aritmetica floating point l'espressione\n",
    "$$A(x)=\\frac{1}{x}-\\frac{1}{(x+1)}$$  nel vettore   $x=[10^0, 10^1,... ,10^{20}]$ contenente potenze successive  di $10$,  Si calcoli per ogni elemento di x l'errore relativo considerando come valore esatto quello calcolato usando  l'espressione algebricamente equivalente\n",
    "$$\n",
    "B(x)=\\frac{1}{x (x+1)}.\n",
    "$$ Si visualizzi l'errore relativo in un grafico in scala logaritmica su $x$ e $y$"
   ]
  },
  {
   "cell_type": "code",
   "execution_count": 38,
   "id": "04ab8639-89f1-46e2-9769-c9e8ef2cadb2",
   "metadata": {},
   "outputs": [
    {
     "data": {
      "image/png": "[encoded data removed]",
      "text/plain": [
       "<Figure size 640x480 with 2 Axes>"
      ]
     },
     "metadata": {},
     "output_type": "display_data"
    }
   ],
   "source": [
    "import matplotlib.pyplot as plt\n",
    "import numpy as np\n",
    "\n",
    "A = lambda x: 1/x - 1/(x+1)\n",
    "\n",
    "B = lambda x: 1/(x*(x+1))\n",
    "\n",
    "x = 10.0**np.arange(0, 21)\n",
    "s = np.spacing(x)\n",
    "err = np.copy(x)\n",
    "err = np.abs(B(x) - A(x)) / np.abs(B(x))\n",
    "\n",
    "plt.subplot(2,1,1)\n",
    "plt.title(\"Errore relativo\")\n",
    "plt.grid(True)\n",
    "plt.xlabel(\"x\")\n",
    "plt.ylabel(\"err\")\n",
    "plt.loglog(x, err, \"r-o\")\n",
    "plt.subplot(2,1,2)\n",
    "plt.loglog(x, s, \"g-o\")\n",
    "plt.title(\"Spacing\")\n",
    "plt.xlabel(\"x\")\n",
    "plt.ylabel(\"spacing\")\n",
    "plt.grid(True)\n",
    "plt.tight_layout()\n",
    "plt.show()"
   ]
  },
  {
   "cell_type": "markdown",
   "id": "27155dcd-6580-4e3d-aac9-fa42b717bf70",
   "metadata": {},
   "source": [
    "- **8-**  Quali problemi si possono incontrare nel calcolo delle radici di $a x^2+b x+c$? Provare a risolvere l'equazione $x^2+10^k x+1=0$ con k in range(1,9). Che cosa si osserva?"
   ]
  },
  {
   "cell_type": "code",
   "execution_count": 52,
   "id": "dcb6d590-fe46-4478-8f7e-0aee42908161",
   "metadata": {},
   "outputs": [
    {
     "data": {
      "image/png": "[encoded data removed]",
      "text/plain": [
       "<Figure size 640x480 with 1 Axes>"
      ]
     },
     "metadata": {},
     "output_type": "display_data"
    }
   ],
   "source": [
    "a = 1\n",
    "c = 1\n",
    "k = np.arange(1,9)\n",
    "b = 10.0**k\n",
    "\n",
    "delta = b**2 - 4*a*c\n",
    "\n",
    "x1 = (-b + np.sqrt(delta)) /(2*a)\n",
    "x2 = (-b - np.sqrt(delta))/(2*a)\n",
    "\n",
    "#Calcolando x1 in questo modo evitiamo che si annulli\n",
    "x1new = (a*c)/x2\n",
    "\n",
    "#La radice di x1 in aritmetica reale\n",
    "x1vera = -10.0**(-k)\n",
    "\n",
    "err_rel_x1 = np.abs(x1 - x1vera)/np.abs(x1vera)\n",
    "err_rel_x1new = np.abs(x1new - x1vera)/np.abs(x1vera)\n",
    "\n",
    "plt.semilogy(k, err_rel_x1, \"r-\", k, err_rel_x1new, \"g--\")\n",
    "plt.legend([\"err x1\", \"err x1new\"])\n",
    "plt.show()\n",
    "#Questa differenza negli errori relativi e' dovuta allo spacing o alla radice"
   ]
  },
  {
   "cell_type": "markdown",
   "id": "9f6294cc-b0df-40b8-a1f5-450f4e756ffa",
   "metadata": {},
   "source": [
    "- **9.** Scrivere uno script Matlab che fornisca le approssimazioni di $e=\\exp(1)$ ottenute con la formula\n",
    "$f(n)=(1/n+1)^n$ per $n=10^k$ e  $k=0, ..., 16$. Visualizzare: un grafico con i valori di $f(n)$ al variare di n ed un grafico con i valori dell'errore relativo (considerando come valore esatto il valore math.exp(1)).  Cosa si osserva? Commentare i risultati ottenuti."
   ]
  }
 ],
 "metadata": {
  "kernelspec": {
   "display_name": "Python 3 (ipykernel)",
   "language": "python",
   "name": "python3"
  },
  "language_info": {
   "codemirror_mode": {
    "name": "ipython",
    "version": 3
   },
   "file_extension": ".py",
   "mimetype": "text/x-python",
   "name": "python",
   "nbconvert_exporter": "python",
   "pygments_lexer": "ipython3",
   "version": "3.8.15"
  }
 },
 "nbformat": 4,
 "nbformat_minor": 5
}
