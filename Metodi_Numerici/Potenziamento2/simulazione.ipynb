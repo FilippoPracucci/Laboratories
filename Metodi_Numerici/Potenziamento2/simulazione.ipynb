{
 "cells": [
  {
   "cell_type": "markdown",
   "id": "b1592f9b-6fb5-4bbf-ac5a-dba7efe13be7",
   "metadata": {},
   "source": [
    "## Esercizo 1\n",
    "Si consideri il sistema lineare Ax=b, con A matrice e b termine noto memorizzati nel file ``Dati0.mat``.  Risolvere il sistema utilizzando il metodo più adatto al problema proposto e commentare i risultati ottenuti  giustificandoli alla luce della teoria. \n",
    "\n",
    "Per la lettura dei dati procedere nel seguente modo:\n",
    "\n",
    "``from scipy.io import loadmat``\n",
    "\n",
    "``import numpy as np``\n",
    "\n",
    "``dati = loadmat('Dati0.mat')``\n",
    "\n",
    "``A=dati[\"A\"] ``\n",
    "\n",
    "`` b=dati[\"b\"] ``"
   ]
  },
  {
   "cell_type": "code",
   "execution_count": 2,
   "id": "fb4523af-40e7-493a-a3dd-9e36e56dda08",
   "metadata": {},
   "outputs": [],
   "source": [
    "from scipy.io import loadmat\n",
    "import numpy as np\n",
    "import matplotlib.pyplot as plt\n",
    "import RisolviSis as rs\n",
    "dati = loadmat('Dati0.mat')\n",
    "A = dati[\"A\"]\n",
    "b = dati[\"b\"]"
   ]
  },
  {
   "cell_type": "code",
   "execution_count": 3,
   "id": "f6417572-72db-496b-bfcf-a13ab4118a40",
   "metadata": {},
   "outputs": [
    {
     "name": "stdout",
     "output_type": "stream",
     "text": [
      "(400, 400)\n",
      "0.012\n"
     ]
    }
   ],
   "source": [
    "#da centinaia in poi la matrice è di grandi dimensioni\n",
    "print(A.shape)\n",
    "#trattino dove c'è un elemento != 0, quindi si può vedere se è sparsa\n",
    "#plt.spy(A)\n",
    "#Posso anche calcolare il rapporto tra numeroZeri e il quadrato della dimensione(quadrata)\n",
    "print(np.count_nonzero(A)/(A.shape[0]**2))"
   ]
  },
  {
   "cell_type": "code",
   "execution_count": 4,
   "id": "96dd4c88-b752-4937-9de7-9b2dad2c4d64",
   "metadata": {},
   "outputs": [],
   "source": [
    "def gauss_seidel(A,b,x0,toll,itmax):\n",
    "    #Le funzioni possono vedere le variabili del main, ma non  modificarle\n",
    "    n = A.shape[0]  #n = numero righe di A\n",
    "    d = np.diag(A)  #vettore diagonale di A\n",
    "    D = np.diag(d)  #costruisce la matrice che ha sulla diagonale il vettore d\n",
    "    E = np.tril(A, -1)  #matrice triangolare inferiore, partendo dalla sottodiagonale\n",
    "    F = np.triu(A, 1)  #matrice triangolare superiore, partendo dalla sopradiagonale\n",
    "    M = D+E\n",
    "    invM = np.linalg.inv(M)\n",
    "    N = -F\n",
    "    #controllo raggio spettrale per vedere se converge e in tal caso alla soluzione\n",
    "    T = np.dot(invM, N)  #T=invM*N ERRORE!!! Perchè non è il prodotto scalare\n",
    "    autovalori = np.linalg.eigvals(T)\n",
    "    raggiospettrale = np.max(np.abs(autovalori))  #Come fare la norma infinito\n",
    "    print(\"Raggio spettrale: \", raggiospettrale)\n",
    "    \n",
    "    it = 0\n",
    "    errore = 1000\n",
    "    err_vet = []\n",
    "    while it <= itmax and errore >= toll:\n",
    "        x, flag = rs.Lsolve(M, b+N@x0)\n",
    "        errore = np.linalg.norm(x-x0)/np.linalg.norm(x)\n",
    "        err_vet.append(errore)\n",
    "        x0 = x.copy()  #IMPORTANTE!!!\n",
    "        it = it + 1\n",
    "    return x, it, err_vet"
   ]
  },
  {
   "cell_type": "code",
   "execution_count": 5,
   "id": "a6122fac-9af4-409c-a56a-798f8d826ed7",
   "metadata": {},
   "outputs": [],
   "source": [
    "def conjugate_gradient(A,b,x0,itmax,tol):\n",
    "    m,n = A.shape\n",
    "    if m != n:\n",
    "        print(\"Matrice non quadrata\")\n",
    "        return [],[],[],[]\n",
    "    \n",
    "    x = x0\n",
    "    r = A@x -b\n",
    "    p = -r\n",
    "    nb = np.linalg.norm(b)  #default norma 2\n",
    "    errore = np.linalg.norm(r)/nb\n",
    "    vec_sol = []\n",
    "    vec_sol.append(x)\n",
    "    vec_err = []\n",
    "    vec_err.append(errore)\n",
    "    \n",
    "    it = 0\n",
    "    while errore>=tol and it<=itmax :\n",
    "        it = it + 1\n",
    "        Ap = A@p\n",
    "        rTr = np.dot(r.T, r)\n",
    "        alpha = rTr / np.dot(p.T, Ap)\n",
    "        x = x + alpha*p\n",
    "        vec_sol.append(x)\n",
    "        r = r + alpha*Ap\n",
    "        gamma =  np.dot(r.T, r) / rTr #rispetto al gradiente aggiungo un coefficiente gamma per calcolare la nuova direzione\n",
    "        errore = np.linalg.norm(r) / nb\n",
    "        vec_err.append(errore)\n",
    "        p = -r + gamma*p  #rispetto al gradiente cambia la direzione che non è l'antigradiente, ma viene modificata con la direzione al passo precedente per gamma\n",
    "        \n",
    "    return x, vec_err, vec_sol, it"
   ]
  },
  {
   "cell_type": "code",
   "execution_count": 7,
   "id": "de175859-8ed2-404a-b94b-4b78f788e601",
   "metadata": {},
   "outputs": [
    {
     "name": "stdout",
     "output_type": "stream",
     "text": [
      "Matrice A simmetrica\n",
      "Tutti gli autovalori sono positivi\n",
      "Raggio spettrale:  0.9777864028930714\n",
      "it Gauss-Seidel 645\n",
      "it Conjugate Gradient 38\n"
     ]
    },
    {
     "data": {
      "text/plain": [
       "[<matplotlib.lines.Line2D at 0x284f22c03a0>]"
      ]
     },
     "execution_count": 7,
     "metadata": {},
     "output_type": "execute_result"
    },
    {
     "data": {
      "image/png": "[encoded data removed]",
      "text/plain": [
       "<Figure size 640x480 with 1 Axes>"
      ]
     },
     "metadata": {},
     "output_type": "display_data"
    }
   ],
   "source": [
    "AT = A.T\n",
    "autovalori = np.linalg.eigvals(A)\n",
    "if (np.array_equal(A, AT)):\n",
    "    print(\"Matrice A simmetrica\")\n",
    "if (np.all(autovalori) > 0):\n",
    "    print(\"Tutti gli autovalori sono positivi\")\n",
    "\n",
    "n = A.shape[0]  #do per scontato che sia quadrata altrimeti dovrei controllare che A.shape[0]=A.shape[1]\n",
    "x0 = np.zeros((n,1))\n",
    "toll = 1e-8\n",
    "itmax = 1000\n",
    "solGS, it_GS, err_vet_GS = gauss_seidel(A,b,x0,toll,itmax)\n",
    "print(\"it Gauss-Seidel\", it_GS)\n",
    "plt.semilogy(np.arange(it_GS), err_vet_GS)\n",
    "solCG, err_vet_CG, sol_vet_CG, it_CG = conjugate_gradient(A,b,x0,itmax,toll)\n",
    "print(\"it Conjugate Gradient\", it_CG)\n",
    "plt.semilogy(np.arange(it_CG+1), err_vet_CG)"
   ]
  },
  {
   "cell_type": "markdown",
   "id": "c0245435-e06a-449c-9fbb-3bc5407d3b97",
   "metadata": {},
   "source": [
    "## Esercizio 2"
   ]
  },
  {
   "cell_type": "markdown",
   "id": "e4bc86ad-7d61-4946-9c29-6c681ce11262",
   "metadata": {},
   "source": [
    "La sequenza \n",
    "\n",
    "$$x_1=1$$\n",
    "$$x_n= 2^{n-1} \\left( \\sqrt{1+ \\frac{x_{n-1}}{2^{n-2}} }-1 \\right)    \\quad \\quad n=2,3,...,\\quad (1) $$\n",
    "\n",
    "converge a $log(2)$, cioè  $\\lim_{n \\rightarrow \\infty} x_n= log(2)$\n",
    "\n",
    "- Si calcolino i valori della sequenza (1) per $n=1,..,71$\n",
    "\n",
    "- Costruire un grafico in cui nelle ascisse vi sia  il valore di $n=1,..,71$  e nelle ordinate il corrispondente valore di $x_n$ . \n",
    "\n",
    "- La successione converge a log(2)? In corrispondenza di quale $n$ si verifica un pessimo risultato? Spiegare alla luce della teoria\n",
    "\n",
    "- Manipolando opportunamente la formula (1) scrivere una formula  equivalente  ma piu\\' stabile per ottenere la sequenza $\\tilde x_n$\n",
    "algebricamente equivalente alla (1).\n",
    "\n",
    "- Valutare la formula proposta per calcolare la sequenza $\\tilde x_n $ per $n=1,..,71$\n",
    "\n",
    "- Costruire un grafico in cui nelle ascisse vi sia  il valore di n  e nelle ordinate il corrispondente valore di $\\tilde x_n$ \n",
    "\n",
    "- Calcolare l'errore relativo di ogni $x_n$ rispetto al valore esatto $log(2)$ \n",
    "\n",
    "\n",
    "- Calcolare l'errore relativo di ogni $\\tilde x_n$ rispetto al valore esatto $log(2)$"
   ]
  },
  {
   "cell_type": "markdown",
   "id": "d6905931-d53b-4b7f-a1ab-e84dd6683bf2",
   "metadata": {},
   "source": [
    "## Esercizo 3\n",
    "Si consideri il sistema lineare Ax=b, con A matrice e b termine noto memorizzati nel file ``Dati1.mat``.  Risolvere il sistema utilizzando il metodo più adatto al problema proposto e commentare i risultati ottenuti  giustificandoli alla luce della teoria. \n"
   ]
  },
  {
   "cell_type": "code",
   "execution_count": 55,
   "id": "a33339d0-3684-4e36-ab86-96e639abb20f",
   "metadata": {},
   "outputs": [
    {
     "data": {
      "text/plain": [
       "<matplotlib.image.AxesImage at 0x2167d6990a0>"
      ]
     },
     "execution_count": 55,
     "metadata": {},
     "output_type": "execute_result"
    },
    {
     "data": {
      "image/png": "[encoded data removed]",
      "text/plain": [
       "<Figure size 640x480 with 1 Axes>"
      ]
     },
     "metadata": {},
     "output_type": "display_data"
    }
   ],
   "source": [
    "dati = loadmat('Dati1.mat')\n",
    "A = dati[\"A\"]\n",
    "b = dati[\"b\"]\n",
    "#plt.spy(A)"
   ]
  },
  {
   "cell_type": "code",
   "execution_count": 77,
   "id": "10484842-4038-4967-bee4-dc2c4f1f3441",
   "metadata": {},
   "outputs": [
    {
     "name": "stdout",
     "output_type": "stream",
     "text": [
      "499.99999999999824\n",
      "Matrice A non simmetrica\n"
     ]
    }
   ],
   "source": [
    "AT = A.T\n",
    "print(np.linalg.cond(A))\n",
    "autovalori = np.linalg.eigvals(A)\n",
    "if (not np.array_equal(A, AT)):\n",
    "    print(\"Matrice A non simmetrica\")\n",
    "elif (np.all(autovalori) > 0):\n",
    "    print(\"Tutti gli autovalori sono positivi\")\n",
    "m, n = A.shape\n",
    "if (m < n or np.linalg.matrix_rank(A)!=n):\n",
    "    print(\"Non posso utilizzare QR\")\n",
    "else:\n",
    "    Q, R = np.linalg.qr(A)\n",
    "    y = Q.T@b\n",
    "    x, flag = rs.Usolve(R, y)"
   ]
  },
  {
   "cell_type": "code",
   "execution_count": null,
   "id": "33698472-9bed-4981-a593-5b5d78264652",
   "metadata": {},
   "outputs": [],
   "source": []
  }
 ],
 "metadata": {
  "kernelspec": {
   "display_name": "Python 3 (ipykernel)",
   "language": "python",
   "name": "python3"
  },
  "language_info": {
   "codemirror_mode": {
    "name": "ipython",
    "version": 3
   },
   "file_extension": ".py",
   "mimetype": "text/x-python",
   "name": "python",
   "nbconvert_exporter": "python",
   "pygments_lexer": "ipython3",
   "version": "3.9.13"
  }
 },
 "nbformat": 4,
 "nbformat_minor": 5
}
