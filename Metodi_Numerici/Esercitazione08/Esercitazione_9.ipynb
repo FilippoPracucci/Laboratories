{
 "cells": [
  {
   "cell_type": "markdown",
   "id": "563c6e9f-4262-4dff-889f-d8bbeba42a00",
   "metadata": {
    "tags": []
   },
   "source": [
    "# Esercitazione 9\n",
    "\n",
    "**27 Aprile 2023**\n",
    "\n",
    "*Gradiente e gradiente coniugato*"
   ]
  },
  {
   "cell_type": "markdown",
   "id": "af3ab26b-9626-4782-a629-1851ad883687",
   "metadata": {
    "tags": []
   },
   "source": [
    "## Esercizio 1\n",
    "Implementare una funzione **steepestdescent(A,b,x0,itmax,tol)** che implementa il metodo di discesa più ripida del gradiente per risolvere il sistema lineare Ax=b, con A matrice simmetrica e definita positiva. La funzione prende in input:\n",
    "- A: matrice dei coefficienti\n",
    "- b: termine noto\n",
    "- x0: vettore iniziale della stessa dimensione di b\n",
    "- itmax: iterazioni massime oltre le quali il metodo si ferma\n",
    "- toll: tolleranza per il criterio di arresto\n",
    "\n",
    "e restituisce in output:\n",
    "- il vettore soluzione\n",
    "- un vettore di tante componenti quanto il numero di iterazioni effettuate, contenente $ \\frac{||r^{(k)}||_2} {||b||_2}$ iterazione per iterazione\n",
    "\n",
    "- un array contenente le soluzioni ad ogni iterazione\n",
    "- il numero di iterazioni impiegate per calcolare la soluzione con la tolleranza richiesta\n",
    "\n",
    "Usare come criterio di arresto $ \\frac{||r^{(k)}||_2} {||b||_2} < toll$"
   ]
  },
  {
   "cell_type": "code",
   "execution_count": 8,
   "id": "bb801143-e9d8-4b76-bd85-c80c2197e06a",
   "metadata": {},
   "outputs": [],
   "source": [
    "import numpy as np\n",
    "import matplotlib.pyplot as plt"
   ]
  },
  {
   "cell_type": "code",
   "execution_count": 9,
   "id": "80084f93-d99c-4d87-a163-07ee45d9fbe4",
   "metadata": {},
   "outputs": [],
   "source": [
    "def steepestdescent(A,b,x0,itmax,tol):\n",
    "    n,m = A.shape\n",
    "    if n!=m :\n",
    "        print(\"Matrice non quadrata\")\n",
    "        return [],[],[],[]\n",
    "    \n",
    "    x = x0\n",
    "    r = A@x -b\n",
    "    p = -r\n",
    "    nb = np.linalg.norm(b)  #default norma 2\n",
    "    errore = np.linalg.norm(r)/nb\n",
    "    vec_sol = []\n",
    "    vec_sol.append(x)\n",
    "    vec_err = []\n",
    "    vec_err.append(errore)\n",
    "    \n",
    "    it = 0\n",
    "    while errore>=tol and it<=itmax :\n",
    "        it = it + 1\n",
    "        Ap = A@p\n",
    "        rTr = np.dot(r.T, r)\n",
    "        alpha = rTr / np.dot(p.T, Ap)\n",
    "        x = x + alpha*p\n",
    "        vec_sol.append(x)\n",
    "        r = r + alpha*Ap\n",
    "        errore = np.linalg.norm(r) / nb\n",
    "        vec_err.append(errore)\n",
    "        p = -r\n",
    "        \n",
    "    return x, vec_err, vec_sol, it"
   ]
  },
  {
   "cell_type": "code",
   "execution_count": 18,
   "id": "72927310-bf37-44bd-952f-efbfcea2ea85",
   "metadata": {},
   "outputs": [
    {
     "name": "stdout",
     "output_type": "stream",
     "text": [
      "Soluzione gradiente\n",
      " [[1.]\n",
      " [1.]]\n",
      "Iterazioni:  10\n"
     ]
    },
    {
     "data": {
      "image/png": "[encoded data removed]",
      "text/plain": [
       "<Figure size 640x480 with 1 Axes>"
      ]
     },
     "metadata": {},
     "output_type": "display_data"
    }
   ],
   "source": [
    "A = np.array([[8,3], [3,14]])\n",
    "n = A.shape[0]\n",
    "b = np.sum(A, axis=1).reshape(n,1)  #somma delle colonne\n",
    "x0 = np.zeros_like(b)\n",
    "tol = 1e-8\n",
    "itmax = 500\n",
    "xG, vec_errG, vec_solG, itG = steepestdescent(A,b,x0,itmax,tol)\n",
    "plt.semilogy(np.arange(itG+1), vec_errG)\n",
    "print(\"Soluzione gradiente\\n\", xG)\n",
    "print(\"Iterazioni: \", itG)"
   ]
  },
  {
   "cell_type": "markdown",
   "id": "725a79a7-8e11-4151-a8bd-fce7bc91f4ab",
   "metadata": {
    "tags": []
   },
   "source": [
    "## Esercizio 2\n",
    "Implementare una funzione **conjugate_gradient(A,b,x0,itmax,tol)** che implementa il metodo del gradiente coniugato per risolvere il sistema lineare Ax=b, con A matrice simmetrica e definita positiva. La funzione prende in input:\n",
    "- A: matrice dei coefficienti\n",
    "- b: termine noto\n",
    "- x0: vettore iniziale della stessa dimensione di b\n",
    "- itmax: iterazioni massime oltre le quali il metodo si ferma\n",
    "- toll: tolleranza per il criterio di arresto\n",
    "\n",
    "e restituisce in output:\n",
    "- il vettore soluzione\n",
    "- un vettore di tante componenti quanto il numero di iterazioni effettuate, contenente $ \\frac{||r^{(k)}||_2} {||b||_2}$ iterazione per iterazione\n",
    "- un array contenente le soluzioni ad ogni iterazione\n",
    "- il numero di iterazioni impiegate per calcolare la soluzione con la tolleranza richiesta\n",
    "\n",
    "Usare come criterio di arresto $ \\frac{||r^{(k)}||_2} {||b||_2} < toll$"
   ]
  },
  {
   "cell_type": "code",
   "execution_count": 21,
   "id": "de3ff6e1-48e9-4268-bb35-f3a626c9feff",
   "metadata": {},
   "outputs": [],
   "source": [
    "def conjugate_gradient(A,b,x0,itmax,tol):\n",
    "    m,n = A.shape\n",
    "    if m != n:\n",
    "        print(\"Matrice non quadrata\")\n",
    "        return [],[],[],[]\n",
    "    \n",
    "    x = x0\n",
    "    r = A@x -b\n",
    "    p = -r\n",
    "    nb = np.linalg.norm(b)  #default norma 2\n",
    "    errore = np.linalg.norm(r)/nb\n",
    "    vec_sol = []\n",
    "    vec_sol.append(x)\n",
    "    vec_err = []\n",
    "    vec_err.append(errore)\n",
    "    \n",
    "    it = 0\n",
    "    while errore>=tol and it<=itmax :\n",
    "        it = it + 1\n",
    "        Ap = A@p\n",
    "        rTr = np.dot(r.T, r)\n",
    "        alpha = rTr / np.dot(p.T, Ap)\n",
    "        x = x + alpha*p\n",
    "        vec_sol.append(x)\n",
    "        r = r + alpha*Ap\n",
    "        gamma =  np.dot(r.T, r) / rTr #rispetto al gradiente aggiungo un coefficiente gamma per calcolare la nuova direzione\n",
    "        errore = np.linalg.norm(r) / nb\n",
    "        vec_err.append(errore)\n",
    "        p = -r + gamma*p  #rispetto al gradiente cambia la direzione che non è l'antigradiente, ma viene modificata con la direzione al passo precedente per gamma\n",
    "        \n",
    "    return x, vec_err, vec_sol, it"
   ]
  },
  {
   "cell_type": "code",
   "execution_count": 53,
   "id": "cb8d9d36-c718-41c2-8e2b-eec0d7ee3b84",
   "metadata": {},
   "outputs": [
    {
     "name": "stdout",
     "output_type": "stream",
     "text": [
      "Soluzione coniugato\n",
      " [[1.]\n",
      " [1.]]\n",
      "Iterazioni:  2\n"
     ]
    },
    {
     "data": {
      "image/png": "[encoded data removed]",
      "text/plain": [
       "<Figure size 640x480 with 1 Axes>"
      ]
     },
     "metadata": {},
     "output_type": "display_data"
    }
   ],
   "source": [
    "A = np.array([[8,3], [3,14]])\n",
    "n = A.shape[0]\n",
    "b = np.sum(A, axis=1).reshape(n,1)  #somma delle colonne\n",
    "x0 = np.zeros_like(b)\n",
    "tol = 1e-8\n",
    "itmax = 500\n",
    "xC, vec_errC, vec_solC, itC = conjugate_gradient(A,b,x0,itmax,tol)\n",
    "plt.semilogy(np.arange(itC+1), vec_errC)\n",
    "print(\"Soluzione coniugato\\n\", xC)\n",
    "print(\"Iterazioni: \", itC)"
   ]
  },
  {
   "cell_type": "markdown",
   "id": "1fa4e799-9317-4477-9ea3-d6bc7bef2ee1",
   "metadata": {
    "tags": []
   },
   "source": [
    "## Esercizio 3\n",
    "Scrivere una funzione creaPoisson(n) che preso in input l'ordine della matrice quadrata di Poisson la costruzione secondo la seguente formula:\n",
    "$$A =\n",
    "\\left [\n",
    "\\begin{array}{ccccccccccc}\n",
    "4 & -1 & 0 & -1 &0 &0 & 0& 0& \\cdots &   0 & 0\\\\\n",
    "-1 & 4 & -1 & 0  &-1 &0 & 0& 0& \\cdots &   0 & 0\\\\\n",
    "0 & -1 & 4 & -1  &0 &-1 & 0& 0& \\cdots &   0 & 0 \\\\\n",
    "-1 & 0 & -1 & 4  &-1 &0  & -1 & 0& \\cdots &   0 & 0\\\\\n",
    "0 & -1 & 0 & -1  & 4 &-1 & 0 & -1& \\cdots &   0 & 0\\\\\n",
    "0 & 0 & -1 & 0  & -1 &4 & -1 & 0&  -1 & 0 & 0 \\\\\n",
    "0 & 0 & 0 & \\ddots  & 0 &\\ddots & \\ddots & \\ddots& \\ddots & \\ddots & 0\\\\\n",
    "0 & 0 & 0 & 0  & -1 &0  & -1 & 4& -1 &   0& -1\\\\\n",
    "\\end{array}\n",
    " \\right ], \\qquad\n",
    "$$\n",
    "\n",
    "- Risolvere il sistema lineare Ax=b con matrice dei coefficienti A di Poisson con ordine che va da 10 a 100 con step 2,  e termine noto b scelto in maniera tale che il sistema abbia soluzione il vettore x con tutte le componenti  uguali ad 1, utilizzando  il metodo iterativo del gradiente e del gradiente coniugato  "
   ]
  },
  {
   "cell_type": "code",
   "execution_count": 40,
   "id": "95f37daa-c61b-4232-b3f0-109fbc11aa49",
   "metadata": {},
   "outputs": [],
   "source": [
    "def creaPoisson(n):\n",
    "    d = np.ones((n,))*4\n",
    "    e = -np.ones((n-1,))\n",
    "    f = -np.ones((n-3,))\n",
    "    #modifico con i vettori d,e,f la diagonale e le codiagonali\n",
    "    A = np.diag(d) + np.diag(e,1) + np.diag(e,-1) + np.diag(f,3) + np.diag(f,-3)\n",
    "    \n",
    "    return A"
   ]
  },
  {
   "cell_type": "code",
   "execution_count": 60,
   "id": "c7703ee3-5c95-4a8e-bb33-3f0bf137d440",
   "metadata": {},
   "outputs": [
    {
     "name": "stdout",
     "output_type": "stream",
     "text": [
      "fattoreR_G  0.8451732757464313\n",
      "fattoreR_C  0.5507836151333829\n",
      "fattoreR_G  0.8838154929670643\n",
      "fattoreR_C  0.6021215702817415\n",
      "fattoreR_G  0.9097472940571558\n",
      "fattoreR_C  0.6428571456457745\n",
      "fattoreR_G  0.927945223708054\n",
      "fattoreR_C  0.675991843931141\n",
      "fattoreR_G  0.9411857437203913\n",
      "fattoreR_C  0.703485346710126\n",
      "fattoreR_G  0.9511047565157278\n",
      "fattoreR_C  0.7266618198187997\n",
      "fattoreR_G  0.958721900772983\n",
      "fattoreR_C  0.7464673342705945\n",
      "fattoreR_G  0.9646950704194518\n",
      "fattoreR_C  0.7635890967813163\n",
      "fattoreR_G  0.9694637387781213\n",
      "fattoreR_C  0.7785389670041902\n",
      "fattoreR_G  0.9733303084522399\n",
      "fattoreR_C  0.7917063904667544\n",
      "fattoreR_G  0.9765081679578405\n",
      "fattoreR_C  0.8033927795472282\n",
      "fattoreR_G  0.9791513039245489\n",
      "fattoreR_C  0.8138351189713889\n",
      "fattoreR_G  0.9813730472920217\n",
      "fattoreR_C  0.823222327661089\n",
      "fattoreR_G  0.9832582778118989\n",
      "fattoreR_C  0.8317068649519881\n",
      "fattoreR_G  0.9848715685248072\n",
      "fattoreR_C  0.8394131318228903\n",
      "fattoreR_G  0.9862627389440614\n",
      "fattoreR_C  0.8464436481140536\n",
      "fattoreR_G  0.9874707168108472\n",
      "fattoreR_C  0.852883665344642\n",
      "fattoreR_G  0.9885262717009565\n",
      "fattoreR_C  0.8588046590254355\n",
      "fattoreR_G  0.9894539814496638\n",
      "fattoreR_C  0.8642670056723151\n",
      "fattoreR_G  0.990273667656889\n",
      "fattoreR_C  0.8693220584624325\n",
      "fattoreR_G  0.991001457809126\n",
      "fattoreR_C  0.874013773540823\n",
      "fattoreR_G  0.9916505809100631\n",
      "fattoreR_C  0.8783799965813758\n",
      "fattoreR_G  0.9922319703133987\n",
      "fattoreR_C  0.8824534896719765\n",
      "fattoreR_G  0.9927547253137844\n",
      "fattoreR_C  0.886262757716449\n",
      "fattoreR_G  0.9932264680579272\n",
      "fattoreR_C  0.889832718604506\n",
      "fattoreR_G  0.9936536220331202\n",
      "fattoreR_C  0.8931852505742118\n",
      "fattoreR_G  0.9940416312120599\n",
      "fattoreR_C  0.896339642257449\n",
      "fattoreR_G  0.994395133869005\n",
      "fattoreR_C  0.8993129650234656\n",
      "fattoreR_G  0.9947181014680129\n",
      "fattoreR_C  0.9021203828416292\n",
      "fattoreR_G  0.9950139504157964\n",
      "fattoreR_C  0.904775411568184\n",
      "fattoreR_G  0.9952856325701207\n",
      "fattoreR_C  0.9072901370370581\n",
      "fattoreR_G  0.9955357089947446\n",
      "fattoreR_C  0.9096753993971423\n",
      "fattoreR_G  0.9957664104119227\n",
      "fattoreR_C  0.9119409496398916\n",
      "fattoreR_G  0.9959796870242257\n",
      "fattoreR_C  0.9140955830937728\n",
      "fattoreR_G  0.9961772497888245\n",
      "fattoreR_C  0.9161472537466081\n",
      "fattoreR_G  0.9963606047793385\n",
      "fattoreR_C  0.9181031725342713\n",
      "fattoreR_G  0.9965310819268229\n",
      "fattoreR_C  0.9199698921601387\n",
      "fattoreR_G  0.9966898591662944\n",
      "fattoreR_C  0.9217533805513981\n",
      "fattoreR_G  0.9968379828091161\n",
      "fattoreR_C  0.9234590846899787\n",
      "fattoreR_G  0.9969763848004584\n",
      "fattoreR_C  0.9250919862586403\n",
      "fattoreR_G  0.9971058973943132\n",
      "fattoreR_C  0.9266566503012839\n",
      "fattoreR_G  0.9972272656783352\n",
      "fattoreR_C  0.9281572679001024\n",
      "fattoreR_G  0.9973411583010523\n",
      "fattoreR_C  0.9295976937107181\n",
      "fattoreR_G  0.9974481766903073\n",
      "fattoreR_C  0.9309814790641908\n",
      "fattoreR_G  0.9975488630005954\n",
      "fattoreR_C  0.9323119012349956\n",
      "fattoreR_G  0.9976437069856917\n",
      "fattoreR_C  0.9335919893834761\n"
     ]
    },
    {
     "data": {
      "text/plain": [
       "[<matplotlib.lines.Line2D at 0x165fb2b38e0>,\n",
       " <matplotlib.lines.Line2D at 0x165fb2b3760>]"
      ]
     },
     "execution_count": 60,
     "metadata": {},
     "output_type": "execute_result"
    },
    {
     "data": {
      "image/png": "[encoded data removed]",
      "text/plain": [
       "<Figure size 640x480 with 1 Axes>"
      ]
     },
     "metadata": {},
     "output_type": "display_data"
    }
   ],
   "source": [
    "for i in range(10,101,2):\n",
    "    A2 = creaPoisson(i)\n",
    "    n = A2.shape[0]\n",
    "    b = np.sum(A2, axis=1).reshape(n,1)  #somma delle colonne\n",
    "    x0 = np.zeros_like(b)\n",
    "    tol = 1e-8\n",
    "    itmax = 6500\n",
    "    xG, vec_errG, vec_solG, itG = steepestdescent(A2,b,x0,itmax,tol)\n",
    "    xC, vec_errC, vec_solC, itC = conjugate_gradient(A2,b,x0,itmax,tol)\n",
    "    #print(\"Soluzione gradiente\\n\", xG)\n",
    "    #print(\"Soluzione coniugato\\n\", xC)\n",
    "    fattoreR_G = ((np.linalg.cond(A2))-1) / ((np.linalg.cond(A2))+1)\n",
    "    fattoreR_C = ((np.sqrt(np.linalg.cond(A2)))-1) / ((np.sqrt(np.linalg.cond(A2)))+1)\n",
    "    print(\"fattoreR_G \", fattoreR_G)\n",
    "    print(\"fattoreR_C \", fattoreR_C)\n",
    "plt.semilogy(np.arange(itG+1), vec_errG, np.arange(itC+1), vec_errC)"
   ]
  },
  {
   "cell_type": "markdown",
   "id": "39a8e883-20ae-44d7-960b-7e0727f94298",
   "metadata": {},
   "source": [
    "## Esercizio 4\n",
    "Consideriamo il sistema lineare Ax=b  dov A è  la matrice di Hilbert di dimensione 5, costruita usando la funzione hilbert(n) di scipy.linalg (A=scipy.linalg.hilbert(5)) in modo tale che la soluzione esatta sia $x = (1, 1, . . . , 1)^T$ .\n",
    "Risolvere il sistema lineare usando sia il metodi del gradiente che il metodo del gradiente coniugato e confrontarne gli errori ad ogni iterazione."
   ]
  },
  {
   "cell_type": "markdown",
   "id": "a93dd8c4-27ea-41ea-b359-fe06d4f9d585",
   "metadata": {},
   "source": [
    "## Esercizio 5\n",
    "Importare il file creaG ed utilizzare le funzioni sottospecificate per creare, scelto $n$,  una matrice D di ordine $m=(n-2)^2$\n",
    "\n",
    "*import creaG*\n",
    "\n",
    "*G = creaG.numgrid(n)*\n",
    "\n",
    "*D = creaG.delsq(G).todense().getA()*\n",
    "\n",
    "Risolvere il sistema lineare Dx=b, con matrice G di ordine m=16 ed ordine m=400, (scegliere n in maniera opportuna), usando i metodi del gradiente e del gradiente coniugato. Confrontare gli errori su uno stesso grafico e giustifcare i risultati alla luce del risultato teorico della maggiorazione dell'errore per entrambi i metodi"
   ]
  },
  {
   "cell_type": "code",
   "execution_count": null,
   "id": "12773dbb-c937-4b92-afd5-ff60f1e826f2",
   "metadata": {},
   "outputs": [],
   "source": []
  },
  {
   "cell_type": "code",
   "execution_count": null,
   "id": "f478877a-5cb9-4765-bc6e-922fa12e91fb",
   "metadata": {},
   "outputs": [],
   "source": []
  },
  {
   "cell_type": "code",
   "execution_count": null,
   "id": "ffb21e16-b3b2-4aad-b332-2afee11e8a58",
   "metadata": {},
   "outputs": [],
   "source": []
  },
  {
   "cell_type": "code",
   "execution_count": null,
   "id": "41b2d491-840f-4909-8865-43d1056b95c3",
   "metadata": {},
   "outputs": [],
   "source": []
  }
 ],
 "metadata": {
  "kernelspec": {
   "display_name": "Python 3 (ipykernel)",
   "language": "python",
   "name": "python3"
  },
  "language_info": {
   "codemirror_mode": {
    "name": "ipython",
    "version": 3
   },
   "file_extension": ".py",
   "mimetype": "text/x-python",
   "name": "python",
   "nbconvert_exporter": "python",
   "pygments_lexer": "ipython3",
   "version": "3.8.15"
  }
 },
 "nbformat": 4,
 "nbformat_minor": 5
}
