{
 "cells": [
  {
   "cell_type": "markdown",
   "id": "498aa83d-7a0b-4015-950d-309c7284a836",
   "metadata": {},
   "source": [
    "## Esercitazione di potenziamento del 30 Maggio 2023"
   ]
  },
  {
   "cell_type": "markdown",
   "id": "c36bfdae-c6a9-4c3a-ac7b-4779d9567e0d",
   "metadata": {},
   "source": [
    "## Esercizio 1"
   ]
  },
  {
   "cell_type": "markdown",
   "id": "919fb260-f93b-4613-89a1-5e8d93f65822",
   "metadata": {},
   "source": [
    "-   Valutare in aritmetica floating point l'espressione\n",
    "$$f(x)=\\frac{1}{x}-\\frac{1}{(x+0.04)}$$  nel vettore   $x=[10^0, 10^1,... ,10^{20}]$ contenente potenze successive  di $10$. \n",
    "\n",
    "                                                [1 punto]\n",
    "- Calcolare l'indice di condizionamente del problema di valutare la funzione $f(x)$ al variare x e dedurre a partire da quale valore di x esso  assume valori molto elevati. Dire cosa rappresenta l'indice di condizionamento di un problema e dire cosa misura. \n",
    "\n",
    "                                                [5 punti]\n",
    "\n",
    "- Calcolare $f(x)$ per il valore di x precedente  a quello individuato dal punto precedente. perturbare questo x del 10% ed indicarlo con xp. Calcolare l'errore relativo di xp rispetto ad x. Cosa si ottiene\n",
    "\n",
    "                                                [1 punto]\n",
    "    \n",
    "- Determinare se la funzione $f(x)$ è numericamente stabile? E nel caso non lo sia individuare la causa della sua instabilità.\n",
    "\n",
    "                                                [2 punti]\n",
    " \n",
    "- Fornire una formula alternativa $g(x)$ algebricamente equivalente ma numericamente più stabile. \n",
    "\n",
    "                                                 [2 punti]\n",
    "- Calcolare l'errore relativo della funzione $f(x)$ rispetto alla funzione $g(x)$ e visuarlo graficamente in scla logaritmica sia sulle ascisse che sulle ordinate\n",
    "\n",
    "                                                [1 punto]"
   ]
  },
  {
   "cell_type": "raw",
   "id": "005f7607-ff70-43fb-87ba-ebfca2816b5c",
   "metadata": {},
   "source": [
    "Il condizionamento consiste in una misura quantitativa di come la soluzione di un problema venga influenzata da una perturbazione dei dati. Il condizionamento è legato al problema numerico e non ha legami con gli errori di arrotondamento nè con l'algoritmo."
   ]
  },
  {
   "cell_type": "code",
   "execution_count": 16,
   "id": "358aa2e5-7c32-4a9a-9440-58fd1863372c",
   "metadata": {},
   "outputs": [],
   "source": [
    "import numpy as np\n",
    "import sympy as sym\n",
    "from sympy.utilities.lambdify import lambdify\n",
    "import matplotlib.pyplot as plt"
   ]
  },
  {
   "cell_type": "code",
   "execution_count": 18,
   "id": "2188ac31-6497-45d8-a69a-cd0700d6ed15",
   "metadata": {},
   "outputs": [
    {
     "name": "stdout",
     "output_type": "stream",
     "text": [
      "K =  [1.96153846 1.99601594 1.99960016 1.99996    1.999996   1.9999996\n",
      " 1.99999996 2.00000006 1.99999999 2.00000257 2.00000086 2.00052087\n",
      " 2.00731911 1.98035137 2.13162821        inf        inf        inf\n",
      "        nan        nan        nan]\n"
     ]
    },
    {
     "name": "stderr",
     "output_type": "stream",
     "text": [
      "C:\\Users\\Utente\\AppData\\Local\\Temp\\ipykernel_5688\\2458856582.py:16: RuntimeWarning: divide by zero encountered in true_divide\n",
      "  k = np.abs((df_numerica(vet_x)*vet_x)/f_numerica(vet_x))\n",
      "C:\\Users\\Utente\\AppData\\Local\\Temp\\ipykernel_5688\\2458856582.py:16: RuntimeWarning: invalid value encountered in true_divide\n",
      "  k = np.abs((df_numerica(vet_x)*vet_x)/f_numerica(vet_x))\n"
     ]
    },
    {
     "data": {
      "text/plain": [
       "[<matplotlib.lines.Line2D at 0x20e4f71df10>]"
      ]
     },
     "execution_count": 18,
     "metadata": {},
     "output_type": "execute_result"
    },
    {
     "data": {
      "image/png": "[encoded data removed]",
      "text/plain": [
       "<Figure size 640x480 with 1 Axes>"
      ]
     },
     "metadata": {},
     "output_type": "display_data"
    }
   ],
   "source": [
    "#Sintassi per calcolare la derivata simbolica di una funzione f rispetto alla variabile s\n",
    "s = sym.symbols('s')\n",
    "#Scriviamo la formula di f usando s, così anche f risulta simbolica\n",
    "f = (1/s) - (1/(s+0.04))\n",
    "i = np.arange(0,21)\n",
    "vet_x = np.array(10.0**i)\n",
    "\n",
    "dfs = sym.diff(f, s, 1)\n",
    "\n",
    "f_x = f.subs(s, 10**i)\n",
    "dfs_x = dfs.subs(s, 10**i)\n",
    "\n",
    "f_numerica = lambdify(s, f_x, np)\n",
    "df_numerica = lambdify(s, dfs_x, np)\n",
    "    \n",
    "k = np.abs((df_numerica(vet_x)*vet_x)/f_numerica(vet_x))\n",
    "print(\"K = \", k)\n",
    "\n",
    "plt.plot(vet_x, k)"
   ]
  },
  {
   "cell_type": "code",
   "execution_count": 22,
   "id": "050a8fd4-7459-48c2-bfb3-81620b121306",
   "metadata": {},
   "outputs": [
    {
     "name": "stdout",
     "output_type": "stream",
     "text": [
      "1.00000000000000\n"
     ]
    }
   ],
   "source": [
    "x = 10**14\n",
    "xp = x + 0.1*x\n",
    "f_xp = f.subs(s, xp)\n",
    "err_rel = np.abs((f_xp-x)/x)\n",
    "print(err_rel)"
   ]
  },
  {
   "cell_type": "markdown",
   "id": "6889498e-b2a3-4daf-a34e-5110f86e32ee",
   "metadata": {},
   "source": [
    "## Esercizo 2\n",
    "Si consideri il sistema lineare Ax=b, con A matrice e b termine noto memorizzati nel file ``testC.mat.mat``.  Risolvere il sistema utilizzando il metodo più adatto al problema proposto. Argomentare dal punto di vista teorico la scelta fatta e commentare i risultati ottenuti  giustificandoli alla luce della teoria. \n",
    "\n",
    "\n",
    "La soluzione esatta del sistema lineare è il vettore x=[1,1,1,1...1 1].\n",
    "\n",
    "Per la lettura dei dati procedere nel seguente modo:\n",
    "\n",
    "``from scipy.io import loadmat``\n",
    "\n",
    "``import numpy as np``\n",
    "\n",
    "``dati = loadmat('testC.mat')``\n",
    "\n",
    "``A=dati[\"A\"] ``\n",
    "\n",
    "`` b=dati[\"b\"] ``\n",
    "\n",
    "\n",
    "                                                       \n",
    "                                               [13 punti]"
   ]
  },
  {
   "cell_type": "code",
   "execution_count": 29,
   "id": "d9addba3-eb59-48b9-81bd-71f6ce99ac21",
   "metadata": {},
   "outputs": [
    {
     "name": "stdout",
     "output_type": "stream",
     "text": [
      "(34, 34) La matrice non è di grandi dimensioni\n",
      "La matrice non è sparsa\n"
     ]
    }
   ],
   "source": [
    "from scipy.io import loadmat\n",
    "dati = loadmat('testC.mat')\n",
    "A = dati[\"A\"]\n",
    "b = dati[\"b\"]\n",
    "\n",
    "if A.shape[0] > 100:\n",
    "    print(\"La matrice è di grandi dimensioni\")\n",
    "else:\n",
    "    print(A.shape, \"La matrice non è di grandi dimensioni\")\n",
    "if (np.count_nonzero(A)/(A.shape[0]**2)) > 0.33:\n",
    "    print(\"La matrice non è sparsa\")"
   ]
  },
  {
   "cell_type": "code",
   "execution_count": null,
   "id": "5588411b-44bf-4247-b34b-f9ee489fb8af",
   "metadata": {},
   "outputs": [],
   "source": []
  }
 ],
 "metadata": {
  "kernelspec": {
   "display_name": "Python 3 (ipykernel)",
   "language": "python",
   "name": "python3"
  },
  "language_info": {
   "codemirror_mode": {
    "name": "ipython",
    "version": 3
   },
   "file_extension": ".py",
   "mimetype": "text/x-python",
   "name": "python",
   "nbconvert_exporter": "python",
   "pygments_lexer": "ipython3",
   "version": "3.9.13"
  }
 },
 "nbformat": 4,
 "nbformat_minor": 5
}
